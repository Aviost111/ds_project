{
 "cells": [
  {
   "cell_type": "markdown",
   "metadata": {},
   "source": [
    "# Glassdoor Salary Prediction Project"
   ]
  },
  {
   "cell_type": "markdown",
   "metadata": {
    "scrolled": true
   },
   "source": [
    "As our very first data science project, we have decided to dedicate it to the anticipation of our future in the data science field. In this project, we will be evaluating data science job opportunities in the United States; specifically, we will be prediciting the salaries of different positions depending on several factors. In this way, we could best prepare ourselves for the job opportunities to come (yes, we are optimistic people); in the sense that we will find out which factors play the most important roles and what salaries we should expect, and perhaps we will find more surprises along the way. "
   ]
  },
  {
   "cell_type": "markdown",
   "metadata": {},
   "source": [
    "# Procedure:"
   ]
  },
  {
   "cell_type": "markdown",
   "metadata": {},
   "source": [
    "1. Harvesting the Data\n",
    "2. Getting a Deeper Understanding of the Data\n",
    "3. Cleaning/Preparing the Data\n",
    "4. Testing Different Models \n",
    "5. Fine-Tuning to Create the Best Model\n",
    "6. Finally: Testing our Model\n"
   ]
  },
  {
   "cell_type": "markdown",
   "metadata": {},
   "source": [
    "# Notes for us:\n",
    "Models: LinearRegression(), DecisionTreeRegressor(), RandomForestRegressor()\n",
    "\n",
    "For Cleaning:\n",
    "\n",
    "Cleaning up the Salaries:\n",
    "get rid of anything other than the numeric values, get the average of the range; remove any of the estimates that have -1 \n",
    "in there. when we get rid of the -1, we just save the data frame as a dataframe without the -1 in that column.\n",
    "when we get rid of any non-numeric salary, we use lamda function to replace them with an empty string.\n",
    "we also need to take care of hourly wages & employer provided salaries.\n",
    "first we create new columns for hourly wages & employer provided salaries.\n",
    "to get the avg of the range, we will first separate the min & max thru a lambda split function\n",
    "\n",
    "\n",
    "Company Name: get rid of number\n",
    "\n",
    "Location: split out state\n",
    "\n",
    "Founded: format it to a numeric value to age of company\n",
    "\n",
    "Job Description: using the parts that are meaningful to us\n"
   ]
  },
  {
   "cell_type": "code",
   "execution_count": null,
   "metadata": {},
   "outputs": [],
   "source": []
  },
  {
   "cell_type": "code",
   "execution_count": null,
   "metadata": {},
   "outputs": [],
   "source": []
  }
 ],
 "metadata": {
  "kernelspec": {
   "display_name": "Python 3",
   "language": "python",
   "name": "python3"
  },
  "language_info": {
   "codemirror_mode": {
    "name": "ipython",
    "version": 3
   },
   "file_extension": ".py",
   "mimetype": "text/x-python",
   "name": "python",
   "nbconvert_exporter": "python",
   "pygments_lexer": "ipython3",
   "version": "3.8.3"
  }
 },
 "nbformat": 4,
 "nbformat_minor": 4
}
