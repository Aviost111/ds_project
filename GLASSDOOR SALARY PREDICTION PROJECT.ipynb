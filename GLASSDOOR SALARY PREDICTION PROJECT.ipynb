{
 "cells": [
  {
   "cell_type": "markdown",
   "metadata": {},
   "source": [
    "# Glassdoor Salary Prediction Project"
   ]
  },
  {
   "cell_type": "markdown",
   "metadata": {
    "scrolled": true
   },
   "source": [
    "As our very first data science project, we have decided to dedicate it to the anticipation of our future in the data science field. In this project, we will be evaluating data science job opportunities in the United States; specifically, we will be prediciting the salaries of different positions depending on several factors. In this way, we could best prepare ourselves for the job opportunities to come (yes, we are optimistic people); in the sense that we will find out which factors play the most important roles and what salaries we should expect, and perhaps we will find more surprises along the way. "
   ]
  },
  {
   "cell_type": "markdown",
   "metadata": {},
   "source": [
    "# Procedure:"
   ]
  },
  {
   "cell_type": "markdown",
   "metadata": {},
   "source": [
    "1. Harvesting the Data\n",
    "2. Getting a Deeper Understanding of the Data\n",
    "3. Cleaning/Preparing the Data\n",
    "4. Testing Different Models \n",
    "5. Fine-Tuning to Create the Best Model\n",
    "6. Finally: Testing our Model\n"
   ]
  },
  {
   "cell_type": "markdown",
   "metadata": {},
   "source": [
    "# Notes for us:\n",
    "Models: LinearRegression(), DecisionTreeRegressor(), RandomForestRegressor()"
   ]
  },
  {
   "cell_type": "code",
   "execution_count": null,
   "metadata": {},
   "outputs": [],
   "source": []
  },
  {
   "cell_type": "code",
   "execution_count": null,
   "metadata": {},
   "outputs": [],
   "source": []
  }
 ],
 "metadata": {
  "kernelspec": {
   "display_name": "Python 3",
   "language": "python",
   "name": "python3"
  },
  "language_info": {
   "codemirror_mode": {
    "name": "ipython",
    "version": 3
   },
   "file_extension": ".py",
   "mimetype": "text/x-python",
   "name": "python",
   "nbconvert_exporter": "python",
   "pygments_lexer": "ipython3",
   "version": "3.8.3"
  }
 },
 "nbformat": 4,
 "nbformat_minor": 4
}
