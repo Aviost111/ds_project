{
 "cells": [
  {
   "cell_type": "code",
   "execution_count": 1,
   "metadata": {},
   "outputs": [],
   "source": [
    "import pandas as pd\n",
    "import matplotlib.pyplot as plt\n",
    "import seaborn as sns"
   ]
  },
  {
   "cell_type": "code",
   "execution_count": 2,
   "metadata": {},
   "outputs": [
    {
     "data": {
      "text/html": [
       "<div>\n",
       "<style scoped>\n",
       "    .dataframe tbody tr th:only-of-type {\n",
       "        vertical-align: middle;\n",
       "    }\n",
       "\n",
       "    .dataframe tbody tr th {\n",
       "        vertical-align: top;\n",
       "    }\n",
       "\n",
       "    .dataframe thead th {\n",
       "        text-align: right;\n",
       "    }\n",
       "</style>\n",
       "<table border=\"1\" class=\"dataframe\">\n",
       "  <thead>\n",
       "    <tr style=\"text-align: right;\">\n",
       "      <th></th>\n",
       "      <th>Job Title</th>\n",
       "      <th>Salary Estimate</th>\n",
       "      <th>Job Description</th>\n",
       "      <th>Rating</th>\n",
       "      <th>Company Name</th>\n",
       "      <th>Location</th>\n",
       "      <th>Headquarters</th>\n",
       "      <th>Size</th>\n",
       "      <th>Founded</th>\n",
       "      <th>Type of ownership</th>\n",
       "      <th>...</th>\n",
       "      <th>Is_Headquarters</th>\n",
       "      <th>Age of Company</th>\n",
       "      <th>Python</th>\n",
       "      <th>Spark</th>\n",
       "      <th>AWS</th>\n",
       "      <th>Excel</th>\n",
       "      <th>Job Categories</th>\n",
       "      <th>Seniority</th>\n",
       "      <th>Description_Length</th>\n",
       "      <th>Competitor Count</th>\n",
       "    </tr>\n",
       "  </thead>\n",
       "  <tbody>\n",
       "    <tr>\n",
       "      <th>318</th>\n",
       "      <td>Sr. Data Scientist, Cyber-Security LT Contract</td>\n",
       "      <td>$116K-$194K (Glassdoor est.)</td>\n",
       "      <td>SUMMARYSenior Data Scientist will assist the c...</td>\n",
       "      <td>3.2</td>\n",
       "      <td>Numeric, LLC</td>\n",
       "      <td>Phila, PA</td>\n",
       "      <td>Chadds Ford, PA</td>\n",
       "      <td>1 to 50 employees</td>\n",
       "      <td>-1</td>\n",
       "      <td>Company - Private</td>\n",
       "      <td>...</td>\n",
       "      <td>0</td>\n",
       "      <td>-1</td>\n",
       "      <td>1</td>\n",
       "      <td>1</td>\n",
       "      <td>1</td>\n",
       "      <td>1</td>\n",
       "      <td>Data Scientist</td>\n",
       "      <td>Senior</td>\n",
       "      <td>208</td>\n",
       "      <td>0</td>\n",
       "    </tr>\n",
       "    <tr>\n",
       "      <th>533</th>\n",
       "      <td>Director Data Science</td>\n",
       "      <td>$124K-$199K (Glassdoor est.)</td>\n",
       "      <td>We’re looking for a director to drive our data...</td>\n",
       "      <td>3.6</td>\n",
       "      <td>TRANZACT</td>\n",
       "      <td>Fort Lee, NJ</td>\n",
       "      <td>Fort Lee, NJ</td>\n",
       "      <td>1001 to 5000 employees</td>\n",
       "      <td>1989</td>\n",
       "      <td>Company - Private</td>\n",
       "      <td>...</td>\n",
       "      <td>1</td>\n",
       "      <td>33</td>\n",
       "      <td>1</td>\n",
       "      <td>0</td>\n",
       "      <td>1</td>\n",
       "      <td>1</td>\n",
       "      <td>Director</td>\n",
       "      <td>NaN</td>\n",
       "      <td>753</td>\n",
       "      <td>0</td>\n",
       "    </tr>\n",
       "    <tr>\n",
       "      <th>539</th>\n",
       "      <td>Senior Scientist - Biostatistician</td>\n",
       "      <td>$65K-$96K (Glassdoor est.)</td>\n",
       "      <td>British American Tobacco\\r\\nReynolds American ...</td>\n",
       "      <td>3.1</td>\n",
       "      <td>Reynolds American</td>\n",
       "      <td>Winston-Salem, NC</td>\n",
       "      <td>Winston-Salem, NC</td>\n",
       "      <td>5001 to 10000 employees</td>\n",
       "      <td>1875</td>\n",
       "      <td>Company - Private</td>\n",
       "      <td>...</td>\n",
       "      <td>1</td>\n",
       "      <td>147</td>\n",
       "      <td>0</td>\n",
       "      <td>0</td>\n",
       "      <td>0</td>\n",
       "      <td>1</td>\n",
       "      <td>Data Analyst</td>\n",
       "      <td>Senior</td>\n",
       "      <td>698</td>\n",
       "      <td>0</td>\n",
       "    </tr>\n",
       "    <tr>\n",
       "      <th>653</th>\n",
       "      <td>Data Engineer - Consultant (Charlotte Based)</td>\n",
       "      <td>$59K-$112K (Glassdoor est.)</td>\n",
       "      <td>Do YOU love working with Data in machine learn...</td>\n",
       "      <td>4.2</td>\n",
       "      <td>Clarity Insights</td>\n",
       "      <td>Charlotte, NC</td>\n",
       "      <td>Chicago, IL</td>\n",
       "      <td>201 to 500 employees</td>\n",
       "      <td>2008</td>\n",
       "      <td>Company - Private</td>\n",
       "      <td>...</td>\n",
       "      <td>0</td>\n",
       "      <td>14</td>\n",
       "      <td>1</td>\n",
       "      <td>0</td>\n",
       "      <td>0</td>\n",
       "      <td>1</td>\n",
       "      <td>Data Engineer</td>\n",
       "      <td>NaN</td>\n",
       "      <td>765</td>\n",
       "      <td>0</td>\n",
       "    </tr>\n",
       "    <tr>\n",
       "      <th>586</th>\n",
       "      <td>Data Scientist</td>\n",
       "      <td>$108K-$171K (Glassdoor est.)</td>\n",
       "      <td>Advanced degree in Data Science Statistics Com...</td>\n",
       "      <td>3.5</td>\n",
       "      <td>e-IT Professionals Corp.</td>\n",
       "      <td>Foster City, CA</td>\n",
       "      <td>Canton, MI</td>\n",
       "      <td>51 to 200 employees</td>\n",
       "      <td>-1</td>\n",
       "      <td>Company - Private</td>\n",
       "      <td>...</td>\n",
       "      <td>0</td>\n",
       "      <td>-1</td>\n",
       "      <td>1</td>\n",
       "      <td>0</td>\n",
       "      <td>0</td>\n",
       "      <td>0</td>\n",
       "      <td>Data Scientist</td>\n",
       "      <td>NaN</td>\n",
       "      <td>158</td>\n",
       "      <td>0</td>\n",
       "    </tr>\n",
       "    <tr>\n",
       "      <th>...</th>\n",
       "      <td>...</td>\n",
       "      <td>...</td>\n",
       "      <td>...</td>\n",
       "      <td>...</td>\n",
       "      <td>...</td>\n",
       "      <td>...</td>\n",
       "      <td>...</td>\n",
       "      <td>...</td>\n",
       "      <td>...</td>\n",
       "      <td>...</td>\n",
       "      <td>...</td>\n",
       "      <td>...</td>\n",
       "      <td>...</td>\n",
       "      <td>...</td>\n",
       "      <td>...</td>\n",
       "      <td>...</td>\n",
       "      <td>...</td>\n",
       "      <td>...</td>\n",
       "      <td>...</td>\n",
       "      <td>...</td>\n",
       "      <td>...</td>\n",
       "    </tr>\n",
       "    <tr>\n",
       "      <th>857</th>\n",
       "      <td>Data Engineer</td>\n",
       "      <td>$57K-$80K (Glassdoor est.)</td>\n",
       "      <td>Position Summary:\\r\\n\\r\\nThe Data Engineer wil...</td>\n",
       "      <td>3.5</td>\n",
       "      <td>Saama Technologies Inc</td>\n",
       "      <td>Phoenix, AZ</td>\n",
       "      <td>Campbell, CA</td>\n",
       "      <td>501 to 1000 employees</td>\n",
       "      <td>1997</td>\n",
       "      <td>Company - Private</td>\n",
       "      <td>...</td>\n",
       "      <td>0</td>\n",
       "      <td>25</td>\n",
       "      <td>1</td>\n",
       "      <td>1</td>\n",
       "      <td>0</td>\n",
       "      <td>0</td>\n",
       "      <td>Data Engineer</td>\n",
       "      <td>NaN</td>\n",
       "      <td>151</td>\n",
       "      <td>3</td>\n",
       "    </tr>\n",
       "    <tr>\n",
       "      <th>79</th>\n",
       "      <td>Director, Data Science</td>\n",
       "      <td>$139K-$220K (Glassdoor est.)</td>\n",
       "      <td>Reporting to the Sr. Director, Analytics &amp; Dat...</td>\n",
       "      <td>3.6</td>\n",
       "      <td>Grainger</td>\n",
       "      <td>Lake Forest, IL</td>\n",
       "      <td>Lake Forest, IL</td>\n",
       "      <td>10000+ employees</td>\n",
       "      <td>1927</td>\n",
       "      <td>Company - Public</td>\n",
       "      <td>...</td>\n",
       "      <td>1</td>\n",
       "      <td>95</td>\n",
       "      <td>1</td>\n",
       "      <td>0</td>\n",
       "      <td>0</td>\n",
       "      <td>1</td>\n",
       "      <td>Director</td>\n",
       "      <td>NaN</td>\n",
       "      <td>370</td>\n",
       "      <td>0</td>\n",
       "    </tr>\n",
       "    <tr>\n",
       "      <th>759</th>\n",
       "      <td>Data Engineer</td>\n",
       "      <td>$57K-$109K (Glassdoor est.)</td>\n",
       "      <td>ICW Group is looking for aData Engineer who wi...</td>\n",
       "      <td>2.8</td>\n",
       "      <td>ICW Group</td>\n",
       "      <td>San Diego, CA</td>\n",
       "      <td>San Diego, CA</td>\n",
       "      <td>501 to 1000 employees</td>\n",
       "      <td>1972</td>\n",
       "      <td>Company - Private</td>\n",
       "      <td>...</td>\n",
       "      <td>1</td>\n",
       "      <td>50</td>\n",
       "      <td>0</td>\n",
       "      <td>0</td>\n",
       "      <td>0</td>\n",
       "      <td>0</td>\n",
       "      <td>Data Engineer</td>\n",
       "      <td>NaN</td>\n",
       "      <td>481</td>\n",
       "      <td>3</td>\n",
       "    </tr>\n",
       "    <tr>\n",
       "      <th>730</th>\n",
       "      <td>Data Modeler (Analytical Systems)</td>\n",
       "      <td>$66K-$117K (Glassdoor est.)</td>\n",
       "      <td>At MassMutual, were passionate about helping m...</td>\n",
       "      <td>3.6</td>\n",
       "      <td>MassMutual</td>\n",
       "      <td>Boston, MA</td>\n",
       "      <td>Springfield, MA</td>\n",
       "      <td>5001 to 10000 employees</td>\n",
       "      <td>1851</td>\n",
       "      <td>Company - Private</td>\n",
       "      <td>...</td>\n",
       "      <td>0</td>\n",
       "      <td>171</td>\n",
       "      <td>0</td>\n",
       "      <td>1</td>\n",
       "      <td>1</td>\n",
       "      <td>1</td>\n",
       "      <td>Other</td>\n",
       "      <td>NaN</td>\n",
       "      <td>541</td>\n",
       "      <td>0</td>\n",
       "    </tr>\n",
       "    <tr>\n",
       "      <th>117</th>\n",
       "      <td>Senior Data Scientist</td>\n",
       "      <td>$200K-$275K(Employer est.)</td>\n",
       "      <td>Who we want:\\r\\nAre you committed to using you...</td>\n",
       "      <td>4.2</td>\n",
       "      <td>Gallup</td>\n",
       "      <td>Washington, DC</td>\n",
       "      <td>Washington, DC</td>\n",
       "      <td>1001 to 5000 employees</td>\n",
       "      <td>1935</td>\n",
       "      <td>Company - Private</td>\n",
       "      <td>...</td>\n",
       "      <td>1</td>\n",
       "      <td>87</td>\n",
       "      <td>1</td>\n",
       "      <td>0</td>\n",
       "      <td>0</td>\n",
       "      <td>1</td>\n",
       "      <td>Data Scientist</td>\n",
       "      <td>Senior</td>\n",
       "      <td>456</td>\n",
       "      <td>3</td>\n",
       "    </tr>\n",
       "  </tbody>\n",
       "</table>\n",
       "<p>593 rows × 29 columns</p>\n",
       "</div>"
      ],
      "text/plain": [
       "                                          Job Title  \\\n",
       "318  Sr. Data Scientist, Cyber-Security LT Contract   \n",
       "533                           Director Data Science   \n",
       "539              Senior Scientist - Biostatistician   \n",
       "653    Data Engineer - Consultant (Charlotte Based)   \n",
       "586                                  Data Scientist   \n",
       "..                                              ...   \n",
       "857                                   Data Engineer   \n",
       "79                           Director, Data Science   \n",
       "759                                   Data Engineer   \n",
       "730               Data Modeler (Analytical Systems)   \n",
       "117                           Senior Data Scientist   \n",
       "\n",
       "                  Salary Estimate  \\\n",
       "318  $116K-$194K (Glassdoor est.)   \n",
       "533  $124K-$199K (Glassdoor est.)   \n",
       "539    $65K-$96K (Glassdoor est.)   \n",
       "653   $59K-$112K (Glassdoor est.)   \n",
       "586  $108K-$171K (Glassdoor est.)   \n",
       "..                            ...   \n",
       "857    $57K-$80K (Glassdoor est.)   \n",
       "79   $139K-$220K (Glassdoor est.)   \n",
       "759   $57K-$109K (Glassdoor est.)   \n",
       "730   $66K-$117K (Glassdoor est.)   \n",
       "117    $200K-$275K(Employer est.)   \n",
       "\n",
       "                                       Job Description  Rating  \\\n",
       "318  SUMMARYSenior Data Scientist will assist the c...     3.2   \n",
       "533  We’re looking for a director to drive our data...     3.6   \n",
       "539  British American Tobacco\\r\\nReynolds American ...     3.1   \n",
       "653  Do YOU love working with Data in machine learn...     4.2   \n",
       "586  Advanced degree in Data Science Statistics Com...     3.5   \n",
       "..                                                 ...     ...   \n",
       "857  Position Summary:\\r\\n\\r\\nThe Data Engineer wil...     3.5   \n",
       "79   Reporting to the Sr. Director, Analytics & Dat...     3.6   \n",
       "759  ICW Group is looking for aData Engineer who wi...     2.8   \n",
       "730  At MassMutual, were passionate about helping m...     3.6   \n",
       "117  Who we want:\\r\\nAre you committed to using you...     4.2   \n",
       "\n",
       "                 Company Name           Location       Headquarters  \\\n",
       "318              Numeric, LLC          Phila, PA    Chadds Ford, PA   \n",
       "533                  TRANZACT       Fort Lee, NJ       Fort Lee, NJ   \n",
       "539         Reynolds American  Winston-Salem, NC  Winston-Salem, NC   \n",
       "653          Clarity Insights      Charlotte, NC        Chicago, IL   \n",
       "586  e-IT Professionals Corp.    Foster City, CA         Canton, MI   \n",
       "..                        ...                ...                ...   \n",
       "857    Saama Technologies Inc        Phoenix, AZ       Campbell, CA   \n",
       "79                   Grainger    Lake Forest, IL    Lake Forest, IL   \n",
       "759                 ICW Group      San Diego, CA      San Diego, CA   \n",
       "730                MassMutual         Boston, MA    Springfield, MA   \n",
       "117                    Gallup     Washington, DC     Washington, DC   \n",
       "\n",
       "                        Size  Founded  Type of ownership  ... Is_Headquarters  \\\n",
       "318        1 to 50 employees       -1  Company - Private  ...               0   \n",
       "533   1001 to 5000 employees     1989  Company - Private  ...               1   \n",
       "539  5001 to 10000 employees     1875  Company - Private  ...               1   \n",
       "653     201 to 500 employees     2008  Company - Private  ...               0   \n",
       "586      51 to 200 employees       -1  Company - Private  ...               0   \n",
       "..                       ...      ...                ...  ...             ...   \n",
       "857    501 to 1000 employees     1997  Company - Private  ...               0   \n",
       "79          10000+ employees     1927   Company - Public  ...               1   \n",
       "759    501 to 1000 employees     1972  Company - Private  ...               1   \n",
       "730  5001 to 10000 employees     1851  Company - Private  ...               0   \n",
       "117   1001 to 5000 employees     1935  Company - Private  ...               1   \n",
       "\n",
       "    Age of Company Python Spark AWS  Excel  Job Categories  Seniority  \\\n",
       "318             -1      1     1   1      1  Data Scientist     Senior   \n",
       "533             33      1     0   1      1        Director        NaN   \n",
       "539            147      0     0   0      1    Data Analyst     Senior   \n",
       "653             14      1     0   0      1   Data Engineer        NaN   \n",
       "586             -1      1     0   0      0  Data Scientist        NaN   \n",
       "..             ...    ...   ...  ..    ...             ...        ...   \n",
       "857             25      1     1   0      0   Data Engineer        NaN   \n",
       "79              95      1     0   0      1        Director        NaN   \n",
       "759             50      0     0   0      0   Data Engineer        NaN   \n",
       "730            171      0     1   1      1           Other        NaN   \n",
       "117             87      1     0   0      1  Data Scientist     Senior   \n",
       "\n",
       "    Description_Length  Competitor Count  \n",
       "318                208                 0  \n",
       "533                753                 0  \n",
       "539                698                 0  \n",
       "653                765                 0  \n",
       "586                158                 0  \n",
       "..                 ...               ...  \n",
       "857                151                 3  \n",
       "79                 370                 0  \n",
       "759                481                 3  \n",
       "730                541                 0  \n",
       "117                456                 3  \n",
       "\n",
       "[593 rows x 29 columns]"
      ]
     },
     "execution_count": 2,
     "metadata": {},
     "output_type": "execute_result"
    }
   ],
   "source": [
    "df=pd.read_csv('train_set.csv',index_col=0)\n",
    "df"
   ]
  },
  {
   "cell_type": "markdown",
   "metadata": {},
   "source": [
    "# Time to find correlations"
   ]
  },
  {
   "cell_type": "code",
   "execution_count": 3,
   "metadata": {},
   "outputs": [
    {
     "data": {
      "text/html": [
       "<div>\n",
       "<style scoped>\n",
       "    .dataframe tbody tr th:only-of-type {\n",
       "        vertical-align: middle;\n",
       "    }\n",
       "\n",
       "    .dataframe tbody tr th {\n",
       "        vertical-align: top;\n",
       "    }\n",
       "\n",
       "    .dataframe thead th {\n",
       "        text-align: right;\n",
       "    }\n",
       "</style>\n",
       "<table border=\"1\" class=\"dataframe\">\n",
       "  <thead>\n",
       "    <tr style=\"text-align: right;\">\n",
       "      <th></th>\n",
       "      <th>Age of Company</th>\n",
       "      <th>Avg Salary</th>\n",
       "      <th>Rating</th>\n",
       "      <th>Description_Length</th>\n",
       "    </tr>\n",
       "  </thead>\n",
       "  <tbody>\n",
       "    <tr>\n",
       "      <th>Age of Company</th>\n",
       "      <td>1.000000</td>\n",
       "      <td>-0.006351</td>\n",
       "      <td>-0.082665</td>\n",
       "      <td>0.155644</td>\n",
       "    </tr>\n",
       "    <tr>\n",
       "      <th>Avg Salary</th>\n",
       "      <td>-0.006351</td>\n",
       "      <td>1.000000</td>\n",
       "      <td>0.132609</td>\n",
       "      <td>0.083286</td>\n",
       "    </tr>\n",
       "    <tr>\n",
       "      <th>Rating</th>\n",
       "      <td>-0.082665</td>\n",
       "      <td>0.132609</td>\n",
       "      <td>1.000000</td>\n",
       "      <td>-0.056818</td>\n",
       "    </tr>\n",
       "    <tr>\n",
       "      <th>Description_Length</th>\n",
       "      <td>0.155644</td>\n",
       "      <td>0.083286</td>\n",
       "      <td>-0.056818</td>\n",
       "      <td>1.000000</td>\n",
       "    </tr>\n",
       "  </tbody>\n",
       "</table>\n",
       "</div>"
      ],
      "text/plain": [
       "                    Age of Company  Avg Salary    Rating  Description_Length\n",
       "Age of Company            1.000000   -0.006351 -0.082665            0.155644\n",
       "Avg Salary               -0.006351    1.000000  0.132609            0.083286\n",
       "Rating                   -0.082665    0.132609  1.000000           -0.056818\n",
       "Description_Length        0.155644    0.083286 -0.056818            1.000000"
      ]
     },
     "execution_count": 3,
     "metadata": {},
     "output_type": "execute_result"
    }
   ],
   "source": [
    "df[['Age of Company','Avg Salary','Rating','Description_Length']].corr()"
   ]
  },
  {
   "cell_type": "code",
   "execution_count": 4,
   "metadata": {},
   "outputs": [
    {
     "data": {
      "text/plain": [
       "<matplotlib.axes._subplots.AxesSubplot at 0x286f67f0640>"
      ]
     },
     "execution_count": 4,
     "metadata": {},
     "output_type": "execute_result"
    },
    {
     "data": {
      "image/png": "[encoded data removed]",
      "text/plain": [
       "<Figure size 432x288 with 2 Axes>"
      ]
     },
     "metadata": {
      "needs_background": "light"
     },
     "output_type": "display_data"
    }
   ],
   "source": [
    "cmap = sns.diverging_palette(220,10, as_cmap=True)\n",
    "sns.heatmap(df[['Avg Salary','Rating','Description_Length', 'Age of Company']].corr(), vmax =0.3, center =0, cmap=cmap, square=True, linewidths=.5, cbar_kws={\"shrink\":.5})"
   ]
  },
  {
   "cell_type": "code",
   "execution_count": 5,
   "metadata": {},
   "outputs": [
    {
     "data": {
      "text/plain": [
       "<matplotlib.axes._subplots.AxesSubplot at 0x286f67b0df0>"
      ]
     },
     "execution_count": 5,
     "metadata": {},
     "output_type": "execute_result"
    },
    {
     "data": {
      "image/png": "[encoded data removed]",
      "text/plain": [
       "<Figure size 432x288 with 2 Axes>"
      ]
     },
     "metadata": {
      "needs_background": "light"
     },
     "output_type": "display_data"
    }
   ],
   "source": [
    "cmap = sns.diverging_palette(220,10, as_cmap=True)\n",
    "sns.heatmap(df[['Avg Salary','Rating','Description_Length', 'Age of Company','Competitor Count']].corr(), vmax =0.3, center =0, cmap=cmap, square=True, linewidths=.5, cbar_kws={\"shrink\":.5})"
   ]
  },
  {
   "cell_type": "code",
   "execution_count": 6,
   "metadata": {},
   "outputs": [
    {
     "data": {
      "text/plain": [
       "Index(['Job Title', 'Salary Estimate', 'Job Description', 'Rating',\n",
       "       'Company Name', 'Location', 'Headquarters', 'Size', 'Founded',\n",
       "       'Type of ownership', 'Industry', 'Sector', 'Revenue', 'Competitors',\n",
       "       'Salary_Per_Hour', 'Min_Salary', 'Max_Salary', 'Avg Salary', 'State',\n",
       "       'Is_Headquarters', 'Age of Company', 'Python', 'Spark', 'AWS', 'Excel',\n",
       "       'Job Categories', 'Seniority', 'Description_Length',\n",
       "       'Competitor Count'],\n",
       "      dtype='object')"
      ]
     },
     "execution_count": 6,
     "metadata": {},
     "output_type": "execute_result"
    }
   ],
   "source": [
    "df.columns"
   ]
  },
  {
   "cell_type": "code",
   "execution_count": 7,
   "metadata": {},
   "outputs": [
    {
     "data": {
      "text/plain": [
       "<seaborn.axisgrid.FacetGrid at 0x286f7086d30>"
      ]
     },
     "execution_count": 7,
     "metadata": {},
     "output_type": "execute_result"
    },
    {
     "data": {
      "image/png": "[encoded data removed]",
      "text/plain": [
       "<Figure size 440.375x360 with 1 Axes>"
      ]
     },
     "metadata": {
      "needs_background": "light"
     },
     "output_type": "display_data"
    }
   ],
   "source": [
    "#we can see here that the juniors are on the lower half of the graph indicating a negative correlation\n",
    "sns.relplot(x=\"Age of Company\", y=\"Avg Salary\",hue=\"Seniority\", data=df)"
   ]
  },
  {
   "cell_type": "code",
   "execution_count": 8,
   "metadata": {},
   "outputs": [
    {
     "data": {
      "text/plain": [
       "<seaborn.axisgrid.FacetGrid at 0x286f7124910>"
      ]
     },
     "execution_count": 8,
     "metadata": {},
     "output_type": "execute_result"
    },
    {
     "data": {
      "image/png": "[encoded data removed]",
      "text/plain": [
       "<Figure size 360x360 with 1 Axes>"
      ]
     },
     "metadata": {
      "needs_background": "light"
     },
     "output_type": "display_data"
    }
   ],
   "source": [
    "sns.relplot(x=\"Avg Salary\",y=\"Seniority\", data=df)"
   ]
  },
  {
   "cell_type": "code",
   "execution_count": 9,
   "metadata": {},
   "outputs": [
    {
     "data": {
      "image/png": "[encoded data removed]",
      "text/plain": [
       "<Figure size 360x360 with 1 Axes>"
      ]
     },
     "metadata": {
      "needs_background": "light"
     },
     "output_type": "display_data"
    }
   ],
   "source": [
    "g = sns.relplot(x=\"Avg Salary\", y=\"Age of Company\", kind=\"line\", data=df)\n",
    "#g.figure.autofmt_xdate()"
   ]
  },
  {
   "cell_type": "code",
   "execution_count": 10,
   "metadata": {},
   "outputs": [
    {
     "data": {
      "text/plain": [
       "Index(['Job Title', 'Salary Estimate', 'Job Description', 'Rating',\n",
       "       'Company Name', 'Location', 'Headquarters', 'Size', 'Founded',\n",
       "       'Type of ownership', 'Industry', 'Sector', 'Revenue', 'Competitors',\n",
       "       'Salary_Per_Hour', 'Min_Salary', 'Max_Salary', 'Avg Salary', 'State',\n",
       "       'Is_Headquarters', 'Age of Company', 'Python', 'Spark', 'AWS', 'Excel',\n",
       "       'Job Categories', 'Seniority', 'Description_Length',\n",
       "       'Competitor Count'],\n",
       "      dtype='object')"
      ]
     },
     "execution_count": 10,
     "metadata": {},
     "output_type": "execute_result"
    }
   ],
   "source": [
    "df.columns"
   ]
  },
  {
   "cell_type": "code",
   "execution_count": 11,
   "metadata": {},
   "outputs": [
    {
     "data": {
      "text/plain": [
       "<matplotlib.axes._subplots.AxesSubplot at 0x286f71fdc70>"
      ]
     },
     "execution_count": 11,
     "metadata": {},
     "output_type": "execute_result"
    },
    {
     "data": {
      "image/png": "[encoded data removed]",
      "text/plain": [
       "<Figure size 432x288 with 1 Axes>"
      ]
     },
     "metadata": {
      "needs_background": "light"
     },
     "output_type": "display_data"
    }
   ],
   "source": [
    "job_cat = pd.pivot_table(df, index =['Job Categories'], values='Avg Salary').sort_values('Avg Salary', ascending=False)\n",
    "\n",
    "job_cat.plot(kind='bar')\n"
   ]
  },
  {
   "cell_type": "code",
   "execution_count": 12,
   "metadata": {},
   "outputs": [
    {
     "data": {
      "text/plain": [
       "<matplotlib.axes._subplots.AxesSubplot at 0x286f72bcd00>"
      ]
     },
     "execution_count": 12,
     "metadata": {},
     "output_type": "execute_result"
    },
    {
     "data": {
      "image/png": "[encoded data removed]",
      "text/plain": [
       "<Figure size 432x288 with 1 Axes>"
      ]
     },
     "metadata": {
      "needs_background": "light"
     },
     "output_type": "display_data"
    }
   ],
   "source": [
    "states = pd.pivot_table(df, index = 'State', values='Avg Salary').sort_values('Avg Salary', ascending=False)\n",
    "\n",
    "top_states = states.head(20)\n",
    "\n",
    "top_states.plot(kind='bar')"
   ]
  },
  {
   "cell_type": "code",
   "execution_count": 13,
   "metadata": {},
   "outputs": [
    {
     "data": {
      "text/html": [
       "<div>\n",
       "<style scoped>\n",
       "    .dataframe tbody tr th:only-of-type {\n",
       "        vertical-align: middle;\n",
       "    }\n",
       "\n",
       "    .dataframe tbody tr th {\n",
       "        vertical-align: top;\n",
       "    }\n",
       "\n",
       "    .dataframe thead th {\n",
       "        text-align: right;\n",
       "    }\n",
       "</style>\n",
       "<table border=\"1\" class=\"dataframe\">\n",
       "  <thead>\n",
       "    <tr style=\"text-align: right;\">\n",
       "      <th></th>\n",
       "      <th></th>\n",
       "      <th></th>\n",
       "      <th></th>\n",
       "      <th>Avg Salary</th>\n",
       "    </tr>\n",
       "    <tr>\n",
       "      <th>Spark</th>\n",
       "      <th>Python</th>\n",
       "      <th>AWS</th>\n",
       "      <th>Excel</th>\n",
       "      <th></th>\n",
       "    </tr>\n",
       "  </thead>\n",
       "  <tbody>\n",
       "    <tr>\n",
       "      <th rowspan=\"8\" valign=\"top\">0</th>\n",
       "      <th rowspan=\"4\" valign=\"top\">0</th>\n",
       "      <th rowspan=\"2\" valign=\"top\">0</th>\n",
       "      <th>0</th>\n",
       "      <td>92.354167</td>\n",
       "    </tr>\n",
       "    <tr>\n",
       "      <th>1</th>\n",
       "      <td>83.022917</td>\n",
       "    </tr>\n",
       "    <tr>\n",
       "      <th rowspan=\"2\" valign=\"top\">1</th>\n",
       "      <th>0</th>\n",
       "      <td>81.107143</td>\n",
       "    </tr>\n",
       "    <tr>\n",
       "      <th>1</th>\n",
       "      <td>102.333333</td>\n",
       "    </tr>\n",
       "    <tr>\n",
       "      <th rowspan=\"4\" valign=\"top\">1</th>\n",
       "      <th rowspan=\"2\" valign=\"top\">0</th>\n",
       "      <th>0</th>\n",
       "      <td>112.264286</td>\n",
       "    </tr>\n",
       "    <tr>\n",
       "      <th>1</th>\n",
       "      <td>106.164706</td>\n",
       "    </tr>\n",
       "    <tr>\n",
       "      <th rowspan=\"2\" valign=\"top\">1</th>\n",
       "      <th>0</th>\n",
       "      <td>119.365385</td>\n",
       "    </tr>\n",
       "    <tr>\n",
       "      <th>1</th>\n",
       "      <td>111.100000</td>\n",
       "    </tr>\n",
       "    <tr>\n",
       "      <th rowspan=\"8\" valign=\"top\">1</th>\n",
       "      <th rowspan=\"4\" valign=\"top\">0</th>\n",
       "      <th rowspan=\"2\" valign=\"top\">0</th>\n",
       "      <th>0</th>\n",
       "      <td>47.000000</td>\n",
       "    </tr>\n",
       "    <tr>\n",
       "      <th>1</th>\n",
       "      <td>95.388889</td>\n",
       "    </tr>\n",
       "    <tr>\n",
       "      <th rowspan=\"2\" valign=\"top\">1</th>\n",
       "      <th>0</th>\n",
       "      <td>130.857143</td>\n",
       "    </tr>\n",
       "    <tr>\n",
       "      <th>1</th>\n",
       "      <td>106.300000</td>\n",
       "    </tr>\n",
       "    <tr>\n",
       "      <th rowspan=\"4\" valign=\"top\">1</th>\n",
       "      <th rowspan=\"2\" valign=\"top\">0</th>\n",
       "      <th>0</th>\n",
       "      <td>106.839286</td>\n",
       "    </tr>\n",
       "    <tr>\n",
       "      <th>1</th>\n",
       "      <td>113.821429</td>\n",
       "    </tr>\n",
       "    <tr>\n",
       "      <th rowspan=\"2\" valign=\"top\">1</th>\n",
       "      <th>0</th>\n",
       "      <td>123.683333</td>\n",
       "    </tr>\n",
       "    <tr>\n",
       "      <th>1</th>\n",
       "      <td>109.884615</td>\n",
       "    </tr>\n",
       "  </tbody>\n",
       "</table>\n",
       "</div>"
      ],
      "text/plain": [
       "                        Avg Salary\n",
       "Spark Python AWS Excel            \n",
       "0     0      0   0       92.354167\n",
       "                 1       83.022917\n",
       "             1   0       81.107143\n",
       "                 1      102.333333\n",
       "      1      0   0      112.264286\n",
       "                 1      106.164706\n",
       "             1   0      119.365385\n",
       "                 1      111.100000\n",
       "1     0      0   0       47.000000\n",
       "                 1       95.388889\n",
       "             1   0      130.857143\n",
       "                 1      106.300000\n",
       "      1      0   0      106.839286\n",
       "                 1      113.821429\n",
       "             1   0      123.683333\n",
       "                 1      109.884615"
      ]
     },
     "execution_count": 13,
     "metadata": {},
     "output_type": "execute_result"
    }
   ],
   "source": [
    "job_tools = pd.pivot_table(df, index =['Spark','Python','AWS','Excel'], values='Avg Salary')\n",
    "job_tools"
   ]
  },
  {
   "cell_type": "code",
   "execution_count": 14,
   "metadata": {},
   "outputs": [
    {
     "data": {
      "text/plain": [
       "<matplotlib.axes._subplots.AxesSubplot at 0x286f736d3d0>"
      ]
     },
     "execution_count": 14,
     "metadata": {},
     "output_type": "execute_result"
    },
    {
     "data": {
      "image/png": "[encoded data removed]",
      "text/plain": [
       "<Figure size 432x288 with 1 Axes>"
      ]
     },
     "metadata": {
      "needs_background": "light"
     },
     "output_type": "display_data"
    }
   ],
   "source": [
    "ownership = pd.pivot_table(df, index =['Type of ownership'], values='Avg Salary').sort_values('Avg Salary', ascending=False)\n",
    "ownership.plot(kind='bar')"
   ]
  },
  {
   "cell_type": "code",
   "execution_count": 15,
   "metadata": {},
   "outputs": [
    {
     "data": {
      "text/html": [
       "<div>\n",
       "<style scoped>\n",
       "    .dataframe tbody tr th:only-of-type {\n",
       "        vertical-align: middle;\n",
       "    }\n",
       "\n",
       "    .dataframe tbody tr th {\n",
       "        vertical-align: top;\n",
       "    }\n",
       "\n",
       "    .dataframe thead th {\n",
       "        text-align: right;\n",
       "    }\n",
       "</style>\n",
       "<table border=\"1\" class=\"dataframe\">\n",
       "  <thead>\n",
       "    <tr style=\"text-align: right;\">\n",
       "      <th></th>\n",
       "      <th>Avg Salary</th>\n",
       "    </tr>\n",
       "    <tr>\n",
       "      <th>Industry</th>\n",
       "      <th></th>\n",
       "    </tr>\n",
       "  </thead>\n",
       "  <tbody>\n",
       "    <tr>\n",
       "      <th>Other Retail Stores</th>\n",
       "      <td>163.500000</td>\n",
       "    </tr>\n",
       "    <tr>\n",
       "      <th>Financial Analytics &amp; Research</th>\n",
       "      <td>145.857143</td>\n",
       "    </tr>\n",
       "    <tr>\n",
       "      <th>Health, Beauty, &amp; Fitness</th>\n",
       "      <td>139.500000</td>\n",
       "    </tr>\n",
       "    <tr>\n",
       "      <th>Telecommunications Services</th>\n",
       "      <td>131.500000</td>\n",
       "    </tr>\n",
       "    <tr>\n",
       "      <th>Brokerage Services</th>\n",
       "      <td>129.000000</td>\n",
       "    </tr>\n",
       "    <tr>\n",
       "      <th>Internet</th>\n",
       "      <td>118.525000</td>\n",
       "    </tr>\n",
       "    <tr>\n",
       "      <th>Investment Banking &amp; Asset Management</th>\n",
       "      <td>118.400000</td>\n",
       "    </tr>\n",
       "    <tr>\n",
       "      <th>TV Broadcast &amp; Cable Networks</th>\n",
       "      <td>117.750000</td>\n",
       "    </tr>\n",
       "    <tr>\n",
       "      <th>-1</th>\n",
       "      <td>114.650000</td>\n",
       "    </tr>\n",
       "    <tr>\n",
       "      <th>Computer Hardware &amp; Software</th>\n",
       "      <td>113.945652</td>\n",
       "    </tr>\n",
       "  </tbody>\n",
       "</table>\n",
       "</div>"
      ],
      "text/plain": [
       "                                       Avg Salary\n",
       "Industry                                         \n",
       "Other Retail Stores                    163.500000\n",
       "Financial Analytics & Research         145.857143\n",
       "Health, Beauty, & Fitness              139.500000\n",
       "Telecommunications Services            131.500000\n",
       "Brokerage Services                     129.000000\n",
       "Internet                               118.525000\n",
       "Investment Banking & Asset Management  118.400000\n",
       "TV Broadcast & Cable Networks          117.750000\n",
       "-1                                     114.650000\n",
       "Computer Hardware & Software           113.945652"
      ]
     },
     "execution_count": 15,
     "metadata": {},
     "output_type": "execute_result"
    }
   ],
   "source": [
    "industries = pd.pivot_table(df, index =['Industry'], values='Avg Salary').sort_values('Avg Salary', ascending=False)\n",
    "\n",
    "industries.head(10)"
   ]
  },
  {
   "cell_type": "code",
   "execution_count": 16,
   "metadata": {},
   "outputs": [
    {
     "data": {
      "text/html": [
       "<div>\n",
       "<style scoped>\n",
       "    .dataframe tbody tr th:only-of-type {\n",
       "        vertical-align: middle;\n",
       "    }\n",
       "\n",
       "    .dataframe tbody tr th {\n",
       "        vertical-align: top;\n",
       "    }\n",
       "\n",
       "    .dataframe thead th {\n",
       "        text-align: right;\n",
       "    }\n",
       "</style>\n",
       "<table border=\"1\" class=\"dataframe\">\n",
       "  <thead>\n",
       "    <tr style=\"text-align: right;\">\n",
       "      <th></th>\n",
       "      <th>Avg Salary</th>\n",
       "    </tr>\n",
       "    <tr>\n",
       "      <th>Industry</th>\n",
       "      <th></th>\n",
       "    </tr>\n",
       "  </thead>\n",
       "  <tbody>\n",
       "    <tr>\n",
       "      <th>Telecommunications Manufacturing</th>\n",
       "      <td>44.000000</td>\n",
       "    </tr>\n",
       "    <tr>\n",
       "      <th>Architectural &amp; Engineering Services</th>\n",
       "      <td>47.166667</td>\n",
       "    </tr>\n",
       "    <tr>\n",
       "      <th>Social Assistance</th>\n",
       "      <td>48.500000</td>\n",
       "    </tr>\n",
       "    <tr>\n",
       "      <th>Gambling</th>\n",
       "      <td>48.500000</td>\n",
       "    </tr>\n",
       "    <tr>\n",
       "      <th>Food &amp; Beverage Manufacturing</th>\n",
       "      <td>53.250000</td>\n",
       "    </tr>\n",
       "    <tr>\n",
       "      <th>Banks &amp; Credit Unions</th>\n",
       "      <td>62.375000</td>\n",
       "    </tr>\n",
       "    <tr>\n",
       "      <th>Department, Clothing, &amp; Shoe Stores</th>\n",
       "      <td>63.500000</td>\n",
       "    </tr>\n",
       "    <tr>\n",
       "      <th>Construction</th>\n",
       "      <td>66.250000</td>\n",
       "    </tr>\n",
       "    <tr>\n",
       "      <th>Financial Transaction Processing</th>\n",
       "      <td>69.000000</td>\n",
       "    </tr>\n",
       "    <tr>\n",
       "      <th>Travel Agencies</th>\n",
       "      <td>70.300000</td>\n",
       "    </tr>\n",
       "  </tbody>\n",
       "</table>\n",
       "</div>"
      ],
      "text/plain": [
       "                                      Avg Salary\n",
       "Industry                                        \n",
       "Telecommunications Manufacturing       44.000000\n",
       "Architectural & Engineering Services   47.166667\n",
       "Social Assistance                      48.500000\n",
       "Gambling                               48.500000\n",
       "Food & Beverage Manufacturing          53.250000\n",
       "Banks & Credit Unions                  62.375000\n",
       "Department, Clothing, & Shoe Stores    63.500000\n",
       "Construction                           66.250000\n",
       "Financial Transaction Processing       69.000000\n",
       "Travel Agencies                        70.300000"
      ]
     },
     "execution_count": 16,
     "metadata": {},
     "output_type": "execute_result"
    }
   ],
   "source": [
    "industries.tail(10).sort_values('Avg Salary', ascending=True)"
   ]
  },
  {
   "cell_type": "code",
   "execution_count": 17,
   "metadata": {},
   "outputs": [
    {
     "data": {
      "text/html": [
       "<div>\n",
       "<style scoped>\n",
       "    .dataframe tbody tr th:only-of-type {\n",
       "        vertical-align: middle;\n",
       "    }\n",
       "\n",
       "    .dataframe tbody tr th {\n",
       "        vertical-align: top;\n",
       "    }\n",
       "\n",
       "    .dataframe thead th {\n",
       "        text-align: right;\n",
       "    }\n",
       "</style>\n",
       "<table border=\"1\" class=\"dataframe\">\n",
       "  <thead>\n",
       "    <tr style=\"text-align: right;\">\n",
       "      <th></th>\n",
       "      <th>Avg Salary</th>\n",
       "    </tr>\n",
       "    <tr>\n",
       "      <th>Company Name</th>\n",
       "      <th></th>\n",
       "    </tr>\n",
       "  </thead>\n",
       "  <tbody>\n",
       "    <tr>\n",
       "      <th>1-800-FLOWERS.COM, Inc.</th>\n",
       "      <td>76.5</td>\n",
       "    </tr>\n",
       "    <tr>\n",
       "      <th>1904labs</th>\n",
       "      <td>143.5</td>\n",
       "    </tr>\n",
       "    <tr>\n",
       "      <th>23andMe</th>\n",
       "      <td>92.0</td>\n",
       "    </tr>\n",
       "    <tr>\n",
       "      <th>7Park Data</th>\n",
       "      <td>121.0</td>\n",
       "    </tr>\n",
       "    <tr>\n",
       "      <th>ALIN</th>\n",
       "      <td>110.5</td>\n",
       "    </tr>\n",
       "    <tr>\n",
       "      <th>...</th>\n",
       "      <td>...</td>\n",
       "    </tr>\n",
       "    <tr>\n",
       "      <th>e-IT Professionals Corp.</th>\n",
       "      <td>139.5</td>\n",
       "    </tr>\n",
       "    <tr>\n",
       "      <th>goTRG</th>\n",
       "      <td>85.5</td>\n",
       "    </tr>\n",
       "    <tr>\n",
       "      <th>h2o.ai</th>\n",
       "      <td>152.0</td>\n",
       "    </tr>\n",
       "    <tr>\n",
       "      <th>iSeatz</th>\n",
       "      <td>48.0</td>\n",
       "    </tr>\n",
       "    <tr>\n",
       "      <th>webfx.com</th>\n",
       "      <td>56.5</td>\n",
       "    </tr>\n",
       "  </tbody>\n",
       "</table>\n",
       "<p>311 rows × 1 columns</p>\n",
       "</div>"
      ],
      "text/plain": [
       "                          Avg Salary\n",
       "Company Name                        \n",
       "1-800-FLOWERS.COM, Inc.         76.5\n",
       "1904labs                       143.5\n",
       "23andMe                         92.0\n",
       "7Park Data                     121.0\n",
       "ALIN                           110.5\n",
       "...                              ...\n",
       "e-IT Professionals Corp.       139.5\n",
       "goTRG                           85.5\n",
       "h2o.ai                         152.0\n",
       "iSeatz                          48.0\n",
       "webfx.com                       56.5\n",
       "\n",
       "[311 rows x 1 columns]"
      ]
     },
     "execution_count": 17,
     "metadata": {},
     "output_type": "execute_result"
    }
   ],
   "source": [
    "# this is way too many\n",
    "\n",
    "company = pd.pivot_table(df, index =['Company Name'], values='Avg Salary')\n",
    "company"
   ]
  },
  {
   "cell_type": "code",
   "execution_count": 18,
   "metadata": {},
   "outputs": [
    {
     "data": {
      "text/html": [
       "<div>\n",
       "<style scoped>\n",
       "    .dataframe tbody tr th:only-of-type {\n",
       "        vertical-align: middle;\n",
       "    }\n",
       "\n",
       "    .dataframe tbody tr th {\n",
       "        vertical-align: top;\n",
       "    }\n",
       "\n",
       "    .dataframe thead th {\n",
       "        text-align: right;\n",
       "    }\n",
       "</style>\n",
       "<table border=\"1\" class=\"dataframe\">\n",
       "  <thead>\n",
       "    <tr style=\"text-align: right;\">\n",
       "      <th></th>\n",
       "      <th>Avg Salary</th>\n",
       "    </tr>\n",
       "    <tr>\n",
       "      <th>Is_Headquarters</th>\n",
       "      <th></th>\n",
       "    </tr>\n",
       "  </thead>\n",
       "  <tbody>\n",
       "    <tr>\n",
       "      <th>0</th>\n",
       "      <td>102.307769</td>\n",
       "    </tr>\n",
       "    <tr>\n",
       "      <th>1</th>\n",
       "      <td>100.240497</td>\n",
       "    </tr>\n",
       "  </tbody>\n",
       "</table>\n",
       "</div>"
      ],
      "text/plain": [
       "                 Avg Salary\n",
       "Is_Headquarters            \n",
       "0                102.307769\n",
       "1                100.240497"
      ]
     },
     "execution_count": 18,
     "metadata": {},
     "output_type": "execute_result"
    }
   ],
   "source": [
    "# this data is clearly not very different, so we won't be using this\n",
    "\n",
    "headquarters = pd.pivot_table(df, index =['Is_Headquarters'], values='Avg Salary')\n",
    "headquarters"
   ]
  },
  {
   "cell_type": "code",
   "execution_count": 19,
   "metadata": {},
   "outputs": [
    {
     "data": {
      "text/plain": [
       "<matplotlib.axes._subplots.AxesSubplot at 0x286f73d5dc0>"
      ]
     },
     "execution_count": 19,
     "metadata": {},
     "output_type": "execute_result"
    },
    {
     "data": {
      "image/png": "[encoded data removed]",
      "text/plain": [
       "<Figure size 432x288 with 1 Axes>"
      ]
     },
     "metadata": {
      "needs_background": "light"
     },
     "output_type": "display_data"
    }
   ],
   "source": [
    "# an interesting trend...smaller companies tend to pay more, except for 10000+ companies that pay the most\n",
    "\n",
    "size = pd.pivot_table(df, index=['Size'], values='Avg Salary').sort_values('Avg Salary', ascending=False)\n",
    "\n",
    "size.plot(kind='bar')"
   ]
  },
  {
   "cell_type": "code",
   "execution_count": 44,
   "metadata": {},
   "outputs": [
    {
     "data": {
      "text/html": [
       "<div>\n",
       "<style scoped>\n",
       "    .dataframe tbody tr th:only-of-type {\n",
       "        vertical-align: middle;\n",
       "    }\n",
       "\n",
       "    .dataframe tbody tr th {\n",
       "        vertical-align: top;\n",
       "    }\n",
       "\n",
       "    .dataframe thead th {\n",
       "        text-align: right;\n",
       "    }\n",
       "</style>\n",
       "<table border=\"1\" class=\"dataframe\">\n",
       "  <thead>\n",
       "    <tr style=\"text-align: right;\">\n",
       "      <th></th>\n",
       "      <th>Avg Salary</th>\n",
       "    </tr>\n",
       "    <tr>\n",
       "      <th>Revenue</th>\n",
       "      <th></th>\n",
       "    </tr>\n",
       "  </thead>\n",
       "  <tbody>\n",
       "    <tr>\n",
       "      <th>$5 to $10 million (USD)</th>\n",
       "      <td>123.807692</td>\n",
       "    </tr>\n",
       "    <tr>\n",
       "      <th>$1 to $5 million (USD)</th>\n",
       "      <td>119.312500</td>\n",
       "    </tr>\n",
       "    <tr>\n",
       "      <th>-1</th>\n",
       "      <td>117.500000</td>\n",
       "    </tr>\n",
       "    <tr>\n",
       "      <th>$10+ billion (USD)</th>\n",
       "      <td>113.222222</td>\n",
       "    </tr>\n",
       "    <tr>\n",
       "      <th>Less than $1 million (USD)</th>\n",
       "      <td>108.625000</td>\n",
       "    </tr>\n",
       "    <tr>\n",
       "      <th>$50 to $100 million (USD)</th>\n",
       "      <td>105.973684</td>\n",
       "    </tr>\n",
       "    <tr>\n",
       "      <th>$1 to $2 billion (USD)</th>\n",
       "      <td>105.010870</td>\n",
       "    </tr>\n",
       "    <tr>\n",
       "      <th>Unknown / Non-Applicable</th>\n",
       "      <td>104.693252</td>\n",
       "    </tr>\n",
       "    <tr>\n",
       "      <th>$2 to $5 billion (USD)</th>\n",
       "      <td>96.103448</td>\n",
       "    </tr>\n",
       "    <tr>\n",
       "      <th>$10 to $25 million (USD)</th>\n",
       "      <td>94.260000</td>\n",
       "    </tr>\n",
       "    <tr>\n",
       "      <th>$5 to $10 billion (USD)</th>\n",
       "      <td>93.470588</td>\n",
       "    </tr>\n",
       "    <tr>\n",
       "      <th>$100 to $500 million (USD)</th>\n",
       "      <td>87.852941</td>\n",
       "    </tr>\n",
       "    <tr>\n",
       "      <th>$500 million to $1 billion (USD)</th>\n",
       "      <td>87.312500</td>\n",
       "    </tr>\n",
       "    <tr>\n",
       "      <th>$25 to $50 million (USD)</th>\n",
       "      <td>82.838235</td>\n",
       "    </tr>\n",
       "  </tbody>\n",
       "</table>\n",
       "</div>"
      ],
      "text/plain": [
       "                                  Avg Salary\n",
       "Revenue                                     \n",
       "$5 to $10 million (USD)           123.807692\n",
       "$1 to $5 million (USD)            119.312500\n",
       "-1                                117.500000\n",
       "$10+ billion (USD)                113.222222\n",
       "Less than $1 million (USD)        108.625000\n",
       "$50 to $100 million (USD)         105.973684\n",
       "$1 to $2 billion (USD)            105.010870\n",
       "Unknown / Non-Applicable          104.693252\n",
       "$2 to $5 billion (USD)             96.103448\n",
       "$10 to $25 million (USD)           94.260000\n",
       "$5 to $10 billion (USD)            93.470588\n",
       "$100 to $500 million (USD)         87.852941\n",
       "$500 million to $1 billion (USD)   87.312500\n",
       "$25 to $50 million (USD)           82.838235"
      ]
     },
     "execution_count": 44,
     "metadata": {},
     "output_type": "execute_result"
    }
   ],
   "source": [
    "rev = pd.pivot_table(df, index=['Revenue'], values='Avg Salary').sort_values('Avg Salary', ascending=False)\n",
    "\n",
    "rev\n",
    "\n",
    "# there are big differences in the salaries but a strange distribution of the revenue. the highest paying companies\n",
    "# are those with the smallest revenues as well as the BIGGEST revenue. it is quite confusing \n",
    "# I think we should change these values if we choose to use revenue.\n",
    "\n",
    "# big: 10+ bil, 5-10 bil, 2 to 5 bil, 1 to 2 bill\n",
    "# medium: 500 mil to 1 bil, 100 to 500 mill, 50 to 100 mil, 25 to 50 mil\n",
    "# small: 10 to 25 mil, 5 to 10 mil, 1 to 5 mil, less than"
   ]
  },
  {
   "cell_type": "code",
   "execution_count": 27,
   "metadata": {},
   "outputs": [
    {
     "data": {
      "text/plain": [
       "Index(['Size_-1', 'Size_1 to 50 employees', 'Size_10000+ employees',\n",
       "       'Size_1001 to 5000 employees', 'Size_201 to 500 employees',\n",
       "       'Size_5001 to 10000 employees', 'Size_501 to 1000 employees',\n",
       "       'Size_51 to 200 employees', 'Size_Unknown', 'Type of ownership_-1',\n",
       "       ...\n",
       "       'State_ WI', 'Job Categories_Data Analyst',\n",
       "       'Job Categories_Data Engineer', 'Job Categories_Data Scientist',\n",
       "       'Job Categories_Director', 'Job Categories_Machine Learning Engineer',\n",
       "       'Job Categories_Manager', 'Job Categories_Other',\n",
       "       'Job Categories_Other Engineer', 'Job Categories_Software Engineer'],\n",
       "      dtype='object', length=135)"
      ]
     },
     "execution_count": 27,
     "metadata": {},
     "output_type": "execute_result"
    }
   ],
   "source": [
    "# let's check if some of our categorical categories are highly interconnected, to see if there is a need for all of them.\n",
    "\n",
    "dfDummies = pd.get_dummies(df.drop(['Job Title', 'Salary Estimate', 'Job Description', 'Rating',\n",
    "                                    'Company Name','Location','Headquarters','Founded','Sector','Competitors',\n",
    "                                    'Salary_Per_Hour','Min_Salary','Max_Salary','Avg Salary','Is_Headquarters',\n",
    "                                    'Age of Company', 'Python', 'Spark', 'AWS', 'Excel','Seniority', 'Description_Length',\n",
    "                                    'Competitor Count'], axis=1))\n",
    "\n",
    "dfDummies.columns\n",
    "\n",
    "# columns we want: ['Size','Type of ownership', 'Industry', 'Revenue','State','Job Categories']\n",
    "\n",
    "# let's remind oursleves of the top 2 and bottom 2 categories for each of these, and look at a heat map.\n",
    "\n",
    "# job categories: Director, Data Scientist, Manager, Data Analyst\n",
    "\n",
    "# states: CA, DC, AL, ID\n",
    "\n",
    "# ownership: Company - Public, College / University, Hospital, School / School District\n",
    "\n",
    "# industries: Other Retail Stores, Financial Analytics & Research, Telecommunications Manufacturing, Architectural & Engineering Services\n",
    "\n",
    "# size: 10000+ exployees, 51 to 200 employees, 501 to 1000 employees\n",
    "\n",
    "# revenue: 5to10 million (USD), 1to 5 million (USD), 25to 50 million (USD), 500millionto 1 billion (USD)\n"
   ]
  },
  {
   "cell_type": "code",
   "execution_count": 42,
   "metadata": {},
   "outputs": [
    {
     "data": {
      "text/plain": [
       "<matplotlib.axes._subplots.AxesSubplot at 0x286f8c3bfd0>"
      ]
     },
     "execution_count": 42,
     "metadata": {},
     "output_type": "execute_result"
    },
    {
     "data": {
      "image/png": "[encoded data removed]",
      "text/plain": [
       "<Figure size 432x288 with 2 Axes>"
      ]
     },
     "metadata": {
      "needs_background": "light"
     },
     "output_type": "display_data"
    }
   ],
   "source": [
    "# top 2 and bottom 2 job categories and states. we are checking here if maybe certain states are limited to particular\n",
    "# job opportunities. while there exist come correlations, we cannot rule out states as having a different \n",
    "\n",
    "cmap = sns.diverging_palette(220,10, as_cmap=True)\n",
    "sns.heatmap(dfDummies[['Job Categories_Director','Job Categories_Data Scientist','Job Categories_Manager','Job Categories_Data Analyst','State_ CA','State_ DC','State_ AL','State_ ID']].corr(), vmax =0.3, center =0, cmap=cmap, square=True, linewidths=.5, cbar_kws={\"shrink\":.5})"
   ]
  },
  {
   "cell_type": "code",
   "execution_count": 52,
   "metadata": {},
   "outputs": [
    {
     "data": {
      "text/plain": [
       "<matplotlib.axes._subplots.AxesSubplot at 0x286f9f5e490>"
      ]
     },
     "execution_count": 52,
     "metadata": {},
     "output_type": "execute_result"
    },
    {
     "data": {
      "image/png": "[encoded data removed]",
      "text/plain": [
       "<Figure size 432x288 with 2 Axes>"
      ]
     },
     "metadata": {
      "needs_background": "light"
     },
     "output_type": "display_data"
    }
   ],
   "source": [
    "cmap = sns.diverging_palette(220,10, as_cmap=True)\n",
    "sns.heatmap(dfDummies[['Industry_Other Retail Stores','Industry_Financial Analytics & Research','Industry_Telecommunications Manufacturing','Industry_Architectural & Engineering Services','State_ CA','State_ DC','State_ AL','State_ ID']].corr(), vmax =0.3, center =0, cmap=cmap, square=True, linewidths=.5, cbar_kws={\"shrink\":.5})"
   ]
  },
  {
   "cell_type": "code",
   "execution_count": 50,
   "metadata": {},
   "outputs": [
    {
     "data": {
      "text/plain": [
       "<matplotlib.axes._subplots.AxesSubplot at 0x286f9ef3b80>"
      ]
     },
     "execution_count": 50,
     "metadata": {},
     "output_type": "execute_result"
    },
    {
     "data": {
      "image/png": "[encoded data removed]",
      "text/plain": [
       "<Figure size 432x288 with 2 Axes>"
      ]
     },
     "metadata": {
      "needs_background": "light"
     },
     "output_type": "display_data"
    }
   ],
   "source": [
    "# here we are looking to see if there is a huge correlation between size of company and revenue, to see if both are necessary \n",
    "# to predict the salary, or if we should only use one of them.\n",
    "\n",
    "cmap = sns.diverging_palette(220,10, as_cmap=True)\n",
    "sns.heatmap(dfDummies[['Size_10000+ employees','Size_51 to 200 employees','Size_501 to 1000 employees']].corr(), vmax =0.3, center =0, cmap=cmap, square=True, linewidths=.5, cbar_kws={\"shrink\":.5})\n"
   ]
  },
  {
   "cell_type": "code",
   "execution_count": null,
   "metadata": {},
   "outputs": [],
   "source": []
  }
 ],
 "metadata": {
  "kernelspec": {
   "display_name": "Python 3",
   "language": "python",
   "name": "python3"
  },
  "language_info": {
   "codemirror_mode": {
    "name": "ipython",
    "version": 3
   },
   "file_extension": ".py",
   "mimetype": "text/x-python",
   "name": "python",
   "nbconvert_exporter": "python",
   "pygments_lexer": "ipython3",
   "version": "3.8.3"
  }
 },
 "nbformat": 4,
 "nbformat_minor": 5
}
