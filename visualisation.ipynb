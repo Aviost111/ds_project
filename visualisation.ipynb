{
 "cells": [
  {
   "cell_type": "code",
   "execution_count": 70,
   "id": "5b94a93a",
   "metadata": {},
   "outputs": [],
   "source": [
    "import pandas as pd\n",
    "import matplotlib.pyplot as plt\n",
    "import seaborn as sns"
   ]
  },
  {
   "cell_type": "code",
   "execution_count": 71,
   "id": "7366e419",
   "metadata": {},
   "outputs": [
    {
     "data": {
      "text/html": [
       "<div>\n",
       "<style scoped>\n",
       "    .dataframe tbody tr th:only-of-type {\n",
       "        vertical-align: middle;\n",
       "    }\n",
       "\n",
       "    .dataframe tbody tr th {\n",
       "        vertical-align: top;\n",
       "    }\n",
       "\n",
       "    .dataframe thead th {\n",
       "        text-align: right;\n",
       "    }\n",
       "</style>\n",
       "<table border=\"1\" class=\"dataframe\">\n",
       "  <thead>\n",
       "    <tr style=\"text-align: right;\">\n",
       "      <th></th>\n",
       "      <th>Job Title</th>\n",
       "      <th>Salary Estimate</th>\n",
       "      <th>Job Description</th>\n",
       "      <th>Rating</th>\n",
       "      <th>Company Name</th>\n",
       "      <th>Location</th>\n",
       "      <th>Headquarters</th>\n",
       "      <th>Size</th>\n",
       "      <th>Founded</th>\n",
       "      <th>Type of ownership</th>\n",
       "      <th>...</th>\n",
       "      <th>Age of Company</th>\n",
       "      <th>Python</th>\n",
       "      <th>Spark</th>\n",
       "      <th>AWS</th>\n",
       "      <th>Excel</th>\n",
       "      <th>Job Categories</th>\n",
       "      <th>Seniority</th>\n",
       "      <th>Description_Length</th>\n",
       "      <th>Competitor Count</th>\n",
       "      <th>Revenue_Adj</th>\n",
       "    </tr>\n",
       "  </thead>\n",
       "  <tbody>\n",
       "    <tr>\n",
       "      <th>318</th>\n",
       "      <td>Sr. Data Scientist, Cyber-Security LT Contract</td>\n",
       "      <td>$116K-$194K (Glassdoor est.)</td>\n",
       "      <td>SUMMARYSenior Data Scientist will assist the c...</td>\n",
       "      <td>3.2</td>\n",
       "      <td>Numeric, LLC</td>\n",
       "      <td>Phila, PA</td>\n",
       "      <td>Chadds Ford, PA</td>\n",
       "      <td>1 to 50 employees</td>\n",
       "      <td>-1</td>\n",
       "      <td>Company - Private</td>\n",
       "      <td>...</td>\n",
       "      <td>30</td>\n",
       "      <td>1</td>\n",
       "      <td>1</td>\n",
       "      <td>1</td>\n",
       "      <td>1</td>\n",
       "      <td>Data Scientist</td>\n",
       "      <td>Senior</td>\n",
       "      <td>208</td>\n",
       "      <td>0</td>\n",
       "      <td>small</td>\n",
       "    </tr>\n",
       "    <tr>\n",
       "      <th>533</th>\n",
       "      <td>Director Data Science</td>\n",
       "      <td>$124K-$199K (Glassdoor est.)</td>\n",
       "      <td>We’re looking for a director to drive our data...</td>\n",
       "      <td>3.6</td>\n",
       "      <td>TRANZACT</td>\n",
       "      <td>Fort Lee, NJ</td>\n",
       "      <td>Fort Lee, NJ</td>\n",
       "      <td>1001 to 5000 employees</td>\n",
       "      <td>1989</td>\n",
       "      <td>Company - Private</td>\n",
       "      <td>...</td>\n",
       "      <td>33</td>\n",
       "      <td>1</td>\n",
       "      <td>0</td>\n",
       "      <td>1</td>\n",
       "      <td>1</td>\n",
       "      <td>Director</td>\n",
       "      <td>none</td>\n",
       "      <td>753</td>\n",
       "      <td>0</td>\n",
       "      <td>Unknown / Non-Applicable</td>\n",
       "    </tr>\n",
       "    <tr>\n",
       "      <th>539</th>\n",
       "      <td>Senior Scientist - Biostatistician</td>\n",
       "      <td>$65K-$96K (Glassdoor est.)</td>\n",
       "      <td>British American Tobacco\\nReynolds American In...</td>\n",
       "      <td>3.1</td>\n",
       "      <td>Reynolds American</td>\n",
       "      <td>Winston-Salem, NC</td>\n",
       "      <td>Winston-Salem, NC</td>\n",
       "      <td>5001 to 10000 employees</td>\n",
       "      <td>1875</td>\n",
       "      <td>Company - Private</td>\n",
       "      <td>...</td>\n",
       "      <td>147</td>\n",
       "      <td>0</td>\n",
       "      <td>0</td>\n",
       "      <td>0</td>\n",
       "      <td>1</td>\n",
       "      <td>Data Analyst</td>\n",
       "      <td>Senior</td>\n",
       "      <td>698</td>\n",
       "      <td>0</td>\n",
       "      <td>big</td>\n",
       "    </tr>\n",
       "    <tr>\n",
       "      <th>653</th>\n",
       "      <td>Data Engineer - Consultant (Charlotte Based)</td>\n",
       "      <td>$59K-$112K (Glassdoor est.)</td>\n",
       "      <td>Do YOU love working with Data in machine learn...</td>\n",
       "      <td>4.2</td>\n",
       "      <td>Clarity Insights</td>\n",
       "      <td>Charlotte, NC</td>\n",
       "      <td>Chicago, IL</td>\n",
       "      <td>201 to 500 employees</td>\n",
       "      <td>2008</td>\n",
       "      <td>Company - Private</td>\n",
       "      <td>...</td>\n",
       "      <td>14</td>\n",
       "      <td>1</td>\n",
       "      <td>0</td>\n",
       "      <td>0</td>\n",
       "      <td>1</td>\n",
       "      <td>Data Engineer</td>\n",
       "      <td>none</td>\n",
       "      <td>765</td>\n",
       "      <td>0</td>\n",
       "      <td>Unknown / Non-Applicable</td>\n",
       "    </tr>\n",
       "    <tr>\n",
       "      <th>586</th>\n",
       "      <td>Data Scientist</td>\n",
       "      <td>$108K-$171K (Glassdoor est.)</td>\n",
       "      <td>Advanced degree in Data Science Statistics Com...</td>\n",
       "      <td>3.5</td>\n",
       "      <td>e-IT Professionals Corp.</td>\n",
       "      <td>Foster City, CA</td>\n",
       "      <td>Canton, MI</td>\n",
       "      <td>51 to 200 employees</td>\n",
       "      <td>-1</td>\n",
       "      <td>Company - Private</td>\n",
       "      <td>...</td>\n",
       "      <td>30</td>\n",
       "      <td>1</td>\n",
       "      <td>0</td>\n",
       "      <td>0</td>\n",
       "      <td>0</td>\n",
       "      <td>Data Scientist</td>\n",
       "      <td>none</td>\n",
       "      <td>158</td>\n",
       "      <td>0</td>\n",
       "      <td>small</td>\n",
       "    </tr>\n",
       "    <tr>\n",
       "      <th>...</th>\n",
       "      <td>...</td>\n",
       "      <td>...</td>\n",
       "      <td>...</td>\n",
       "      <td>...</td>\n",
       "      <td>...</td>\n",
       "      <td>...</td>\n",
       "      <td>...</td>\n",
       "      <td>...</td>\n",
       "      <td>...</td>\n",
       "      <td>...</td>\n",
       "      <td>...</td>\n",
       "      <td>...</td>\n",
       "      <td>...</td>\n",
       "      <td>...</td>\n",
       "      <td>...</td>\n",
       "      <td>...</td>\n",
       "      <td>...</td>\n",
       "      <td>...</td>\n",
       "      <td>...</td>\n",
       "      <td>...</td>\n",
       "      <td>...</td>\n",
       "    </tr>\n",
       "    <tr>\n",
       "      <th>857</th>\n",
       "      <td>Data Engineer</td>\n",
       "      <td>$57K-$80K (Glassdoor est.)</td>\n",
       "      <td>Position Summary:\\n\\nThe Data Engineer will be...</td>\n",
       "      <td>3.5</td>\n",
       "      <td>Saama Technologies Inc</td>\n",
       "      <td>Phoenix, AZ</td>\n",
       "      <td>Campbell, CA</td>\n",
       "      <td>501 to 1000 employees</td>\n",
       "      <td>1997</td>\n",
       "      <td>Company - Private</td>\n",
       "      <td>...</td>\n",
       "      <td>25</td>\n",
       "      <td>1</td>\n",
       "      <td>1</td>\n",
       "      <td>0</td>\n",
       "      <td>0</td>\n",
       "      <td>Data Engineer</td>\n",
       "      <td>none</td>\n",
       "      <td>151</td>\n",
       "      <td>3</td>\n",
       "      <td>Unknown / Non-Applicable</td>\n",
       "    </tr>\n",
       "    <tr>\n",
       "      <th>79</th>\n",
       "      <td>Director, Data Science</td>\n",
       "      <td>$139K-$220K (Glassdoor est.)</td>\n",
       "      <td>Reporting to the Sr. Director, Analytics &amp; Dat...</td>\n",
       "      <td>3.6</td>\n",
       "      <td>Grainger</td>\n",
       "      <td>Lake Forest, IL</td>\n",
       "      <td>Lake Forest, IL</td>\n",
       "      <td>10000+ employees</td>\n",
       "      <td>1927</td>\n",
       "      <td>Company - Public</td>\n",
       "      <td>...</td>\n",
       "      <td>95</td>\n",
       "      <td>1</td>\n",
       "      <td>0</td>\n",
       "      <td>0</td>\n",
       "      <td>1</td>\n",
       "      <td>Director</td>\n",
       "      <td>none</td>\n",
       "      <td>370</td>\n",
       "      <td>0</td>\n",
       "      <td>big</td>\n",
       "    </tr>\n",
       "    <tr>\n",
       "      <th>759</th>\n",
       "      <td>Data Engineer</td>\n",
       "      <td>$57K-$109K (Glassdoor est.)</td>\n",
       "      <td>ICW Group is looking for aData Engineer who wi...</td>\n",
       "      <td>2.8</td>\n",
       "      <td>ICW Group</td>\n",
       "      <td>San Diego, CA</td>\n",
       "      <td>San Diego, CA</td>\n",
       "      <td>501 to 1000 employees</td>\n",
       "      <td>1972</td>\n",
       "      <td>Company - Private</td>\n",
       "      <td>...</td>\n",
       "      <td>50</td>\n",
       "      <td>0</td>\n",
       "      <td>0</td>\n",
       "      <td>0</td>\n",
       "      <td>0</td>\n",
       "      <td>Data Engineer</td>\n",
       "      <td>none</td>\n",
       "      <td>481</td>\n",
       "      <td>3</td>\n",
       "      <td>medium</td>\n",
       "    </tr>\n",
       "    <tr>\n",
       "      <th>730</th>\n",
       "      <td>Data Modeler (Analytical Systems)</td>\n",
       "      <td>$66K-$117K (Glassdoor est.)</td>\n",
       "      <td>At MassMutual, were passionate about helping m...</td>\n",
       "      <td>3.6</td>\n",
       "      <td>MassMutual</td>\n",
       "      <td>Boston, MA</td>\n",
       "      <td>Springfield, MA</td>\n",
       "      <td>5001 to 10000 employees</td>\n",
       "      <td>1851</td>\n",
       "      <td>Company - Private</td>\n",
       "      <td>...</td>\n",
       "      <td>171</td>\n",
       "      <td>0</td>\n",
       "      <td>1</td>\n",
       "      <td>1</td>\n",
       "      <td>1</td>\n",
       "      <td>Other</td>\n",
       "      <td>none</td>\n",
       "      <td>541</td>\n",
       "      <td>0</td>\n",
       "      <td>big</td>\n",
       "    </tr>\n",
       "    <tr>\n",
       "      <th>117</th>\n",
       "      <td>Senior Data Scientist</td>\n",
       "      <td>$200K-$275K(Employer est.)</td>\n",
       "      <td>Who we want:\\nAre you committed to using your ...</td>\n",
       "      <td>4.2</td>\n",
       "      <td>Gallup</td>\n",
       "      <td>Washington, DC</td>\n",
       "      <td>Washington, DC</td>\n",
       "      <td>1001 to 5000 employees</td>\n",
       "      <td>1935</td>\n",
       "      <td>Company - Private</td>\n",
       "      <td>...</td>\n",
       "      <td>87</td>\n",
       "      <td>1</td>\n",
       "      <td>0</td>\n",
       "      <td>0</td>\n",
       "      <td>1</td>\n",
       "      <td>Data Scientist</td>\n",
       "      <td>Senior</td>\n",
       "      <td>456</td>\n",
       "      <td>3</td>\n",
       "      <td>Unknown / Non-Applicable</td>\n",
       "    </tr>\n",
       "  </tbody>\n",
       "</table>\n",
       "<p>593 rows × 30 columns</p>\n",
       "</div>"
      ],
      "text/plain": [
       "                                          Job Title  \\\n",
       "318  Sr. Data Scientist, Cyber-Security LT Contract   \n",
       "533                           Director Data Science   \n",
       "539              Senior Scientist - Biostatistician   \n",
       "653    Data Engineer - Consultant (Charlotte Based)   \n",
       "586                                  Data Scientist   \n",
       "..                                              ...   \n",
       "857                                   Data Engineer   \n",
       "79                           Director, Data Science   \n",
       "759                                   Data Engineer   \n",
       "730               Data Modeler (Analytical Systems)   \n",
       "117                           Senior Data Scientist   \n",
       "\n",
       "                  Salary Estimate  \\\n",
       "318  $116K-$194K (Glassdoor est.)   \n",
       "533  $124K-$199K (Glassdoor est.)   \n",
       "539    $65K-$96K (Glassdoor est.)   \n",
       "653   $59K-$112K (Glassdoor est.)   \n",
       "586  $108K-$171K (Glassdoor est.)   \n",
       "..                            ...   \n",
       "857    $57K-$80K (Glassdoor est.)   \n",
       "79   $139K-$220K (Glassdoor est.)   \n",
       "759   $57K-$109K (Glassdoor est.)   \n",
       "730   $66K-$117K (Glassdoor est.)   \n",
       "117    $200K-$275K(Employer est.)   \n",
       "\n",
       "                                       Job Description  Rating  \\\n",
       "318  SUMMARYSenior Data Scientist will assist the c...     3.2   \n",
       "533  We’re looking for a director to drive our data...     3.6   \n",
       "539  British American Tobacco\\nReynolds American In...     3.1   \n",
       "653  Do YOU love working with Data in machine learn...     4.2   \n",
       "586  Advanced degree in Data Science Statistics Com...     3.5   \n",
       "..                                                 ...     ...   \n",
       "857  Position Summary:\\n\\nThe Data Engineer will be...     3.5   \n",
       "79   Reporting to the Sr. Director, Analytics & Dat...     3.6   \n",
       "759  ICW Group is looking for aData Engineer who wi...     2.8   \n",
       "730  At MassMutual, were passionate about helping m...     3.6   \n",
       "117  Who we want:\\nAre you committed to using your ...     4.2   \n",
       "\n",
       "                 Company Name           Location       Headquarters  \\\n",
       "318              Numeric, LLC          Phila, PA    Chadds Ford, PA   \n",
       "533                  TRANZACT       Fort Lee, NJ       Fort Lee, NJ   \n",
       "539         Reynolds American  Winston-Salem, NC  Winston-Salem, NC   \n",
       "653          Clarity Insights      Charlotte, NC        Chicago, IL   \n",
       "586  e-IT Professionals Corp.    Foster City, CA         Canton, MI   \n",
       "..                        ...                ...                ...   \n",
       "857    Saama Technologies Inc        Phoenix, AZ       Campbell, CA   \n",
       "79                   Grainger    Lake Forest, IL    Lake Forest, IL   \n",
       "759                 ICW Group      San Diego, CA      San Diego, CA   \n",
       "730                MassMutual         Boston, MA    Springfield, MA   \n",
       "117                    Gallup     Washington, DC     Washington, DC   \n",
       "\n",
       "                        Size  Founded  Type of ownership  ... Age of Company  \\\n",
       "318        1 to 50 employees       -1  Company - Private  ...             30   \n",
       "533   1001 to 5000 employees     1989  Company - Private  ...             33   \n",
       "539  5001 to 10000 employees     1875  Company - Private  ...            147   \n",
       "653     201 to 500 employees     2008  Company - Private  ...             14   \n",
       "586      51 to 200 employees       -1  Company - Private  ...             30   \n",
       "..                       ...      ...                ...  ...            ...   \n",
       "857    501 to 1000 employees     1997  Company - Private  ...             25   \n",
       "79          10000+ employees     1927   Company - Public  ...             95   \n",
       "759    501 to 1000 employees     1972  Company - Private  ...             50   \n",
       "730  5001 to 10000 employees     1851  Company - Private  ...            171   \n",
       "117   1001 to 5000 employees     1935  Company - Private  ...             87   \n",
       "\n",
       "    Python Spark AWS Excel  Job Categories  Seniority  Description_Length  \\\n",
       "318      1     1   1     1  Data Scientist     Senior                 208   \n",
       "533      1     0   1     1        Director       none                 753   \n",
       "539      0     0   0     1    Data Analyst     Senior                 698   \n",
       "653      1     0   0     1   Data Engineer       none                 765   \n",
       "586      1     0   0     0  Data Scientist       none                 158   \n",
       "..     ...   ...  ..   ...             ...        ...                 ...   \n",
       "857      1     1   0     0   Data Engineer       none                 151   \n",
       "79       1     0   0     1        Director       none                 370   \n",
       "759      0     0   0     0   Data Engineer       none                 481   \n",
       "730      0     1   1     1           Other       none                 541   \n",
       "117      1     0   0     1  Data Scientist     Senior                 456   \n",
       "\n",
       "    Competitor Count               Revenue_Adj  \n",
       "318                0                     small  \n",
       "533                0  Unknown / Non-Applicable  \n",
       "539                0                       big  \n",
       "653                0  Unknown / Non-Applicable  \n",
       "586                0                     small  \n",
       "..               ...                       ...  \n",
       "857                3  Unknown / Non-Applicable  \n",
       "79                 0                       big  \n",
       "759                3                    medium  \n",
       "730                0                       big  \n",
       "117                3  Unknown / Non-Applicable  \n",
       "\n",
       "[593 rows x 30 columns]"
      ]
     },
     "execution_count": 71,
     "metadata": {},
     "output_type": "execute_result"
    }
   ],
   "source": [
    "df=pd.read_csv('train_set.csv',index_col=0)\n",
    "df"
   ]
  },
  {
   "cell_type": "code",
   "execution_count": 72,
   "id": "59b66072",
   "metadata": {},
   "outputs": [
    {
     "data": {
      "text/plain": [
       "318    Senior\n",
       "533      none\n",
       "539    Senior\n",
       "653      none\n",
       "586      none\n",
       "        ...  \n",
       "857      none\n",
       "79       none\n",
       "759      none\n",
       "730      none\n",
       "117    Senior\n",
       "Name: Seniority, Length: 593, dtype: object"
      ]
     },
     "execution_count": 72,
     "metadata": {},
     "output_type": "execute_result"
    }
   ],
   "source": [
    "df['Seniority']"
   ]
  },
  {
   "cell_type": "code",
   "execution_count": 73,
   "id": "c5782877",
   "metadata": {},
   "outputs": [
    {
     "data": {
      "text/plain": [
       "318             $5 to $10 million (USD)\n",
       "533            Unknown / Non-Applicable\n",
       "539                  $10+ billion (USD)\n",
       "653            Unknown / Non-Applicable\n",
       "586             $5 to $10 million (USD)\n",
       "                     ...               \n",
       "857            Unknown / Non-Applicable\n",
       "79                   $10+ billion (USD)\n",
       "759    $500 million to $1 billion (USD)\n",
       "730                  $10+ billion (USD)\n",
       "117            Unknown / Non-Applicable\n",
       "Name: Revenue, Length: 593, dtype: object"
      ]
     },
     "execution_count": 73,
     "metadata": {},
     "output_type": "execute_result"
    }
   ],
   "source": [
    "df['Revenue']"
   ]
  },
  {
   "cell_type": "markdown",
   "id": "db1ab2c1",
   "metadata": {},
   "source": [
    "# Time to find correlations"
   ]
  },
  {
   "cell_type": "code",
   "execution_count": 74,
   "id": "edb090a4",
   "metadata": {},
   "outputs": [
    {
     "data": {
      "text/html": [
       "<div>\n",
       "<style scoped>\n",
       "    .dataframe tbody tr th:only-of-type {\n",
       "        vertical-align: middle;\n",
       "    }\n",
       "\n",
       "    .dataframe tbody tr th {\n",
       "        vertical-align: top;\n",
       "    }\n",
       "\n",
       "    .dataframe thead th {\n",
       "        text-align: right;\n",
       "    }\n",
       "</style>\n",
       "<table border=\"1\" class=\"dataframe\">\n",
       "  <thead>\n",
       "    <tr style=\"text-align: right;\">\n",
       "      <th></th>\n",
       "      <th>Age of Company</th>\n",
       "      <th>Avg Salary</th>\n",
       "      <th>Rating</th>\n",
       "      <th>Description_Length</th>\n",
       "    </tr>\n",
       "  </thead>\n",
       "  <tbody>\n",
       "    <tr>\n",
       "      <th>Age of Company</th>\n",
       "      <td>1.000000</td>\n",
       "      <td>-0.000873</td>\n",
       "      <td>-0.100111</td>\n",
       "      <td>0.136811</td>\n",
       "    </tr>\n",
       "    <tr>\n",
       "      <th>Avg Salary</th>\n",
       "      <td>-0.000873</td>\n",
       "      <td>1.000000</td>\n",
       "      <td>0.132609</td>\n",
       "      <td>0.083286</td>\n",
       "    </tr>\n",
       "    <tr>\n",
       "      <th>Rating</th>\n",
       "      <td>-0.100111</td>\n",
       "      <td>0.132609</td>\n",
       "      <td>1.000000</td>\n",
       "      <td>-0.056818</td>\n",
       "    </tr>\n",
       "    <tr>\n",
       "      <th>Description_Length</th>\n",
       "      <td>0.136811</td>\n",
       "      <td>0.083286</td>\n",
       "      <td>-0.056818</td>\n",
       "      <td>1.000000</td>\n",
       "    </tr>\n",
       "  </tbody>\n",
       "</table>\n",
       "</div>"
      ],
      "text/plain": [
       "                    Age of Company  Avg Salary    Rating  Description_Length\n",
       "Age of Company            1.000000   -0.000873 -0.100111            0.136811\n",
       "Avg Salary               -0.000873    1.000000  0.132609            0.083286\n",
       "Rating                   -0.100111    0.132609  1.000000           -0.056818\n",
       "Description_Length        0.136811    0.083286 -0.056818            1.000000"
      ]
     },
     "execution_count": 74,
     "metadata": {},
     "output_type": "execute_result"
    }
   ],
   "source": [
    "df[['Age of Company','Avg Salary','Rating','Description_Length']].corr()"
   ]
  },
  {
   "cell_type": "code",
   "execution_count": 75,
   "id": "c5d4cfd9",
   "metadata": {},
   "outputs": [
    {
     "data": {
      "text/plain": [
       "<AxesSubplot:>"
      ]
     },
     "execution_count": 75,
     "metadata": {},
     "output_type": "execute_result"
    },
    {
     "data": {
      "image/png": "[encoded data removed]",
      "text/plain": [
       "<Figure size 432x288 with 2 Axes>"
      ]
     },
     "metadata": {
      "needs_background": "light"
     },
     "output_type": "display_data"
    }
   ],
   "source": [
    "cmap = sns.diverging_palette(220,10, as_cmap=True)\n",
    "sns.heatmap(df[['Avg Salary','Rating','Description_Length', 'Age of Company']].corr(), vmax =0.3, center =0, cmap=cmap, square=True, linewidths=.5, cbar_kws={\"shrink\":.5})"
   ]
  },
  {
   "cell_type": "code",
   "execution_count": 76,
   "id": "91ace3c5",
   "metadata": {},
   "outputs": [
    {
     "data": {
      "text/plain": [
       "<AxesSubplot:>"
      ]
     },
     "execution_count": 76,
     "metadata": {},
     "output_type": "execute_result"
    },
    {
     "data": {
      "image/png": "[encoded data removed]",
      "text/plain": [
       "<Figure size 432x288 with 2 Axes>"
      ]
     },
     "metadata": {
      "needs_background": "light"
     },
     "output_type": "display_data"
    }
   ],
   "source": [
    "cmap = sns.diverging_palette(220,10, as_cmap=True)\n",
    "sns.heatmap(df[['Avg Salary','Rating','Description_Length', 'Age of Company','Competitor Count']].corr(), vmax =0.3, center =0, cmap=cmap, square=True, linewidths=.5, cbar_kws={\"shrink\":.5})"
   ]
  },
  {
   "cell_type": "code",
   "execution_count": 77,
   "id": "382ee22f",
   "metadata": {},
   "outputs": [
    {
     "data": {
      "text/plain": [
       "Index(['Job Title', 'Salary Estimate', 'Job Description', 'Rating',\n",
       "       'Company Name', 'Location', 'Headquarters', 'Size', 'Founded',\n",
       "       'Type of ownership', 'Industry', 'Sector', 'Revenue', 'Competitors',\n",
       "       'Salary_Per_Hour', 'Min_Salary', 'Max_Salary', 'Avg Salary', 'State',\n",
       "       'Is_Headquarters', 'Age of Company', 'Python', 'Spark', 'AWS', 'Excel',\n",
       "       'Job Categories', 'Seniority', 'Description_Length', 'Competitor Count',\n",
       "       'Revenue_Adj'],\n",
       "      dtype='object')"
      ]
     },
     "execution_count": 77,
     "metadata": {},
     "output_type": "execute_result"
    }
   ],
   "source": [
    "df.columns"
   ]
  },
  {
   "cell_type": "code",
   "execution_count": null,
   "id": "26593d09",
   "metadata": {},
   "outputs": [],
   "source": []
  },
  {
   "cell_type": "code",
   "execution_count": 78,
   "id": "a55e87a2",
   "metadata": {},
   "outputs": [
    {
     "data": {
      "text/html": [
       "<div>\n",
       "<style scoped>\n",
       "    .dataframe tbody tr th:only-of-type {\n",
       "        vertical-align: middle;\n",
       "    }\n",
       "\n",
       "    .dataframe tbody tr th {\n",
       "        vertical-align: top;\n",
       "    }\n",
       "\n",
       "    .dataframe thead th {\n",
       "        text-align: right;\n",
       "    }\n",
       "</style>\n",
       "<table border=\"1\" class=\"dataframe\">\n",
       "  <thead>\n",
       "    <tr style=\"text-align: right;\">\n",
       "      <th></th>\n",
       "      <th>Avg Salary</th>\n",
       "    </tr>\n",
       "    <tr>\n",
       "      <th>Seniority</th>\n",
       "      <th></th>\n",
       "    </tr>\n",
       "  </thead>\n",
       "  <tbody>\n",
       "    <tr>\n",
       "      <th>Junior</th>\n",
       "      <td>71.000000</td>\n",
       "    </tr>\n",
       "    <tr>\n",
       "      <th>none</th>\n",
       "      <td>93.112591</td>\n",
       "    </tr>\n",
       "    <tr>\n",
       "      <th>Senior</th>\n",
       "      <td>120.299435</td>\n",
       "    </tr>\n",
       "  </tbody>\n",
       "</table>\n",
       "</div>"
      ],
      "text/plain": [
       "           Avg Salary\n",
       "Seniority            \n",
       "Junior      71.000000\n",
       "none        93.112591\n",
       "Senior     120.299435"
      ]
     },
     "execution_count": 78,
     "metadata": {},
     "output_type": "execute_result"
    }
   ],
   "source": [
    "senior = pd.pivot_table(df, index=['Seniority'], values='Avg Salary').sort_values('Avg Salary',ascending=True)\n",
    "senior"
   ]
  },
  {
   "cell_type": "code",
   "execution_count": null,
   "id": "506da83c",
   "metadata": {},
   "outputs": [],
   "source": []
  },
  {
   "cell_type": "code",
   "execution_count": 79,
   "id": "c3a029fc",
   "metadata": {},
   "outputs": [
    {
     "data": {
      "text/plain": [
       "<AxesSubplot:xlabel='Job Categories'>"
      ]
     },
     "execution_count": 79,
     "metadata": {},
     "output_type": "execute_result"
    },
    {
     "data": {
      "image/png": "[encoded data removed]",
      "text/plain": [
       "<Figure size 432x288 with 1 Axes>"
      ]
     },
     "metadata": {
      "needs_background": "light"
     },
     "output_type": "display_data"
    }
   ],
   "source": [
    "job_cat = pd.pivot_table(df, index =['Job Categories'], values='Avg Salary')\n",
    "\n",
    "job_cat.plot(kind='bar')"
   ]
  },
  {
   "cell_type": "code",
   "execution_count": 80,
   "id": "d856e1d0",
   "metadata": {},
   "outputs": [
    {
     "data": {
      "text/plain": [
       "<AxesSubplot:xlabel='State'>"
      ]
     },
     "execution_count": 80,
     "metadata": {},
     "output_type": "execute_result"
    },
    {
     "data": {
      "image/png": "[encoded data removed]",
      "text/plain": [
       "<Figure size 432x288 with 1 Axes>"
      ]
     },
     "metadata": {
      "needs_background": "light"
     },
     "output_type": "display_data"
    }
   ],
   "source": [
    "states = pd.pivot_table(df, index = 'State', values='Avg Salary')\n",
    "\n",
    "states.plot(kind='bar')"
   ]
  },
  {
   "cell_type": "code",
   "execution_count": 81,
   "id": "fc2cc3a6",
   "metadata": {},
   "outputs": [
    {
     "data": {
      "text/html": [
       "<div>\n",
       "<style scoped>\n",
       "    .dataframe tbody tr th:only-of-type {\n",
       "        vertical-align: middle;\n",
       "    }\n",
       "\n",
       "    .dataframe tbody tr th {\n",
       "        vertical-align: top;\n",
       "    }\n",
       "\n",
       "    .dataframe thead th {\n",
       "        text-align: right;\n",
       "    }\n",
       "</style>\n",
       "<table border=\"1\" class=\"dataframe\">\n",
       "  <thead>\n",
       "    <tr style=\"text-align: right;\">\n",
       "      <th></th>\n",
       "      <th></th>\n",
       "      <th></th>\n",
       "      <th></th>\n",
       "      <th>Avg Salary</th>\n",
       "    </tr>\n",
       "    <tr>\n",
       "      <th>Python</th>\n",
       "      <th>Spark</th>\n",
       "      <th>AWS</th>\n",
       "      <th>Excel</th>\n",
       "      <th></th>\n",
       "    </tr>\n",
       "  </thead>\n",
       "  <tbody>\n",
       "    <tr>\n",
       "      <th rowspan=\"8\" valign=\"top\">0</th>\n",
       "      <th rowspan=\"4\" valign=\"top\">0</th>\n",
       "      <th rowspan=\"2\" valign=\"top\">0</th>\n",
       "      <th>0</th>\n",
       "      <td>92.354167</td>\n",
       "    </tr>\n",
       "    <tr>\n",
       "      <th>1</th>\n",
       "      <td>83.022917</td>\n",
       "    </tr>\n",
       "    <tr>\n",
       "      <th rowspan=\"2\" valign=\"top\">1</th>\n",
       "      <th>0</th>\n",
       "      <td>81.107143</td>\n",
       "    </tr>\n",
       "    <tr>\n",
       "      <th>1</th>\n",
       "      <td>102.333333</td>\n",
       "    </tr>\n",
       "    <tr>\n",
       "      <th rowspan=\"4\" valign=\"top\">1</th>\n",
       "      <th rowspan=\"2\" valign=\"top\">0</th>\n",
       "      <th>0</th>\n",
       "      <td>47.000000</td>\n",
       "    </tr>\n",
       "    <tr>\n",
       "      <th>1</th>\n",
       "      <td>95.388889</td>\n",
       "    </tr>\n",
       "    <tr>\n",
       "      <th rowspan=\"2\" valign=\"top\">1</th>\n",
       "      <th>0</th>\n",
       "      <td>130.857143</td>\n",
       "    </tr>\n",
       "    <tr>\n",
       "      <th>1</th>\n",
       "      <td>106.300000</td>\n",
       "    </tr>\n",
       "    <tr>\n",
       "      <th rowspan=\"8\" valign=\"top\">1</th>\n",
       "      <th rowspan=\"4\" valign=\"top\">0</th>\n",
       "      <th rowspan=\"2\" valign=\"top\">0</th>\n",
       "      <th>0</th>\n",
       "      <td>112.264286</td>\n",
       "    </tr>\n",
       "    <tr>\n",
       "      <th>1</th>\n",
       "      <td>106.164706</td>\n",
       "    </tr>\n",
       "    <tr>\n",
       "      <th rowspan=\"2\" valign=\"top\">1</th>\n",
       "      <th>0</th>\n",
       "      <td>119.365385</td>\n",
       "    </tr>\n",
       "    <tr>\n",
       "      <th>1</th>\n",
       "      <td>111.100000</td>\n",
       "    </tr>\n",
       "    <tr>\n",
       "      <th rowspan=\"4\" valign=\"top\">1</th>\n",
       "      <th rowspan=\"2\" valign=\"top\">0</th>\n",
       "      <th>0</th>\n",
       "      <td>106.839286</td>\n",
       "    </tr>\n",
       "    <tr>\n",
       "      <th>1</th>\n",
       "      <td>113.821429</td>\n",
       "    </tr>\n",
       "    <tr>\n",
       "      <th rowspan=\"2\" valign=\"top\">1</th>\n",
       "      <th>0</th>\n",
       "      <td>123.683333</td>\n",
       "    </tr>\n",
       "    <tr>\n",
       "      <th>1</th>\n",
       "      <td>109.884615</td>\n",
       "    </tr>\n",
       "  </tbody>\n",
       "</table>\n",
       "</div>"
      ],
      "text/plain": [
       "                        Avg Salary\n",
       "Python Spark AWS Excel            \n",
       "0      0     0   0       92.354167\n",
       "                 1       83.022917\n",
       "             1   0       81.107143\n",
       "                 1      102.333333\n",
       "       1     0   0       47.000000\n",
       "                 1       95.388889\n",
       "             1   0      130.857143\n",
       "                 1      106.300000\n",
       "1      0     0   0      112.264286\n",
       "                 1      106.164706\n",
       "             1   0      119.365385\n",
       "                 1      111.100000\n",
       "       1     0   0      106.839286\n",
       "                 1      113.821429\n",
       "             1   0      123.683333\n",
       "                 1      109.884615"
      ]
     },
     "execution_count": 81,
     "metadata": {},
     "output_type": "execute_result"
    }
   ],
   "source": [
    "job_tools=pd.pivot_table(df,index=['Python', 'Spark', 'AWS', 'Excel'],values='Avg Salary')\n",
    "job_tools"
   ]
  },
  {
   "cell_type": "code",
   "execution_count": 82,
   "id": "149b3ca9",
   "metadata": {},
   "outputs": [
    {
     "data": {
      "text/html": [
       "<div>\n",
       "<style scoped>\n",
       "    .dataframe tbody tr th:only-of-type {\n",
       "        vertical-align: middle;\n",
       "    }\n",
       "\n",
       "    .dataframe tbody tr th {\n",
       "        vertical-align: top;\n",
       "    }\n",
       "\n",
       "    .dataframe thead th {\n",
       "        text-align: right;\n",
       "    }\n",
       "</style>\n",
       "<table border=\"1\" class=\"dataframe\">\n",
       "  <thead>\n",
       "    <tr style=\"text-align: right;\">\n",
       "      <th></th>\n",
       "      <th></th>\n",
       "      <th>Avg Salary</th>\n",
       "    </tr>\n",
       "    <tr>\n",
       "      <th>Job Categories</th>\n",
       "      <th>Seniority</th>\n",
       "      <th></th>\n",
       "    </tr>\n",
       "  </thead>\n",
       "  <tbody>\n",
       "    <tr>\n",
       "      <th rowspan=\"3\" valign=\"top\">Data Analyst</th>\n",
       "      <th>Junior</th>\n",
       "      <td>53.250000</td>\n",
       "    </tr>\n",
       "    <tr>\n",
       "      <th>Senior</th>\n",
       "      <td>84.428571</td>\n",
       "    </tr>\n",
       "    <tr>\n",
       "      <th>none</th>\n",
       "      <td>61.163934</td>\n",
       "    </tr>\n",
       "    <tr>\n",
       "      <th rowspan=\"2\" valign=\"top\">Data Engineer</th>\n",
       "      <th>Senior</th>\n",
       "      <td>124.200000</td>\n",
       "    </tr>\n",
       "    <tr>\n",
       "      <th>none</th>\n",
       "      <td>96.181159</td>\n",
       "    </tr>\n",
       "    <tr>\n",
       "      <th rowspan=\"3\" valign=\"top\">Data Scientist</th>\n",
       "      <th>Junior</th>\n",
       "      <td>106.500000</td>\n",
       "    </tr>\n",
       "    <tr>\n",
       "      <th>Senior</th>\n",
       "      <td>138.183099</td>\n",
       "    </tr>\n",
       "    <tr>\n",
       "      <th>none</th>\n",
       "      <td>107.639073</td>\n",
       "    </tr>\n",
       "    <tr>\n",
       "      <th>Director</th>\n",
       "      <th>none</th>\n",
       "      <td>152.772727</td>\n",
       "    </tr>\n",
       "    <tr>\n",
       "      <th rowspan=\"2\" valign=\"top\">Machine Learning Engineer</th>\n",
       "      <th>Senior</th>\n",
       "      <td>127.000000</td>\n",
       "    </tr>\n",
       "    <tr>\n",
       "      <th>none</th>\n",
       "      <td>109.500000</td>\n",
       "    </tr>\n",
       "    <tr>\n",
       "      <th>Manager</th>\n",
       "      <th>none</th>\n",
       "      <td>86.058824</td>\n",
       "    </tr>\n",
       "    <tr>\n",
       "      <th rowspan=\"2\" valign=\"top\">Other</th>\n",
       "      <th>Senior</th>\n",
       "      <td>113.472973</td>\n",
       "    </tr>\n",
       "    <tr>\n",
       "      <th>none</th>\n",
       "      <td>80.312500</td>\n",
       "    </tr>\n",
       "    <tr>\n",
       "      <th rowspan=\"2\" valign=\"top\">Other Engineer</th>\n",
       "      <th>Senior</th>\n",
       "      <td>86.300000</td>\n",
       "    </tr>\n",
       "    <tr>\n",
       "      <th>none</th>\n",
       "      <td>87.625000</td>\n",
       "    </tr>\n",
       "    <tr>\n",
       "      <th>Software Engineer</th>\n",
       "      <th>none</th>\n",
       "      <td>96.250000</td>\n",
       "    </tr>\n",
       "  </tbody>\n",
       "</table>\n",
       "</div>"
      ],
      "text/plain": [
       "                                     Avg Salary\n",
       "Job Categories            Seniority            \n",
       "Data Analyst              Junior      53.250000\n",
       "                          Senior      84.428571\n",
       "                          none        61.163934\n",
       "Data Engineer             Senior     124.200000\n",
       "                          none        96.181159\n",
       "Data Scientist            Junior     106.500000\n",
       "                          Senior     138.183099\n",
       "                          none       107.639073\n",
       "Director                  none       152.772727\n",
       "Machine Learning Engineer Senior     127.000000\n",
       "                          none       109.500000\n",
       "Manager                   none        86.058824\n",
       "Other                     Senior     113.472973\n",
       "                          none        80.312500\n",
       "Other Engineer            Senior      86.300000\n",
       "                          none        87.625000\n",
       "Software Engineer         none        96.250000"
      ]
     },
     "execution_count": 82,
     "metadata": {},
     "output_type": "execute_result"
    }
   ],
   "source": [
    "job_cat=pd.pivot_table(df,index=['Job Categories', 'Seniority'],values='Avg Salary')\n",
    "job_cat"
   ]
  },
  {
   "cell_type": "code",
   "execution_count": 83,
   "id": "2fd6b216",
   "metadata": {},
   "outputs": [
    {
     "data": {
      "text/html": [
       "<div>\n",
       "<style scoped>\n",
       "    .dataframe tbody tr th:only-of-type {\n",
       "        vertical-align: middle;\n",
       "    }\n",
       "\n",
       "    .dataframe tbody tr th {\n",
       "        vertical-align: top;\n",
       "    }\n",
       "\n",
       "    .dataframe thead th {\n",
       "        text-align: right;\n",
       "    }\n",
       "</style>\n",
       "<table border=\"1\" class=\"dataframe\">\n",
       "  <thead>\n",
       "    <tr style=\"text-align: right;\">\n",
       "      <th></th>\n",
       "      <th>Avg Salary</th>\n",
       "    </tr>\n",
       "    <tr>\n",
       "      <th>Sector</th>\n",
       "      <th></th>\n",
       "    </tr>\n",
       "  </thead>\n",
       "  <tbody>\n",
       "    <tr>\n",
       "      <th>-1</th>\n",
       "      <td>114.650000</td>\n",
       "    </tr>\n",
       "    <tr>\n",
       "      <th>Accounting &amp; Legal</th>\n",
       "      <td>113.500000</td>\n",
       "    </tr>\n",
       "    <tr>\n",
       "      <th>Aerospace &amp; Defense</th>\n",
       "      <td>101.400000</td>\n",
       "    </tr>\n",
       "    <tr>\n",
       "      <th>Arts, Entertainment &amp; Recreation</th>\n",
       "      <td>48.500000</td>\n",
       "    </tr>\n",
       "    <tr>\n",
       "      <th>Biotech &amp; Pharmaceuticals</th>\n",
       "      <td>113.089888</td>\n",
       "    </tr>\n",
       "    <tr>\n",
       "      <th>Business Services</th>\n",
       "      <td>97.523529</td>\n",
       "    </tr>\n",
       "    <tr>\n",
       "      <th>Construction, Repair &amp; Maintenance</th>\n",
       "      <td>66.250000</td>\n",
       "    </tr>\n",
       "    <tr>\n",
       "      <th>Consumer Services</th>\n",
       "      <td>100.666667</td>\n",
       "    </tr>\n",
       "    <tr>\n",
       "      <th>Education</th>\n",
       "      <td>100.600000</td>\n",
       "    </tr>\n",
       "    <tr>\n",
       "      <th>Finance</th>\n",
       "      <td>99.500000</td>\n",
       "    </tr>\n",
       "    <tr>\n",
       "      <th>Government</th>\n",
       "      <td>87.000000</td>\n",
       "    </tr>\n",
       "    <tr>\n",
       "      <th>Health Care</th>\n",
       "      <td>81.596154</td>\n",
       "    </tr>\n",
       "    <tr>\n",
       "      <th>Information Technology</th>\n",
       "      <td>109.963768</td>\n",
       "    </tr>\n",
       "    <tr>\n",
       "      <th>Insurance</th>\n",
       "      <td>102.084746</td>\n",
       "    </tr>\n",
       "    <tr>\n",
       "      <th>Manufacturing</th>\n",
       "      <td>83.700000</td>\n",
       "    </tr>\n",
       "    <tr>\n",
       "      <th>Media</th>\n",
       "      <td>110.800000</td>\n",
       "    </tr>\n",
       "    <tr>\n",
       "      <th>Mining &amp; Metals</th>\n",
       "      <td>104.000000</td>\n",
       "    </tr>\n",
       "    <tr>\n",
       "      <th>Non-Profit</th>\n",
       "      <td>74.285714</td>\n",
       "    </tr>\n",
       "    <tr>\n",
       "      <th>Oil, Gas, Energy &amp; Utilities</th>\n",
       "      <td>81.500000</td>\n",
       "    </tr>\n",
       "    <tr>\n",
       "      <th>Real Estate</th>\n",
       "      <td>108.700000</td>\n",
       "    </tr>\n",
       "    <tr>\n",
       "      <th>Retail</th>\n",
       "      <td>91.045455</td>\n",
       "    </tr>\n",
       "    <tr>\n",
       "      <th>Telecommunications</th>\n",
       "      <td>102.333333</td>\n",
       "    </tr>\n",
       "    <tr>\n",
       "      <th>Transportation &amp; Logistics</th>\n",
       "      <td>95.750000</td>\n",
       "    </tr>\n",
       "    <tr>\n",
       "      <th>Travel &amp; Tourism</th>\n",
       "      <td>70.300000</td>\n",
       "    </tr>\n",
       "  </tbody>\n",
       "</table>\n",
       "</div>"
      ],
      "text/plain": [
       "                                    Avg Salary\n",
       "Sector                                        \n",
       "-1                                  114.650000\n",
       "Accounting & Legal                  113.500000\n",
       "Aerospace & Defense                 101.400000\n",
       "Arts, Entertainment & Recreation     48.500000\n",
       "Biotech & Pharmaceuticals           113.089888\n",
       "Business Services                    97.523529\n",
       "Construction, Repair & Maintenance   66.250000\n",
       "Consumer Services                   100.666667\n",
       "Education                           100.600000\n",
       "Finance                              99.500000\n",
       "Government                           87.000000\n",
       "Health Care                          81.596154\n",
       "Information Technology              109.963768\n",
       "Insurance                           102.084746\n",
       "Manufacturing                        83.700000\n",
       "Media                               110.800000\n",
       "Mining & Metals                     104.000000\n",
       "Non-Profit                           74.285714\n",
       "Oil, Gas, Energy & Utilities         81.500000\n",
       "Real Estate                         108.700000\n",
       "Retail                               91.045455\n",
       "Telecommunications                  102.333333\n",
       "Transportation & Logistics           95.750000\n",
       "Travel & Tourism                     70.300000"
      ]
     },
     "execution_count": 83,
     "metadata": {},
     "output_type": "execute_result"
    }
   ],
   "source": [
    "job_sec=pd.pivot_table(df,index=['Sector'],values='Avg Salary')\n",
    "job_sec"
   ]
  },
  {
   "cell_type": "code",
   "execution_count": 84,
   "id": "54bf9c77",
   "metadata": {},
   "outputs": [
    {
     "data": {
      "text/html": [
       "<div>\n",
       "<style scoped>\n",
       "    .dataframe tbody tr th:only-of-type {\n",
       "        vertical-align: middle;\n",
       "    }\n",
       "\n",
       "    .dataframe tbody tr th {\n",
       "        vertical-align: top;\n",
       "    }\n",
       "\n",
       "    .dataframe thead th {\n",
       "        text-align: right;\n",
       "    }\n",
       "</style>\n",
       "<table border=\"1\" class=\"dataframe\">\n",
       "  <thead>\n",
       "    <tr style=\"text-align: right;\">\n",
       "      <th></th>\n",
       "      <th>Avg Salary</th>\n",
       "    </tr>\n",
       "    <tr>\n",
       "      <th>Is_Headquarters</th>\n",
       "      <th></th>\n",
       "    </tr>\n",
       "  </thead>\n",
       "  <tbody>\n",
       "    <tr>\n",
       "      <th>0</th>\n",
       "      <td>102.307769</td>\n",
       "    </tr>\n",
       "    <tr>\n",
       "      <th>1</th>\n",
       "      <td>100.240497</td>\n",
       "    </tr>\n",
       "  </tbody>\n",
       "</table>\n",
       "</div>"
      ],
      "text/plain": [
       "                 Avg Salary\n",
       "Is_Headquarters            \n",
       "0                102.307769\n",
       "1                100.240497"
      ]
     },
     "execution_count": 84,
     "metadata": {},
     "output_type": "execute_result"
    }
   ],
   "source": [
    "job_hed=pd.pivot_table(df,index=['Is_Headquarters'],values='Avg Salary')\n",
    "job_hed"
   ]
  },
  {
   "cell_type": "code",
   "execution_count": 85,
   "id": "04edcc56",
   "metadata": {},
   "outputs": [
    {
     "data": {
      "text/html": [
       "<div>\n",
       "<style scoped>\n",
       "    .dataframe tbody tr th:only-of-type {\n",
       "        vertical-align: middle;\n",
       "    }\n",
       "\n",
       "    .dataframe tbody tr th {\n",
       "        vertical-align: top;\n",
       "    }\n",
       "\n",
       "    .dataframe thead th {\n",
       "        text-align: right;\n",
       "    }\n",
       "</style>\n",
       "<table border=\"1\" class=\"dataframe\">\n",
       "  <thead>\n",
       "    <tr style=\"text-align: right;\">\n",
       "      <th></th>\n",
       "      <th>Avg Salary</th>\n",
       "    </tr>\n",
       "    <tr>\n",
       "      <th>Revenue</th>\n",
       "      <th></th>\n",
       "    </tr>\n",
       "  </thead>\n",
       "  <tbody>\n",
       "    <tr>\n",
       "      <th>$25 to $50 million (USD)</th>\n",
       "      <td>82.838235</td>\n",
       "    </tr>\n",
       "    <tr>\n",
       "      <th>$500 million to $1 billion (USD)</th>\n",
       "      <td>87.312500</td>\n",
       "    </tr>\n",
       "    <tr>\n",
       "      <th>$100 to $500 million (USD)</th>\n",
       "      <td>87.852941</td>\n",
       "    </tr>\n",
       "    <tr>\n",
       "      <th>$5 to $10 billion (USD)</th>\n",
       "      <td>93.470588</td>\n",
       "    </tr>\n",
       "    <tr>\n",
       "      <th>$10 to $25 million (USD)</th>\n",
       "      <td>94.260000</td>\n",
       "    </tr>\n",
       "    <tr>\n",
       "      <th>$2 to $5 billion (USD)</th>\n",
       "      <td>96.103448</td>\n",
       "    </tr>\n",
       "    <tr>\n",
       "      <th>Unknown / Non-Applicable</th>\n",
       "      <td>104.693252</td>\n",
       "    </tr>\n",
       "    <tr>\n",
       "      <th>$1 to $2 billion (USD)</th>\n",
       "      <td>105.010870</td>\n",
       "    </tr>\n",
       "    <tr>\n",
       "      <th>$50 to $100 million (USD)</th>\n",
       "      <td>105.973684</td>\n",
       "    </tr>\n",
       "    <tr>\n",
       "      <th>Less than $1 million (USD)</th>\n",
       "      <td>108.625000</td>\n",
       "    </tr>\n",
       "    <tr>\n",
       "      <th>$10+ billion (USD)</th>\n",
       "      <td>113.222222</td>\n",
       "    </tr>\n",
       "    <tr>\n",
       "      <th>-1</th>\n",
       "      <td>117.500000</td>\n",
       "    </tr>\n",
       "    <tr>\n",
       "      <th>$1 to $5 million (USD)</th>\n",
       "      <td>119.312500</td>\n",
       "    </tr>\n",
       "    <tr>\n",
       "      <th>$5 to $10 million (USD)</th>\n",
       "      <td>123.807692</td>\n",
       "    </tr>\n",
       "  </tbody>\n",
       "</table>\n",
       "</div>"
      ],
      "text/plain": [
       "                                  Avg Salary\n",
       "Revenue                                     \n",
       "$25 to $50 million (USD)           82.838235\n",
       "$500 million to $1 billion (USD)   87.312500\n",
       "$100 to $500 million (USD)         87.852941\n",
       "$5 to $10 billion (USD)            93.470588\n",
       "$10 to $25 million (USD)           94.260000\n",
       "$2 to $5 billion (USD)             96.103448\n",
       "Unknown / Non-Applicable          104.693252\n",
       "$1 to $2 billion (USD)            105.010870\n",
       "$50 to $100 million (USD)         105.973684\n",
       "Less than $1 million (USD)        108.625000\n",
       "$10+ billion (USD)                113.222222\n",
       "-1                                117.500000\n",
       "$1 to $5 million (USD)            119.312500\n",
       "$5 to $10 million (USD)           123.807692"
      ]
     },
     "execution_count": 85,
     "metadata": {},
     "output_type": "execute_result"
    }
   ],
   "source": [
    "rev = pd.pivot_table(df, index=['Revenue'], values='Avg Salary').sort_values('Avg Salary',ascending=True)\n",
    "rev"
   ]
  },
  {
   "cell_type": "code",
   "execution_count": 86,
   "id": "300dc9bb",
   "metadata": {},
   "outputs": [
    {
     "data": {
      "text/html": [
       "<div>\n",
       "<style scoped>\n",
       "    .dataframe tbody tr th:only-of-type {\n",
       "        vertical-align: middle;\n",
       "    }\n",
       "\n",
       "    .dataframe tbody tr th {\n",
       "        vertical-align: top;\n",
       "    }\n",
       "\n",
       "    .dataframe thead th {\n",
       "        text-align: right;\n",
       "    }\n",
       "</style>\n",
       "<table border=\"1\" class=\"dataframe\">\n",
       "  <thead>\n",
       "    <tr style=\"text-align: right;\">\n",
       "      <th></th>\n",
       "      <th>Avg Salary</th>\n",
       "    </tr>\n",
       "    <tr>\n",
       "      <th>Revenue_Adj</th>\n",
       "      <th></th>\n",
       "    </tr>\n",
       "  </thead>\n",
       "  <tbody>\n",
       "    <tr>\n",
       "      <th>medium</th>\n",
       "      <td>87.312500</td>\n",
       "    </tr>\n",
       "    <tr>\n",
       "      <th>small</th>\n",
       "      <td>95.644737</td>\n",
       "    </tr>\n",
       "    <tr>\n",
       "      <th>Unknown / Non-Applicable</th>\n",
       "      <td>104.771341</td>\n",
       "    </tr>\n",
       "    <tr>\n",
       "      <th>big</th>\n",
       "      <td>106.887435</td>\n",
       "    </tr>\n",
       "  </tbody>\n",
       "</table>\n",
       "</div>"
      ],
      "text/plain": [
       "                          Avg Salary\n",
       "Revenue_Adj                         \n",
       "medium                     87.312500\n",
       "small                      95.644737\n",
       "Unknown / Non-Applicable  104.771341\n",
       "big                       106.887435"
      ]
     },
     "execution_count": 86,
     "metadata": {},
     "output_type": "execute_result"
    }
   ],
   "source": [
    "rev = pd.pivot_table(df, index=['Revenue_Adj'], values='Avg Salary').sort_values('Avg Salary',ascending=True)\n",
    "rev"
   ]
  },
  {
   "cell_type": "code",
   "execution_count": 87,
   "id": "53d95e31",
   "metadata": {},
   "outputs": [
    {
     "data": {
      "text/plain": [
       "30"
      ]
     },
     "execution_count": 87,
     "metadata": {},
     "output_type": "execute_result"
    }
   ],
   "source": [
    "len(df.columns)"
   ]
  },
  {
   "cell_type": "code",
   "execution_count": 88,
   "id": "79aabbba",
   "metadata": {},
   "outputs": [
    {
     "data": {
      "text/plain": [
       "Index(['Job Title', 'Salary Estimate', 'Job Description', 'Rating',\n",
       "       'Company Name', 'Location', 'Headquarters', 'Size', 'Founded',\n",
       "       'Type of ownership', 'Industry', 'Sector', 'Revenue', 'Competitors',\n",
       "       'Salary_Per_Hour', 'Min_Salary', 'Max_Salary', 'Avg Salary', 'State',\n",
       "       'Is_Headquarters', 'Age of Company', 'Python', 'Spark', 'AWS', 'Excel',\n",
       "       'Job Categories', 'Seniority', 'Description_Length', 'Competitor Count',\n",
       "       'Revenue_Adj'],\n",
       "      dtype='object')"
      ]
     },
     "execution_count": 88,
     "metadata": {},
     "output_type": "execute_result"
    }
   ],
   "source": [
    "df.columns"
   ]
  },
  {
   "cell_type": "code",
   "execution_count": 89,
   "id": "ba359459",
   "metadata": {},
   "outputs": [],
   "source": [
    "dfDummies = pd.get_dummies(df.drop(['Job Title', 'Salary Estimate', 'Job Description', 'Rating',\n",
    "       'Company Name', 'Location', 'Headquarters', 'Size', 'Founded',\n",
    "       'Type of ownership', 'Industry', 'Sector', 'Revenue', 'Competitors',\n",
    "       'Salary_Per_Hour', 'Min_Salary', 'Max_Salary', 'State',\n",
    "       'Is_Headquarters', 'Age of Company', 'Python', 'Spark', 'AWS', 'Excel',\n",
    "       'Job Categories', 'Seniority', 'Description_Length', 'Competitor Count'], axis=1))"
   ]
  },
  {
   "cell_type": "code",
   "execution_count": 90,
   "id": "a0d61ff3",
   "metadata": {},
   "outputs": [
    {
     "data": {
      "text/plain": [
       "Index(['Avg Salary', 'Revenue_Adj_Unknown / Non-Applicable', 'Revenue_Adj_big',\n",
       "       'Revenue_Adj_medium', 'Revenue_Adj_small'],\n",
       "      dtype='object')"
      ]
     },
     "execution_count": 90,
     "metadata": {},
     "output_type": "execute_result"
    }
   ],
   "source": [
    "dfDummies.columns"
   ]
  },
  {
   "cell_type": "code",
   "execution_count": 91,
   "id": "94843c07",
   "metadata": {},
   "outputs": [
    {
     "data": {
      "text/plain": [
       "<AxesSubplot:>"
      ]
     },
     "execution_count": 91,
     "metadata": {},
     "output_type": "execute_result"
    },
    {
     "data": {
      "image/png": "[encoded data removed]",
      "text/plain": [
       "<Figure size 432x288 with 2 Axes>"
      ]
     },
     "metadata": {
      "needs_background": "light"
     },
     "output_type": "display_data"
    }
   ],
   "source": [
    "#as we can see there is only a very small correlation between the revenue and the avg salary.\n",
    "#foe the big rev its a positive corellation and for small and medium its negative\n",
    "cmap = sns.diverging_palette(220,10, as_cmap=True)\n",
    "sns.heatmap(dfDummies[['Avg Salary', 'Revenue_Adj_Unknown / Non-Applicable', 'Revenue_Adj_big',\n",
    "       'Revenue_Adj_medium', 'Revenue_Adj_small']].corr(), vmax =0.5, center =0, cmap=cmap, square=True, linewidths=.5, cbar_kws={\"shrink\":.5})"
   ]
  },
  {
   "cell_type": "code",
   "execution_count": 92,
   "id": "0b71b305",
   "metadata": {},
   "outputs": [],
   "source": [
    "dfDummies = pd.get_dummies(df.drop(['Job Title', 'Salary Estimate', 'Job Description', 'Rating',\n",
    "       'Company Name', 'Location', 'Headquarters', 'Size', 'Founded',\n",
    "       'Type of ownership', 'Industry', 'Sector', 'Revenue', 'Competitors',\n",
    "       'Salary_Per_Hour', 'Min_Salary', 'Max_Salary','State',\n",
    "       'Is_Headquarters', 'Age of Company', 'Python', 'Spark', 'AWS', 'Excel', 'Seniority', 'Description_Length', 'Competitor Count',\n",
    "       'Revenue_Adj'], axis=1))"
   ]
  },
  {
   "cell_type": "code",
   "execution_count": 93,
   "id": "4cbfc074",
   "metadata": {},
   "outputs": [
    {
     "data": {
      "text/plain": [
       "Index(['Avg Salary', 'Job Categories_Data Analyst',\n",
       "       'Job Categories_Data Engineer', 'Job Categories_Data Scientist',\n",
       "       'Job Categories_Director', 'Job Categories_Machine Learning Engineer',\n",
       "       'Job Categories_Manager', 'Job Categories_Other',\n",
       "       'Job Categories_Other Engineer', 'Job Categories_Software Engineer'],\n",
       "      dtype='object')"
      ]
     },
     "execution_count": 93,
     "metadata": {},
     "output_type": "execute_result"
    }
   ],
   "source": [
    "dfDummies.columns"
   ]
  },
  {
   "cell_type": "code",
   "execution_count": 94,
   "id": "56052d15",
   "metadata": {},
   "outputs": [
    {
     "data": {
      "text/html": [
       "<div>\n",
       "<style scoped>\n",
       "    .dataframe tbody tr th:only-of-type {\n",
       "        vertical-align: middle;\n",
       "    }\n",
       "\n",
       "    .dataframe tbody tr th {\n",
       "        vertical-align: top;\n",
       "    }\n",
       "\n",
       "    .dataframe thead th {\n",
       "        text-align: right;\n",
       "    }\n",
       "</style>\n",
       "<table border=\"1\" class=\"dataframe\">\n",
       "  <thead>\n",
       "    <tr style=\"text-align: right;\">\n",
       "      <th></th>\n",
       "      <th>Avg Salary</th>\n",
       "    </tr>\n",
       "    <tr>\n",
       "      <th>Competitor Count</th>\n",
       "      <th></th>\n",
       "    </tr>\n",
       "  </thead>\n",
       "  <tbody>\n",
       "    <tr>\n",
       "      <th>4</th>\n",
       "      <td>56.500000</td>\n",
       "    </tr>\n",
       "    <tr>\n",
       "      <th>0</th>\n",
       "      <td>99.268000</td>\n",
       "    </tr>\n",
       "    <tr>\n",
       "      <th>3</th>\n",
       "      <td>103.591667</td>\n",
       "    </tr>\n",
       "    <tr>\n",
       "      <th>2</th>\n",
       "      <td>108.666667</td>\n",
       "    </tr>\n",
       "    <tr>\n",
       "      <th>1</th>\n",
       "      <td>109.900000</td>\n",
       "    </tr>\n",
       "  </tbody>\n",
       "</table>\n",
       "</div>"
      ],
      "text/plain": [
       "                  Avg Salary\n",
       "Competitor Count            \n",
       "4                  56.500000\n",
       "0                  99.268000\n",
       "3                 103.591667\n",
       "2                 108.666667\n",
       "1                 109.900000"
      ]
     },
     "execution_count": 94,
     "metadata": {},
     "output_type": "execute_result"
    }
   ],
   "source": [
    "#as you can see here there is a negitive correlation between the number of competitors to the avg salary(0 is NaN values)\n",
    "comp = pd.pivot_table(df, index=['Competitor Count'], values='Avg Salary').sort_values('Avg Salary',ascending=True)\n",
    "comp"
   ]
  },
  {
   "cell_type": "code",
   "execution_count": 95,
   "id": "f0b99309",
   "metadata": {},
   "outputs": [
    {
     "data": {
      "text/plain": [
       "<AxesSubplot:>"
      ]
     },
     "execution_count": 95,
     "metadata": {},
     "output_type": "execute_result"
    },
    {
     "data": {
      "image/png": "[encoded data removed]",
      "text/plain": [
       "<Figure size 432x288 with 2 Axes>"
      ]
     },
     "metadata": {
      "needs_background": "light"
     },
     "output_type": "display_data"
    }
   ],
   "source": [
    "#as we can see it really makes a difference what catagory job you have\n",
    "cmap = sns.diverging_palette(220,10, as_cmap=True)\n",
    "sns.heatmap(dfDummies[['Avg Salary', 'Job Categories_Data Analyst',\n",
    "       'Job Categories_Data Engineer', 'Job Categories_Data Scientist',\n",
    "       'Job Categories_Director', 'Job Categories_Machine Learning Engineer',\n",
    "       'Job Categories_Manager', 'Job Categories_Other',\n",
    "       'Job Categories_Other Engineer', 'Job Categories_Software Engineer']].corr(), vmax =0.5, center =0, cmap=cmap, square=True, linewidths=.5, cbar_kws={\"shrink\":.5})"
   ]
  },
  {
   "cell_type": "markdown",
   "id": "0f9807df",
   "metadata": {},
   "source": [
    "# these are the categories we will use\n",
    "\n",
    "# 1.job category\n",
    "# 2.industry/sector (let's test it)\n",
    "# 3.what languages you use\n",
    "# 4.rating\n",
    "# 5.description length\n",
    "# 6.state\n",
    "# 7.seniority\n"
   ]
  },
  {
   "cell_type": "code",
   "execution_count": 96,
   "id": "7b80b246",
   "metadata": {},
   "outputs": [],
   "source": [
    "dfDummies = pd.get_dummies(df.drop(['Job Title'], axis=1))"
   ]
  },
  {
   "cell_type": "code",
   "execution_count": 97,
   "id": "d35396a5",
   "metadata": {},
   "outputs": [
    {
     "data": {
      "text/plain": [
       "<AxesSubplot:>"
      ]
     },
     "execution_count": 97,
     "metadata": {},
     "output_type": "execute_result"
    },
    {
     "data": {
      "image/png": "[encoded data removed]",
      "text/plain": [
       "<Figure size 432x288 with 2 Axes>"
      ]
     },
     "metadata": {
      "needs_background": "light"
     },
     "output_type": "display_data"
    }
   ],
   "source": [
    "#here we see a negative correlation with hourly and a positive one for annually\n",
    "cmap = sns.diverging_palette(220,10, as_cmap=True)\n",
    "sns.heatmap(dfDummies[['Avg Salary', 'Salary_Per_Hour_annually', 'Salary_Per_Hour_hourly']].corr(), vmax =0.5, center =0, cmap=cmap, square=True, linewidths=.5, cbar_kws={\"shrink\":.5})"
   ]
  },
  {
   "cell_type": "code",
   "execution_count": 98,
   "id": "e3cead90",
   "metadata": {},
   "outputs": [
    {
     "data": {
      "text/html": [
       "<div>\n",
       "<style scoped>\n",
       "    .dataframe tbody tr th:only-of-type {\n",
       "        vertical-align: middle;\n",
       "    }\n",
       "\n",
       "    .dataframe tbody tr th {\n",
       "        vertical-align: top;\n",
       "    }\n",
       "\n",
       "    .dataframe thead th {\n",
       "        text-align: right;\n",
       "    }\n",
       "</style>\n",
       "<table border=\"1\" class=\"dataframe\">\n",
       "  <thead>\n",
       "    <tr style=\"text-align: right;\">\n",
       "      <th></th>\n",
       "      <th>Avg Salary</th>\n",
       "    </tr>\n",
       "    <tr>\n",
       "      <th>State</th>\n",
       "      <th></th>\n",
       "    </tr>\n",
       "  </thead>\n",
       "  <tbody>\n",
       "    <tr>\n",
       "      <th>CA</th>\n",
       "      <td>123.040984</td>\n",
       "    </tr>\n",
       "    <tr>\n",
       "      <th>DC</th>\n",
       "      <td>111.100000</td>\n",
       "    </tr>\n",
       "    <tr>\n",
       "      <th>IL</th>\n",
       "      <td>110.687500</td>\n",
       "    </tr>\n",
       "    <tr>\n",
       "      <th>MA</th>\n",
       "      <td>106.520833</td>\n",
       "    </tr>\n",
       "    <tr>\n",
       "      <th>MI</th>\n",
       "      <td>104.500000</td>\n",
       "    </tr>\n",
       "    <tr>\n",
       "      <th>NJ</th>\n",
       "      <td>103.607143</td>\n",
       "    </tr>\n",
       "    <tr>\n",
       "      <th>NC</th>\n",
       "      <td>100.111111</td>\n",
       "    </tr>\n",
       "    <tr>\n",
       "      <th>RI</th>\n",
       "      <td>100.000000</td>\n",
       "    </tr>\n",
       "    <tr>\n",
       "      <th>NY</th>\n",
       "      <td>99.517857</td>\n",
       "    </tr>\n",
       "    <tr>\n",
       "      <th>UT</th>\n",
       "      <td>99.055556</td>\n",
       "    </tr>\n",
       "    <tr>\n",
       "      <th>PA</th>\n",
       "      <td>96.451923</td>\n",
       "    </tr>\n",
       "    <tr>\n",
       "      <th>VA</th>\n",
       "      <td>96.393939</td>\n",
       "    </tr>\n",
       "    <tr>\n",
       "      <th>MD</th>\n",
       "      <td>95.960000</td>\n",
       "    </tr>\n",
       "    <tr>\n",
       "      <th>KY</th>\n",
       "      <td>93.750000</td>\n",
       "    </tr>\n",
       "    <tr>\n",
       "      <th>MO</th>\n",
       "      <td>90.250000</td>\n",
       "    </tr>\n",
       "    <tr>\n",
       "      <th>OH</th>\n",
       "      <td>89.727273</td>\n",
       "    </tr>\n",
       "    <tr>\n",
       "      <th>WA</th>\n",
       "      <td>89.333333</td>\n",
       "    </tr>\n",
       "    <tr>\n",
       "      <th>TX</th>\n",
       "      <td>89.052632</td>\n",
       "    </tr>\n",
       "    <tr>\n",
       "      <th>IA</th>\n",
       "      <td>87.875000</td>\n",
       "    </tr>\n",
       "    <tr>\n",
       "      <th>IN</th>\n",
       "      <td>87.071429</td>\n",
       "    </tr>\n",
       "    <tr>\n",
       "      <th>KS</th>\n",
       "      <td>87.000000</td>\n",
       "    </tr>\n",
       "    <tr>\n",
       "      <th>TN</th>\n",
       "      <td>86.700000</td>\n",
       "    </tr>\n",
       "    <tr>\n",
       "      <th>AZ</th>\n",
       "      <td>85.666667</td>\n",
       "    </tr>\n",
       "    <tr>\n",
       "      <th>MN</th>\n",
       "      <td>85.500000</td>\n",
       "    </tr>\n",
       "    <tr>\n",
       "      <th>OR</th>\n",
       "      <td>84.750000</td>\n",
       "    </tr>\n",
       "    <tr>\n",
       "      <th>CO</th>\n",
       "      <td>84.562500</td>\n",
       "    </tr>\n",
       "    <tr>\n",
       "      <th>GA</th>\n",
       "      <td>80.666667</td>\n",
       "    </tr>\n",
       "    <tr>\n",
       "      <th>WI</th>\n",
       "      <td>75.444444</td>\n",
       "    </tr>\n",
       "    <tr>\n",
       "      <th>FL</th>\n",
       "      <td>74.666667</td>\n",
       "    </tr>\n",
       "    <tr>\n",
       "      <th>NM</th>\n",
       "      <td>73.750000</td>\n",
       "    </tr>\n",
       "    <tr>\n",
       "      <th>CT</th>\n",
       "      <td>71.100000</td>\n",
       "    </tr>\n",
       "    <tr>\n",
       "      <th>DE</th>\n",
       "      <td>68.750000</td>\n",
       "    </tr>\n",
       "    <tr>\n",
       "      <th>LA</th>\n",
       "      <td>63.000000</td>\n",
       "    </tr>\n",
       "    <tr>\n",
       "      <th>NE</th>\n",
       "      <td>58.833333</td>\n",
       "    </tr>\n",
       "    <tr>\n",
       "      <th>AL</th>\n",
       "      <td>57.285714</td>\n",
       "    </tr>\n",
       "    <tr>\n",
       "      <th>ID</th>\n",
       "      <td>56.250000</td>\n",
       "    </tr>\n",
       "  </tbody>\n",
       "</table>\n",
       "</div>"
      ],
      "text/plain": [
       "       Avg Salary\n",
       "State            \n",
       " CA    123.040984\n",
       " DC    111.100000\n",
       " IL    110.687500\n",
       " MA    106.520833\n",
       " MI    104.500000\n",
       " NJ    103.607143\n",
       " NC    100.111111\n",
       " RI    100.000000\n",
       " NY     99.517857\n",
       " UT     99.055556\n",
       " PA     96.451923\n",
       " VA     96.393939\n",
       " MD     95.960000\n",
       " KY     93.750000\n",
       " MO     90.250000\n",
       " OH     89.727273\n",
       " WA     89.333333\n",
       " TX     89.052632\n",
       " IA     87.875000\n",
       " IN     87.071429\n",
       " KS     87.000000\n",
       " TN     86.700000\n",
       " AZ     85.666667\n",
       " MN     85.500000\n",
       " OR     84.750000\n",
       " CO     84.562500\n",
       " GA     80.666667\n",
       " WI     75.444444\n",
       " FL     74.666667\n",
       " NM     73.750000\n",
       " CT     71.100000\n",
       " DE     68.750000\n",
       " LA     63.000000\n",
       " NE     58.833333\n",
       " AL     57.285714\n",
       " ID     56.250000"
      ]
     },
     "execution_count": 98,
     "metadata": {},
     "output_type": "execute_result"
    }
   ],
   "source": [
    "#clearly the state you work also matters\n",
    "job_state=pd.pivot_table(df,index= ['State'],values='Avg Salary').sort_values('Avg Salary',ascending=False)\n",
    "job_state"
   ]
  },
  {
   "cell_type": "code",
   "execution_count": 99,
   "id": "00ce1084",
   "metadata": {},
   "outputs": [],
   "source": [
    "dfDummies = pd.get_dummies(df.drop(['Job Title'], axis=1))"
   ]
  },
  {
   "cell_type": "code",
   "execution_count": 100,
   "id": "5d3f13fe",
   "metadata": {},
   "outputs": [
    {
     "data": {
      "text/plain": [
       "<AxesSubplot:>"
      ]
     },
     "execution_count": 100,
     "metadata": {},
     "output_type": "execute_result"
    },
    {
     "data": {
      "image/png": "[encoded data removed]",
      "text/plain": [
       "<Figure size 432x288 with 2 Axes>"
      ]
     },
     "metadata": {
      "needs_background": "light"
     },
     "output_type": "display_data"
    }
   ],
   "source": [
    "# unneccesary because there is very little correlation\n",
    "\n",
    "cmap = sns.diverging_palette(220,10, as_cmap=True)\n",
    "sns.heatmap(dfDummies[['Avg Salary', 'Type of ownership_College / University',\n",
    "       'Type of ownership_Company - Private',\n",
    "       'Type of ownership_Company - Public', 'Type of ownership_Government',\n",
    "       'Type of ownership_Hospital',\n",
    "       'Type of ownership_Nonprofit Organization',\n",
    "       'Type of ownership_School / School District',\n",
    "       'Type of ownership_Subsidiary or Business Segment',\n",
    "       'Type of ownership_Unknown']].corr(), vmax =0.5, center =0, cmap=cmap, square=True, linewidths=.5, cbar_kws={\"shrink\":.5})"
   ]
  },
  {
   "cell_type": "code",
   "execution_count": 101,
   "id": "3f8f20be",
   "metadata": {},
   "outputs": [
    {
     "data": {
      "text/plain": [
       "<AxesSubplot:>"
      ]
     },
     "execution_count": 101,
     "metadata": {},
     "output_type": "execute_result"
    },
    {
     "data": {
      "image/png": "[encoded data removed]",
      "text/plain": [
       "<Figure size 432x288 with 2 Axes>"
      ]
     },
     "metadata": {
      "needs_background": "light"
     },
     "output_type": "display_data"
    }
   ],
   "source": [
    "cmap = sns.diverging_palette(220,10, as_cmap=True)\n",
    "sns.heatmap(dfDummies[['Avg Salary','State_ CA','State_ DC','State_ AL','State_ ID']].corr(), vmax =0.3, center =0, cmap=cmap, square=True, linewidths=.5, cbar_kws={\"shrink\":.5})"
   ]
  },
  {
   "cell_type": "code",
   "execution_count": 102,
   "id": "984872e4",
   "metadata": {
    "scrolled": true
   },
   "outputs": [
    {
     "data": {
      "text/plain": [
       "<AxesSubplot:>"
      ]
     },
     "execution_count": 102,
     "metadata": {},
     "output_type": "execute_result"
    },
    {
     "data": {
      "image/png": "[encoded data removed]",
      "text/plain": [
       "<Figure size 432x288 with 2 Axes>"
      ]
     },
     "metadata": {
      "needs_background": "light"
     },
     "output_type": "display_data"
    }
   ],
   "source": [
    "# here we are looking to see if there is a huge correlation between size of company and revenue, to see if both are necessary \n",
    "# to predict the salary, or if we should only use one of them.\n",
    "\n",
    "cmap = sns.diverging_palette(220,10, as_cmap=True)\n",
    "sns.heatmap(dfDummies[['Size_10000+ employees','Revenue_Adj_big','Revenue_Adj_small','Revenue_Adj_medium']].corr(), vmax =0.3, center =0, cmap=cmap, square=True, linewidths=.5, cbar_kws={\"shrink\":.5})"
   ]
  },
  {
   "cell_type": "code",
   "execution_count": 103,
   "id": "ea7f258f",
   "metadata": {},
   "outputs": [
    {
     "data": {
      "text/plain": [
       "<AxesSubplot:>"
      ]
     },
     "execution_count": 103,
     "metadata": {},
     "output_type": "execute_result"
    },
    {
     "data": {
      "image/png": "[encoded data removed]",
      "text/plain": [
       "<Figure size 432x288 with 2 Axes>"
      ]
     },
     "metadata": {
      "needs_background": "light"
     },
     "output_type": "display_data"
    }
   ],
   "source": [
    "# top 2 and bottom 2 job categories and states. we are checking here if maybe certain states are limited to particular\n",
    "# job opportunities. while there exist come correlations, we cannot rule out states as having a different \n",
    "\n",
    "cmap = sns.diverging_palette(220,10, as_cmap=True)\n",
    "sns.heatmap(dfDummies[['Job Categories_Director','Job Categories_Data Scientist','Job Categories_Manager','Job Categories_Data Analyst','State_ CA','State_ DC','State_ AL','State_ ID']].corr(), vmax =0.3, center =0, cmap=cmap, square=True, linewidths=.5, cbar_kws={\"shrink\":.5})"
   ]
  },
  {
   "cell_type": "code",
   "execution_count": null,
   "id": "beff38b5",
   "metadata": {},
   "outputs": [],
   "source": []
  },
  {
   "cell_type": "code",
   "execution_count": null,
   "id": "7b7642a5",
   "metadata": {},
   "outputs": [],
   "source": []
  },
  {
   "cell_type": "code",
   "execution_count": null,
   "id": "b1c2b219",
   "metadata": {},
   "outputs": [],
   "source": []
  },
  {
   "cell_type": "code",
   "execution_count": null,
   "id": "a1ef8fb8",
   "metadata": {},
   "outputs": [],
   "source": []
  }
 ],
 "metadata": {
  "kernelspec": {
   "display_name": "Python 3",
   "language": "python",
   "name": "python3"
  },
  "language_info": {
   "codemirror_mode": {
    "name": "ipython",
    "version": 3
   },
   "file_extension": ".py",
   "mimetype": "text/x-python",
   "name": "python",
   "nbconvert_exporter": "python",
   "pygments_lexer": "ipython3",
   "version": "3.8.8"
  }
 },
 "nbformat": 4,
 "nbformat_minor": 5
}
