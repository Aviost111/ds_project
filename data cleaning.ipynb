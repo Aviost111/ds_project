{
 "cells": [
  {
   "cell_type": "code",
   "execution_count": 2,
<<<<<<< Updated upstream
   "id": "5b408e75",
=======
>>>>>>> Stashed changes
   "metadata": {},
   "outputs": [],
   "source": [
    "import pandas as pd\n",
    "import matplotlib.pyplot as plt\n",
    "import seaborn as sns"
   ]
  },
  {
   "cell_type": "code",
   "execution_count": 3,
<<<<<<< Updated upstream
   "id": "4c429909",
=======
>>>>>>> Stashed changes
   "metadata": {},
   "outputs": [
    {
     "data": {
      "text/html": [
       "<div>\n",
       "<style scoped>\n",
       "    .dataframe tbody tr th:only-of-type {\n",
       "        vertical-align: middle;\n",
       "    }\n",
       "\n",
       "    .dataframe tbody tr th {\n",
       "        vertical-align: top;\n",
       "    }\n",
       "\n",
       "    .dataframe thead th {\n",
       "        text-align: right;\n",
       "    }\n",
       "</style>\n",
       "<table border=\"1\" class=\"dataframe\">\n",
       "  <thead>\n",
       "    <tr style=\"text-align: right;\">\n",
       "      <th></th>\n",
       "      <th>index</th>\n",
       "      <th>Job Title</th>\n",
       "      <th>Salary Estimate</th>\n",
       "      <th>Job Description</th>\n",
       "      <th>Rating</th>\n",
       "      <th>Company Name</th>\n",
       "      <th>Location</th>\n",
       "      <th>Headquarters</th>\n",
       "      <th>Size</th>\n",
       "      <th>Founded</th>\n",
       "      <th>Type of ownership</th>\n",
       "      <th>Industry</th>\n",
       "      <th>Sector</th>\n",
       "      <th>Revenue</th>\n",
       "      <th>Competitors</th>\n",
       "    </tr>\n",
       "  </thead>\n",
       "  <tbody>\n",
       "    <tr>\n",
       "      <th>0</th>\n",
       "      <td>0</td>\n",
       "      <td>Sr Data Scientist</td>\n",
       "      <td>$137K-$171K (Glassdoor est.)</td>\n",
       "      <td>Description\\n\\nThe Senior Data Scientist is re...</td>\n",
       "      <td>3.1</td>\n",
       "      <td>Healthfirst\\n3.1</td>\n",
       "      <td>New York, NY</td>\n",
       "      <td>New York, NY</td>\n",
       "      <td>1001 to 5000 employees</td>\n",
       "      <td>1993</td>\n",
       "      <td>Nonprofit Organization</td>\n",
       "      <td>Insurance Carriers</td>\n",
       "      <td>Insurance</td>\n",
       "      <td>Unknown / Non-Applicable</td>\n",
       "      <td>EmblemHealth, UnitedHealth Group, Aetna</td>\n",
       "    </tr>\n",
       "    <tr>\n",
       "      <th>1</th>\n",
       "      <td>1</td>\n",
       "      <td>Data Scientist</td>\n",
       "      <td>$137K-$171K (Glassdoor est.)</td>\n",
       "      <td>Secure our Nation, Ignite your Future\\n\\nJoin ...</td>\n",
       "      <td>4.2</td>\n",
       "      <td>ManTech\\n4.2</td>\n",
       "      <td>Chantilly, VA</td>\n",
       "      <td>Herndon, VA</td>\n",
       "      <td>5001 to 10000 employees</td>\n",
       "      <td>1968</td>\n",
       "      <td>Company - Public</td>\n",
       "      <td>Research &amp; Development</td>\n",
       "      <td>Business Services</td>\n",
       "      <td>$1 to $2 billion (USD)</td>\n",
       "      <td>-1</td>\n",
       "    </tr>\n",
       "    <tr>\n",
       "      <th>2</th>\n",
       "      <td>2</td>\n",
       "      <td>Data Scientist</td>\n",
       "      <td>$137K-$171K (Glassdoor est.)</td>\n",
       "      <td>Overview\\n\\n\\nAnalysis Group is one of the lar...</td>\n",
       "      <td>3.8</td>\n",
       "      <td>Analysis Group\\n3.8</td>\n",
       "      <td>Boston, MA</td>\n",
       "      <td>Boston, MA</td>\n",
       "      <td>1001 to 5000 employees</td>\n",
       "      <td>1981</td>\n",
       "      <td>Private Practice / Firm</td>\n",
       "      <td>Consulting</td>\n",
       "      <td>Business Services</td>\n",
       "      <td>$100 to $500 million (USD)</td>\n",
       "      <td>-1</td>\n",
       "    </tr>\n",
       "    <tr>\n",
       "      <th>3</th>\n",
       "      <td>3</td>\n",
       "      <td>Data Scientist</td>\n",
       "      <td>$137K-$171K (Glassdoor est.)</td>\n",
       "      <td>JOB DESCRIPTION:\\n\\nDo you have a passion for ...</td>\n",
       "      <td>3.5</td>\n",
       "      <td>INFICON\\n3.5</td>\n",
       "      <td>Newton, MA</td>\n",
       "      <td>Bad Ragaz, Switzerland</td>\n",
       "      <td>501 to 1000 employees</td>\n",
       "      <td>2000</td>\n",
       "      <td>Company - Public</td>\n",
       "      <td>Electrical &amp; Electronic Manufacturing</td>\n",
       "      <td>Manufacturing</td>\n",
       "      <td>$100 to $500 million (USD)</td>\n",
       "      <td>MKS Instruments, Pfeiffer Vacuum, Agilent Tech...</td>\n",
       "    </tr>\n",
       "    <tr>\n",
       "      <th>4</th>\n",
       "      <td>4</td>\n",
       "      <td>Data Scientist</td>\n",
       "      <td>$137K-$171K (Glassdoor est.)</td>\n",
       "      <td>Data Scientist\\nAffinity Solutions / Marketing...</td>\n",
       "      <td>2.9</td>\n",
       "      <td>Affinity Solutions\\n2.9</td>\n",
       "      <td>New York, NY</td>\n",
       "      <td>New York, NY</td>\n",
       "      <td>51 to 200 employees</td>\n",
       "      <td>1998</td>\n",
       "      <td>Company - Private</td>\n",
       "      <td>Advertising &amp; Marketing</td>\n",
       "      <td>Business Services</td>\n",
       "      <td>Unknown / Non-Applicable</td>\n",
       "      <td>Commerce Signals, Cardlytics, Yodlee</td>\n",
       "    </tr>\n",
       "    <tr>\n",
       "      <th>...</th>\n",
       "      <td>...</td>\n",
       "      <td>...</td>\n",
       "      <td>...</td>\n",
       "      <td>...</td>\n",
       "      <td>...</td>\n",
       "      <td>...</td>\n",
       "      <td>...</td>\n",
       "      <td>...</td>\n",
       "      <td>...</td>\n",
       "      <td>...</td>\n",
       "      <td>...</td>\n",
       "      <td>...</td>\n",
       "      <td>...</td>\n",
       "      <td>...</td>\n",
       "      <td>...</td>\n",
       "    </tr>\n",
       "    <tr>\n",
       "      <th>667</th>\n",
       "      <td>667</td>\n",
       "      <td>Data Scientist</td>\n",
       "      <td>$105K-$167K (Glassdoor est.)</td>\n",
       "      <td>Summary\\n\\nWe’re looking for a data scientist ...</td>\n",
       "      <td>3.6</td>\n",
       "      <td>TRANZACT\\n3.6</td>\n",
       "      <td>Fort Lee, NJ</td>\n",
       "      <td>Fort Lee, NJ</td>\n",
       "      <td>1001 to 5000 employees</td>\n",
       "      <td>1989</td>\n",
       "      <td>Company - Private</td>\n",
       "      <td>Advertising &amp; Marketing</td>\n",
       "      <td>Business Services</td>\n",
       "      <td>Unknown / Non-Applicable</td>\n",
       "      <td>-1</td>\n",
       "    </tr>\n",
       "    <tr>\n",
       "      <th>668</th>\n",
       "      <td>668</td>\n",
       "      <td>Data Scientist</td>\n",
       "      <td>$105K-$167K (Glassdoor est.)</td>\n",
       "      <td>Job Description\\nBecome a thought leader withi...</td>\n",
       "      <td>-1.0</td>\n",
       "      <td>JKGT</td>\n",
       "      <td>San Francisco, CA</td>\n",
       "      <td>-1</td>\n",
       "      <td>-1</td>\n",
       "      <td>-1</td>\n",
       "      <td>-1</td>\n",
       "      <td>-1</td>\n",
       "      <td>-1</td>\n",
       "      <td>-1</td>\n",
       "      <td>-1</td>\n",
       "    </tr>\n",
       "    <tr>\n",
       "      <th>669</th>\n",
       "      <td>669</td>\n",
       "      <td>Data Scientist</td>\n",
       "      <td>$105K-$167K (Glassdoor est.)</td>\n",
       "      <td>Join a thriving company that is changing the w...</td>\n",
       "      <td>-1.0</td>\n",
       "      <td>AccessHope</td>\n",
       "      <td>Irwindale, CA</td>\n",
       "      <td>-1</td>\n",
       "      <td>-1</td>\n",
       "      <td>-1</td>\n",
       "      <td>-1</td>\n",
       "      <td>-1</td>\n",
       "      <td>-1</td>\n",
       "      <td>-1</td>\n",
       "      <td>-1</td>\n",
       "    </tr>\n",
       "    <tr>\n",
       "      <th>670</th>\n",
       "      <td>670</td>\n",
       "      <td>Data Scientist</td>\n",
       "      <td>$105K-$167K (Glassdoor est.)</td>\n",
       "      <td>100 Remote Opportunity As an AINLP Data Scient...</td>\n",
       "      <td>5.0</td>\n",
       "      <td>ChaTeck Incorporated\\n5.0</td>\n",
       "      <td>San Francisco, CA</td>\n",
       "      <td>Santa Clara, CA</td>\n",
       "      <td>1 to 50 employees</td>\n",
       "      <td>-1</td>\n",
       "      <td>Company - Private</td>\n",
       "      <td>Advertising &amp; Marketing</td>\n",
       "      <td>Business Services</td>\n",
       "      <td>$1 to $5 million (USD)</td>\n",
       "      <td>-1</td>\n",
       "    </tr>\n",
       "    <tr>\n",
       "      <th>671</th>\n",
       "      <td>671</td>\n",
       "      <td>Data Scientist</td>\n",
       "      <td>$105K-$167K (Glassdoor est.)</td>\n",
       "      <td>Description\\n\\nThe Data Scientist will be part...</td>\n",
       "      <td>2.7</td>\n",
       "      <td>1-800-Flowers\\n2.7</td>\n",
       "      <td>New York, NY</td>\n",
       "      <td>Carle Place, NY</td>\n",
       "      <td>1001 to 5000 employees</td>\n",
       "      <td>1976</td>\n",
       "      <td>Company - Public</td>\n",
       "      <td>Wholesale</td>\n",
       "      <td>Business Services</td>\n",
       "      <td>$1 to $2 billion (USD)</td>\n",
       "      <td>-1</td>\n",
       "    </tr>\n",
       "  </tbody>\n",
       "</table>\n",
       "<p>672 rows × 15 columns</p>\n",
       "</div>"
      ],
      "text/plain": [
       "     index          Job Title               Salary Estimate  \\\n",
       "0        0  Sr Data Scientist  $137K-$171K (Glassdoor est.)   \n",
       "1        1     Data Scientist  $137K-$171K (Glassdoor est.)   \n",
       "2        2     Data Scientist  $137K-$171K (Glassdoor est.)   \n",
       "3        3     Data Scientist  $137K-$171K (Glassdoor est.)   \n",
       "4        4     Data Scientist  $137K-$171K (Glassdoor est.)   \n",
       "..     ...                ...                           ...   \n",
       "667    667     Data Scientist  $105K-$167K (Glassdoor est.)   \n",
       "668    668     Data Scientist  $105K-$167K (Glassdoor est.)   \n",
       "669    669     Data Scientist  $105K-$167K (Glassdoor est.)   \n",
       "670    670     Data Scientist  $105K-$167K (Glassdoor est.)   \n",
       "671    671     Data Scientist  $105K-$167K (Glassdoor est.)   \n",
       "\n",
       "                                       Job Description  Rating  \\\n",
       "0    Description\\n\\nThe Senior Data Scientist is re...     3.1   \n",
       "1    Secure our Nation, Ignite your Future\\n\\nJoin ...     4.2   \n",
       "2    Overview\\n\\n\\nAnalysis Group is one of the lar...     3.8   \n",
       "3    JOB DESCRIPTION:\\n\\nDo you have a passion for ...     3.5   \n",
       "4    Data Scientist\\nAffinity Solutions / Marketing...     2.9   \n",
       "..                                                 ...     ...   \n",
       "667  Summary\\n\\nWe’re looking for a data scientist ...     3.6   \n",
       "668  Job Description\\nBecome a thought leader withi...    -1.0   \n",
       "669  Join a thriving company that is changing the w...    -1.0   \n",
       "670  100 Remote Opportunity As an AINLP Data Scient...     5.0   \n",
       "671  Description\\n\\nThe Data Scientist will be part...     2.7   \n",
       "\n",
       "                  Company Name           Location            Headquarters  \\\n",
       "0             Healthfirst\\n3.1       New York, NY            New York, NY   \n",
       "1                 ManTech\\n4.2      Chantilly, VA             Herndon, VA   \n",
       "2          Analysis Group\\n3.8         Boston, MA              Boston, MA   \n",
       "3                 INFICON\\n3.5         Newton, MA  Bad Ragaz, Switzerland   \n",
       "4      Affinity Solutions\\n2.9       New York, NY            New York, NY   \n",
       "..                         ...                ...                     ...   \n",
       "667              TRANZACT\\n3.6       Fort Lee, NJ            Fort Lee, NJ   \n",
       "668                       JKGT  San Francisco, CA                      -1   \n",
       "669                 AccessHope      Irwindale, CA                      -1   \n",
       "670  ChaTeck Incorporated\\n5.0  San Francisco, CA         Santa Clara, CA   \n",
       "671         1-800-Flowers\\n2.7       New York, NY         Carle Place, NY   \n",
       "\n",
       "                        Size  Founded        Type of ownership  \\\n",
       "0     1001 to 5000 employees     1993   Nonprofit Organization   \n",
       "1    5001 to 10000 employees     1968         Company - Public   \n",
       "2     1001 to 5000 employees     1981  Private Practice / Firm   \n",
       "3      501 to 1000 employees     2000         Company - Public   \n",
       "4        51 to 200 employees     1998        Company - Private   \n",
       "..                       ...      ...                      ...   \n",
       "667   1001 to 5000 employees     1989        Company - Private   \n",
       "668                       -1       -1                       -1   \n",
       "669                       -1       -1                       -1   \n",
       "670        1 to 50 employees       -1        Company - Private   \n",
       "671   1001 to 5000 employees     1976         Company - Public   \n",
       "\n",
       "                                  Industry             Sector  \\\n",
       "0                       Insurance Carriers          Insurance   \n",
       "1                   Research & Development  Business Services   \n",
       "2                               Consulting  Business Services   \n",
       "3    Electrical & Electronic Manufacturing      Manufacturing   \n",
       "4                  Advertising & Marketing  Business Services   \n",
       "..                                     ...                ...   \n",
       "667                Advertising & Marketing  Business Services   \n",
       "668                                     -1                 -1   \n",
       "669                                     -1                 -1   \n",
       "670                Advertising & Marketing  Business Services   \n",
       "671                              Wholesale  Business Services   \n",
       "\n",
       "                        Revenue  \\\n",
       "0      Unknown / Non-Applicable   \n",
       "1        $1 to $2 billion (USD)   \n",
       "2    $100 to $500 million (USD)   \n",
       "3    $100 to $500 million (USD)   \n",
       "4      Unknown / Non-Applicable   \n",
       "..                          ...   \n",
       "667    Unknown / Non-Applicable   \n",
       "668                          -1   \n",
       "669                          -1   \n",
       "670      $1 to $5 million (USD)   \n",
       "671      $1 to $2 billion (USD)   \n",
       "\n",
       "                                           Competitors  \n",
       "0              EmblemHealth, UnitedHealth Group, Aetna  \n",
       "1                                                   -1  \n",
       "2                                                   -1  \n",
       "3    MKS Instruments, Pfeiffer Vacuum, Agilent Tech...  \n",
       "4                 Commerce Signals, Cardlytics, Yodlee  \n",
       "..                                                 ...  \n",
       "667                                                 -1  \n",
       "668                                                 -1  \n",
       "669                                                 -1  \n",
       "670                                                 -1  \n",
       "671                                                 -1  \n",
       "\n",
       "[672 rows x 15 columns]"
      ]
     },
     "execution_count": 3,
     "metadata": {},
     "output_type": "execute_result"
    }
   ],
   "source": [
    "# let's load the data and see what it looks like\n",
    "\n",
    "df = pd.read_csv('dataset_glassdoor-jobs-scraper_2022-02-04.csv')\n",
    "\n",
    "df"
   ]
  },
  {
   "cell_type": "code",
   "execution_count": 4,
<<<<<<< Updated upstream
   "id": "6e7ad73a",
=======
>>>>>>> Stashed changes
   "metadata": {},
   "outputs": [
    {
     "data": {
      "text/plain": [
       "672"
      ]
     },
     "execution_count": 4,
     "metadata": {},
     "output_type": "execute_result"
    }
   ],
   "source": [
    "# here are how many instances we have  \n",
    "\n",
    "len(df)"
   ]
  },
  {
   "cell_type": "code",
   "execution_count": 5,
<<<<<<< Updated upstream
   "id": "a3859999",
=======
>>>>>>> Stashed changes
   "metadata": {},
   "outputs": [
    {
     "data": {
      "text/plain": [
       "0       137 - 171  \n",
       "1       137 - 171  \n",
       "2       137 - 171  \n",
       "3       137 - 171  \n",
       "4       137 - 171  \n",
       "           ...     \n",
       "667     105 - 167  \n",
       "668     105 - 167  \n",
       "669     105 - 167  \n",
       "670     105 - 167  \n",
       "671     105 - 167  \n",
       "Name: Salary Estimate, Length: 672, dtype: object"
      ]
     },
     "execution_count": 5,
     "metadata": {},
     "output_type": "execute_result"
    }
   ],
   "source": [
    "#removing the k and $\n",
    "salary=df['Salary Estimate']\n",
    "without_kd=salary.apply(lambda x:x.replace('K',' ').replace('$',' ').replace(' (Glassdoor est.)',' ').replace(' (Employer est.)',' '))\n",
    "without_kd"
   ]
  },
  {
   "cell_type": "code",
   "execution_count": 6,
<<<<<<< Updated upstream
   "id": "d248e345",
=======
>>>>>>> Stashed changes
   "metadata": {},
   "outputs": [
    {
     "data": {
      "text/plain": [
       "0      137\n",
       "1      137\n",
       "2      137\n",
       "3      137\n",
       "4      137\n",
       "      ... \n",
       "667    105\n",
       "668    105\n",
       "669    105\n",
       "670    105\n",
       "671    105\n",
       "Name: Min_Salary, Length: 672, dtype: int32"
      ]
     },
     "execution_count": 6,
     "metadata": {},
     "output_type": "execute_result"
    }
   ],
   "source": [
    "#making a min column column and changing type to int (wanted to have a space instead of _ but it interferes with avg)\n",
    "df['Min_Salary']=without_kd.apply(lambda x:x.split('-')[0])\n",
    "df['Min_Salary']=df['Min_Salary'].astype('int')\n",
    "df['Min_Salary']"
   ]
  },
  {
   "cell_type": "code",
   "execution_count": 7,
<<<<<<< Updated upstream
   "id": "96c4050d",
=======
>>>>>>> Stashed changes
   "metadata": {},
   "outputs": [
    {
     "data": {
      "text/plain": [
       "0      171\n",
       "1      171\n",
       "2      171\n",
       "3      171\n",
       "4      171\n",
       "      ... \n",
       "667    167\n",
       "668    167\n",
       "669    167\n",
       "670    167\n",
       "671    167\n",
       "Name: Max_Salary, Length: 672, dtype: int32"
      ]
     },
     "execution_count": 7,
     "metadata": {},
     "output_type": "execute_result"
    }
   ],
   "source": [
    "#making a max column and changing type to int\n",
    "df['Max_Salary']=without_kd.apply(lambda x:x.split('-')[1])\n",
    "df['Max_Salary']=df['Max_Salary'].astype('int')\n",
    "df['Max_Salary']"
   ]
  },
  {
   "cell_type": "code",
   "execution_count": 8,
<<<<<<< Updated upstream
   "id": "2025e08d",
=======
>>>>>>> Stashed changes
   "metadata": {},
   "outputs": [
    {
     "data": {
      "text/plain": [
       "0      154.0\n",
       "1      154.0\n",
       "2      154.0\n",
       "3      154.0\n",
       "4      154.0\n",
       "       ...  \n",
       "667    136.0\n",
       "668    136.0\n",
       "669    136.0\n",
       "670    136.0\n",
       "671    136.0\n",
       "Name: Avg Salary, Length: 672, dtype: float64"
      ]
     },
     "execution_count": 8,
     "metadata": {},
     "output_type": "execute_result"
    }
   ],
   "source": [
    "#making an avg column\n",
    "df['Avg Salary']=(df.Min_Salary+df.Max_Salary)/2\n",
    "df['Avg Salary']"
   ]
  },
  {
   "cell_type": "code",
   "execution_count": 9,
<<<<<<< Updated upstream
   "id": "ee4d4223",
=======
>>>>>>> Stashed changes
   "metadata": {},
   "outputs": [
    {
     "data": {
      "text/plain": [
       "0               Healthfirst\n",
       "1                   ManTech\n",
       "2            Analysis Group\n",
       "3                   INFICON\n",
       "4        Affinity Solutions\n",
       "               ...         \n",
       "667                TRANZACT\n",
       "668                    JKGT\n",
       "669              AccessHope\n",
       "670    ChaTeck Incorporated\n",
       "671           1-800-Flowers\n",
       "Name: Company Name, Length: 672, dtype: object"
      ]
     },
     "execution_count": 9,
     "metadata": {},
     "output_type": "execute_result"
    }
   ],
   "source": [
    "# remove rating from Company Name\n",
    "df['Rating']=df['Rating'].astype('float')\n",
    "df['Company Name']=df.apply(lambda x:x['Company Name'] if x['Rating'] <0 else x['Company Name'][:-4],axis=1)\n",
    "\n",
    "df['Company Name']"
   ]
  },
  {
   "cell_type": "code",
   "execution_count": 10,
<<<<<<< Updated upstream
   "id": "11376036",
=======
>>>>>>> Stashed changes
   "metadata": {},
   "outputs": [
    {
     "data": {
      "text/plain": [
       "0      3.1\n",
       "1      4.2\n",
       "2      3.8\n",
       "3      3.5\n",
       "4      2.9\n",
       "      ... \n",
       "667    3.6\n",
       "668   -1.0\n",
       "669   -1.0\n",
       "670    5.0\n",
       "671    2.7\n",
       "Name: Rating, Length: 672, dtype: float64"
      ]
     },
     "execution_count": 10,
     "metadata": {},
     "output_type": "execute_result"
    }
   ],
   "source": [
    "df['Rating']"
   ]
  },
  {
   "cell_type": "code",
   "execution_count": 11,
<<<<<<< Updated upstream
   "id": "222c287c",
=======
>>>>>>> Stashed changes
   "metadata": {},
   "outputs": [
    {
     "data": {
      "text/html": [
       "<div>\n",
       "<style scoped>\n",
       "    .dataframe tbody tr th:only-of-type {\n",
       "        vertical-align: middle;\n",
       "    }\n",
       "\n",
       "    .dataframe tbody tr th {\n",
       "        vertical-align: top;\n",
       "    }\n",
       "\n",
       "    .dataframe thead th {\n",
       "        text-align: right;\n",
       "    }\n",
       "</style>\n",
       "<table border=\"1\" class=\"dataframe\">\n",
       "  <thead>\n",
       "    <tr style=\"text-align: right;\">\n",
       "      <th></th>\n",
       "      <th>index</th>\n",
       "      <th>Job Title</th>\n",
       "      <th>Salary Estimate</th>\n",
       "      <th>Job Description</th>\n",
       "      <th>Rating</th>\n",
       "      <th>Company Name</th>\n",
       "      <th>Location</th>\n",
       "      <th>Headquarters</th>\n",
       "      <th>Size</th>\n",
       "      <th>Founded</th>\n",
       "      <th>Type of ownership</th>\n",
       "      <th>Industry</th>\n",
       "      <th>Sector</th>\n",
       "      <th>Revenue</th>\n",
       "      <th>Competitors</th>\n",
       "      <th>Min_Salary</th>\n",
       "      <th>Max_Salary</th>\n",
       "      <th>Avg Salary</th>\n",
       "    </tr>\n",
       "  </thead>\n",
       "  <tbody>\n",
       "    <tr>\n",
       "      <th>0</th>\n",
       "      <td>0</td>\n",
       "      <td>Sr Data Scientist</td>\n",
       "      <td>$137K-$171K (Glassdoor est.)</td>\n",
       "      <td>Description\\n\\nThe Senior Data Scientist is re...</td>\n",
       "      <td>3.1</td>\n",
       "      <td>Healthfirst</td>\n",
       "      <td>New York, NY</td>\n",
       "      <td>New York, NY</td>\n",
       "      <td>1001 to 5000 employees</td>\n",
       "      <td>1993</td>\n",
       "      <td>Nonprofit Organization</td>\n",
       "      <td>Insurance Carriers</td>\n",
       "      <td>Insurance</td>\n",
       "      <td>Unknown / Non-Applicable</td>\n",
       "      <td>EmblemHealth, UnitedHealth Group, Aetna</td>\n",
       "      <td>137</td>\n",
       "      <td>171</td>\n",
       "      <td>154.0</td>\n",
       "    </tr>\n",
       "    <tr>\n",
       "      <th>1</th>\n",
       "      <td>1</td>\n",
       "      <td>Data Scientist</td>\n",
       "      <td>$137K-$171K (Glassdoor est.)</td>\n",
       "      <td>Secure our Nation, Ignite your Future\\n\\nJoin ...</td>\n",
       "      <td>4.2</td>\n",
       "      <td>ManTech</td>\n",
       "      <td>Chantilly, VA</td>\n",
       "      <td>Herndon, VA</td>\n",
       "      <td>5001 to 10000 employees</td>\n",
       "      <td>1968</td>\n",
       "      <td>Company - Public</td>\n",
       "      <td>Research &amp; Development</td>\n",
       "      <td>Business Services</td>\n",
       "      <td>$1 to $2 billion (USD)</td>\n",
       "      <td>-1</td>\n",
       "      <td>137</td>\n",
       "      <td>171</td>\n",
       "      <td>154.0</td>\n",
       "    </tr>\n",
       "    <tr>\n",
       "      <th>2</th>\n",
       "      <td>2</td>\n",
       "      <td>Data Scientist</td>\n",
       "      <td>$137K-$171K (Glassdoor est.)</td>\n",
       "      <td>Overview\\n\\n\\nAnalysis Group is one of the lar...</td>\n",
       "      <td>3.8</td>\n",
       "      <td>Analysis Group</td>\n",
       "      <td>Boston, MA</td>\n",
       "      <td>Boston, MA</td>\n",
       "      <td>1001 to 5000 employees</td>\n",
       "      <td>1981</td>\n",
       "      <td>Private Practice / Firm</td>\n",
       "      <td>Consulting</td>\n",
       "      <td>Business Services</td>\n",
       "      <td>$100 to $500 million (USD)</td>\n",
       "      <td>-1</td>\n",
       "      <td>137</td>\n",
       "      <td>171</td>\n",
       "      <td>154.0</td>\n",
       "    </tr>\n",
       "    <tr>\n",
       "      <th>3</th>\n",
       "      <td>3</td>\n",
       "      <td>Data Scientist</td>\n",
       "      <td>$137K-$171K (Glassdoor est.)</td>\n",
       "      <td>JOB DESCRIPTION:\\n\\nDo you have a passion for ...</td>\n",
       "      <td>3.5</td>\n",
       "      <td>INFICON</td>\n",
       "      <td>Newton, MA</td>\n",
       "      <td>Bad Ragaz, Switzerland</td>\n",
       "      <td>501 to 1000 employees</td>\n",
       "      <td>2000</td>\n",
       "      <td>Company - Public</td>\n",
       "      <td>Electrical &amp; Electronic Manufacturing</td>\n",
       "      <td>Manufacturing</td>\n",
       "      <td>$100 to $500 million (USD)</td>\n",
       "      <td>MKS Instruments, Pfeiffer Vacuum, Agilent Tech...</td>\n",
       "      <td>137</td>\n",
       "      <td>171</td>\n",
       "      <td>154.0</td>\n",
       "    </tr>\n",
       "    <tr>\n",
       "      <th>4</th>\n",
       "      <td>4</td>\n",
       "      <td>Data Scientist</td>\n",
       "      <td>$137K-$171K (Glassdoor est.)</td>\n",
       "      <td>Data Scientist\\nAffinity Solutions / Marketing...</td>\n",
       "      <td>2.9</td>\n",
       "      <td>Affinity Solutions</td>\n",
       "      <td>New York, NY</td>\n",
       "      <td>New York, NY</td>\n",
       "      <td>51 to 200 employees</td>\n",
       "      <td>1998</td>\n",
       "      <td>Company - Private</td>\n",
       "      <td>Advertising &amp; Marketing</td>\n",
       "      <td>Business Services</td>\n",
       "      <td>Unknown / Non-Applicable</td>\n",
       "      <td>Commerce Signals, Cardlytics, Yodlee</td>\n",
       "      <td>137</td>\n",
       "      <td>171</td>\n",
       "      <td>154.0</td>\n",
       "    </tr>\n",
       "    <tr>\n",
       "      <th>...</th>\n",
       "      <td>...</td>\n",
       "      <td>...</td>\n",
       "      <td>...</td>\n",
       "      <td>...</td>\n",
       "      <td>...</td>\n",
       "      <td>...</td>\n",
       "      <td>...</td>\n",
       "      <td>...</td>\n",
       "      <td>...</td>\n",
       "      <td>...</td>\n",
       "      <td>...</td>\n",
       "      <td>...</td>\n",
       "      <td>...</td>\n",
       "      <td>...</td>\n",
       "      <td>...</td>\n",
       "      <td>...</td>\n",
       "      <td>...</td>\n",
       "      <td>...</td>\n",
       "    </tr>\n",
       "    <tr>\n",
       "      <th>667</th>\n",
       "      <td>667</td>\n",
       "      <td>Data Scientist</td>\n",
       "      <td>$105K-$167K (Glassdoor est.)</td>\n",
       "      <td>Summary\\n\\nWe’re looking for a data scientist ...</td>\n",
       "      <td>3.6</td>\n",
       "      <td>TRANZACT</td>\n",
       "      <td>Fort Lee, NJ</td>\n",
       "      <td>Fort Lee, NJ</td>\n",
       "      <td>1001 to 5000 employees</td>\n",
       "      <td>1989</td>\n",
       "      <td>Company - Private</td>\n",
       "      <td>Advertising &amp; Marketing</td>\n",
       "      <td>Business Services</td>\n",
       "      <td>Unknown / Non-Applicable</td>\n",
       "      <td>-1</td>\n",
       "      <td>105</td>\n",
       "      <td>167</td>\n",
       "      <td>136.0</td>\n",
       "    </tr>\n",
       "    <tr>\n",
       "      <th>668</th>\n",
       "      <td>668</td>\n",
       "      <td>Data Scientist</td>\n",
       "      <td>$105K-$167K (Glassdoor est.)</td>\n",
       "      <td>Job Description\\nBecome a thought leader withi...</td>\n",
       "      <td>3.8</td>\n",
       "      <td>JKGT</td>\n",
       "      <td>San Francisco, CA</td>\n",
       "      <td>-1</td>\n",
       "      <td>-1</td>\n",
       "      <td>-1</td>\n",
       "      <td>-1</td>\n",
       "      <td>-1</td>\n",
       "      <td>-1</td>\n",
       "      <td>-1</td>\n",
       "      <td>-1</td>\n",
       "      <td>105</td>\n",
       "      <td>167</td>\n",
       "      <td>136.0</td>\n",
       "    </tr>\n",
       "    <tr>\n",
       "      <th>669</th>\n",
       "      <td>669</td>\n",
       "      <td>Data Scientist</td>\n",
       "      <td>$105K-$167K (Glassdoor est.)</td>\n",
       "      <td>Join a thriving company that is changing the w...</td>\n",
       "      <td>3.8</td>\n",
       "      <td>AccessHope</td>\n",
       "      <td>Irwindale, CA</td>\n",
       "      <td>-1</td>\n",
       "      <td>-1</td>\n",
       "      <td>-1</td>\n",
       "      <td>-1</td>\n",
       "      <td>-1</td>\n",
       "      <td>-1</td>\n",
       "      <td>-1</td>\n",
       "      <td>-1</td>\n",
       "      <td>105</td>\n",
       "      <td>167</td>\n",
       "      <td>136.0</td>\n",
       "    </tr>\n",
       "    <tr>\n",
       "      <th>670</th>\n",
       "      <td>670</td>\n",
       "      <td>Data Scientist</td>\n",
       "      <td>$105K-$167K (Glassdoor est.)</td>\n",
       "      <td>100 Remote Opportunity As an AINLP Data Scient...</td>\n",
       "      <td>5.0</td>\n",
       "      <td>ChaTeck Incorporated</td>\n",
       "      <td>San Francisco, CA</td>\n",
       "      <td>Santa Clara, CA</td>\n",
       "      <td>1 to 50 employees</td>\n",
       "      <td>-1</td>\n",
       "      <td>Company - Private</td>\n",
       "      <td>Advertising &amp; Marketing</td>\n",
       "      <td>Business Services</td>\n",
       "      <td>$1 to $5 million (USD)</td>\n",
       "      <td>-1</td>\n",
       "      <td>105</td>\n",
       "      <td>167</td>\n",
       "      <td>136.0</td>\n",
       "    </tr>\n",
       "    <tr>\n",
       "      <th>671</th>\n",
       "      <td>671</td>\n",
       "      <td>Data Scientist</td>\n",
       "      <td>$105K-$167K (Glassdoor est.)</td>\n",
       "      <td>Description\\n\\nThe Data Scientist will be part...</td>\n",
       "      <td>2.7</td>\n",
       "      <td>1-800-Flowers</td>\n",
       "      <td>New York, NY</td>\n",
       "      <td>Carle Place, NY</td>\n",
       "      <td>1001 to 5000 employees</td>\n",
       "      <td>1976</td>\n",
       "      <td>Company - Public</td>\n",
       "      <td>Wholesale</td>\n",
       "      <td>Business Services</td>\n",
       "      <td>$1 to $2 billion (USD)</td>\n",
       "      <td>-1</td>\n",
       "      <td>105</td>\n",
       "      <td>167</td>\n",
       "      <td>136.0</td>\n",
       "    </tr>\n",
       "  </tbody>\n",
       "</table>\n",
       "<p>672 rows × 18 columns</p>\n",
       "</div>"
      ],
      "text/plain": [
       "     index          Job Title               Salary Estimate  \\\n",
       "0        0  Sr Data Scientist  $137K-$171K (Glassdoor est.)   \n",
       "1        1     Data Scientist  $137K-$171K (Glassdoor est.)   \n",
       "2        2     Data Scientist  $137K-$171K (Glassdoor est.)   \n",
       "3        3     Data Scientist  $137K-$171K (Glassdoor est.)   \n",
       "4        4     Data Scientist  $137K-$171K (Glassdoor est.)   \n",
       "..     ...                ...                           ...   \n",
       "667    667     Data Scientist  $105K-$167K (Glassdoor est.)   \n",
       "668    668     Data Scientist  $105K-$167K (Glassdoor est.)   \n",
       "669    669     Data Scientist  $105K-$167K (Glassdoor est.)   \n",
       "670    670     Data Scientist  $105K-$167K (Glassdoor est.)   \n",
       "671    671     Data Scientist  $105K-$167K (Glassdoor est.)   \n",
       "\n",
       "                                       Job Description  Rating  \\\n",
       "0    Description\\n\\nThe Senior Data Scientist is re...     3.1   \n",
       "1    Secure our Nation, Ignite your Future\\n\\nJoin ...     4.2   \n",
       "2    Overview\\n\\n\\nAnalysis Group is one of the lar...     3.8   \n",
       "3    JOB DESCRIPTION:\\n\\nDo you have a passion for ...     3.5   \n",
       "4    Data Scientist\\nAffinity Solutions / Marketing...     2.9   \n",
       "..                                                 ...     ...   \n",
       "667  Summary\\n\\nWe’re looking for a data scientist ...     3.6   \n",
       "668  Job Description\\nBecome a thought leader withi...     3.8   \n",
       "669  Join a thriving company that is changing the w...     3.8   \n",
       "670  100 Remote Opportunity As an AINLP Data Scient...     5.0   \n",
       "671  Description\\n\\nThe Data Scientist will be part...     2.7   \n",
       "\n",
       "             Company Name           Location            Headquarters  \\\n",
       "0             Healthfirst       New York, NY            New York, NY   \n",
       "1                 ManTech      Chantilly, VA             Herndon, VA   \n",
       "2          Analysis Group         Boston, MA              Boston, MA   \n",
       "3                 INFICON         Newton, MA  Bad Ragaz, Switzerland   \n",
       "4      Affinity Solutions       New York, NY            New York, NY   \n",
       "..                    ...                ...                     ...   \n",
       "667              TRANZACT       Fort Lee, NJ            Fort Lee, NJ   \n",
       "668                  JKGT  San Francisco, CA                      -1   \n",
       "669            AccessHope      Irwindale, CA                      -1   \n",
       "670  ChaTeck Incorporated  San Francisco, CA         Santa Clara, CA   \n",
       "671         1-800-Flowers       New York, NY         Carle Place, NY   \n",
       "\n",
       "                        Size  Founded        Type of ownership  \\\n",
       "0     1001 to 5000 employees     1993   Nonprofit Organization   \n",
       "1    5001 to 10000 employees     1968         Company - Public   \n",
       "2     1001 to 5000 employees     1981  Private Practice / Firm   \n",
       "3      501 to 1000 employees     2000         Company - Public   \n",
       "4        51 to 200 employees     1998        Company - Private   \n",
       "..                       ...      ...                      ...   \n",
       "667   1001 to 5000 employees     1989        Company - Private   \n",
       "668                       -1       -1                       -1   \n",
       "669                       -1       -1                       -1   \n",
       "670        1 to 50 employees       -1        Company - Private   \n",
       "671   1001 to 5000 employees     1976         Company - Public   \n",
       "\n",
       "                                  Industry             Sector  \\\n",
       "0                       Insurance Carriers          Insurance   \n",
       "1                   Research & Development  Business Services   \n",
       "2                               Consulting  Business Services   \n",
       "3    Electrical & Electronic Manufacturing      Manufacturing   \n",
       "4                  Advertising & Marketing  Business Services   \n",
       "..                                     ...                ...   \n",
       "667                Advertising & Marketing  Business Services   \n",
       "668                                     -1                 -1   \n",
       "669                                     -1                 -1   \n",
       "670                Advertising & Marketing  Business Services   \n",
       "671                              Wholesale  Business Services   \n",
       "\n",
       "                        Revenue  \\\n",
       "0      Unknown / Non-Applicable   \n",
       "1        $1 to $2 billion (USD)   \n",
       "2    $100 to $500 million (USD)   \n",
       "3    $100 to $500 million (USD)   \n",
       "4      Unknown / Non-Applicable   \n",
       "..                          ...   \n",
       "667    Unknown / Non-Applicable   \n",
       "668                          -1   \n",
       "669                          -1   \n",
       "670      $1 to $5 million (USD)   \n",
       "671      $1 to $2 billion (USD)   \n",
       "\n",
       "                                           Competitors  Min_Salary  \\\n",
       "0              EmblemHealth, UnitedHealth Group, Aetna         137   \n",
       "1                                                   -1         137   \n",
       "2                                                   -1         137   \n",
       "3    MKS Instruments, Pfeiffer Vacuum, Agilent Tech...         137   \n",
       "4                 Commerce Signals, Cardlytics, Yodlee         137   \n",
       "..                                                 ...         ...   \n",
       "667                                                 -1         105   \n",
       "668                                                 -1         105   \n",
       "669                                                 -1         105   \n",
       "670                                                 -1         105   \n",
       "671                                                 -1         105   \n",
       "\n",
       "     Max_Salary  Avg Salary  \n",
       "0           171       154.0  \n",
       "1           171       154.0  \n",
       "2           171       154.0  \n",
       "3           171       154.0  \n",
       "4           171       154.0  \n",
       "..          ...         ...  \n",
       "667         167       136.0  \n",
       "668         167       136.0  \n",
       "669         167       136.0  \n",
       "670         167       136.0  \n",
       "671         167       136.0  \n",
       "\n",
       "[672 rows x 18 columns]"
      ]
     },
     "execution_count": 11,
     "metadata": {},
     "output_type": "execute_result"
    }
   ],
   "source": [
    "#finding the avg of ratings without the -1's and inserting it where they are\n",
    "ratingNoMinus=df[df['Rating']>0]\n",
    "ratingNoMinus=ratingNoMinus['Rating']\n",
    "ratingNoMinusAvg=(ratingNoMinus.sum()/len(ratingNoMinus))\n",
    "ratingNoMinusAvg=((ratingNoMinusAvg*10).astype('int')/10)\n",
    "df['Rating']=df['Rating'].apply(lambda x:ratingNoMinusAvg if x<0 else x)\n",
    "df"
   ]
  },
  {
   "cell_type": "code",
   "execution_count": 12,
<<<<<<< Updated upstream
   "id": "5785ff27",
=======
>>>>>>> Stashed changes
   "metadata": {},
   "outputs": [],
   "source": [
    "# get average size of company (min, max, avg)\n"
   ]
  },
  {
   "cell_type": "code",
   "execution_count": 13,
<<<<<<< Updated upstream
   "id": "04027256",
=======
>>>>>>> Stashed changes
   "metadata": {},
   "outputs": [
    {
     "data": {
      "text/plain": [
       "0       NY\n",
       "1       VA\n",
       "2       MA\n",
       "3       MA\n",
       "4       NY\n",
       "      ... \n",
       "667     NJ\n",
       "668     CA\n",
       "669     CA\n",
       "670     CA\n",
       "671     NY\n",
       "Name: State, Length: 672, dtype: object"
      ]
     },
     "execution_count": 13,
     "metadata": {},
     "output_type": "execute_result"
    }
   ],
   "source": [
    "# create a column for State, so we can simplify the location\n",
    "\n",
    "df['State'] = df.apply(lambda x: 'Remote' if x['Location'].find(',') == -1  else x['Location'].split(',')[1],axis=1)\n",
    "df['State']"
   ]
  },
  {
   "cell_type": "code",
   "execution_count": 14,
<<<<<<< Updated upstream
   "id": "ef4ca633",
=======
>>>>>>> Stashed changes
   "metadata": {},
   "outputs": [
    {
     "data": {
      "text/plain": [
       "0      Yes\n",
       "1      Yes\n",
       "2      Yes\n",
       "3      Yes\n",
       "4      Yes\n",
       "      ... \n",
       "667    Yes\n",
       "668     No\n",
       "669     No\n",
       "670    Yes\n",
       "671    Yes\n",
       "Name: Is_Headquarters, Length: 672, dtype: object"
      ]
     },
     "execution_count": 14,
     "metadata": {},
     "output_type": "execute_result"
    }
   ],
   "source": [
    "# create a column that checks if a job offer is in headquarters or not\n",
    "\n",
    "df['Is_Headquarters']=df.apply(lambda x:'No' if x['Headquarters']=='-1' else x['Headquarters'],axis=1)\n",
    "df['Is_Headquarters']=df.apply(lambda x:'No' if x['Headquarters']!=x['Is_Headquarters'] else 'Yes',axis=1)\n",
    "\n",
    "df['Is_Headquarters']"
   ]
  },
  {
   "cell_type": "code",
   "execution_count": 15,
<<<<<<< Updated upstream
   "id": "35300174",
=======
>>>>>>> Stashed changes
   "metadata": {},
   "outputs": [
    {
     "data": {
      "text/plain": [
       "0      29\n",
       "1      54\n",
       "2      41\n",
       "3      22\n",
       "4      24\n",
       "       ..\n",
       "667    33\n",
       "668    -1\n",
       "669    -1\n",
       "670    -1\n",
       "671    46\n",
       "Name: Age of Company, Length: 672, dtype: int64"
      ]
     },
     "execution_count": 15,
     "metadata": {},
     "output_type": "execute_result"
    }
   ],
   "source": [
    "# age of company \n",
    "\n",
    "df['Age of Company'] = df.Founded.apply(lambda x: x if x<0 else 2022-x)\n",
    "\n",
    "df['Age of Company']"
   ]
  },
  {
   "cell_type": "code",
   "execution_count": 16,
<<<<<<< Updated upstream
   "id": "5f25dba0",
=======
>>>>>>> Stashed changes
   "metadata": {},
   "outputs": [],
   "source": [
    "# create new columns relating to job description \n",
    "\n",
    "# a column if Python is involved in job\n",
    "df['Python'] = df['Job Description'].apply(lambda x: 1 if 'python' in x.lower() else 0)\n",
    "\n",
    "# a column if Spark is involved in job\n",
    "df['Spark'] = df['Job Description'].apply(lambda x: 1 if 'spark' in x.lower() else 0)\n",
    "\n",
    "# a column if AWS is involved in job\n",
    "df['AWS'] = df['Job Description'].apply(lambda x: 1 if 'aws' in x.lower() else 0)\n",
    "\n",
    "# a column if Excel is involved in job\n",
    "df['Excel'] = df['Job Description'].apply(lambda x: 1 if 'excel' in x.lower() else 0)\n",
    "\n",
    "# a column on length of job description"
   ]
  },
  {
   "cell_type": "code",
   "execution_count": 17,
<<<<<<< Updated upstream
   "id": "e734a062",
=======
>>>>>>> Stashed changes
   "metadata": {},
   "outputs": [],
   "source": [
    "# simplify job titles into distinct categories (new column)\n",
    "\n",
    "# since this is a little more complex, we wrote a function that elaborates\n",
    "def job_categories(position):\n",
    "    if 'data scientist' in position.lower():\n",
    "        return 'Data Scientist'\n",
    "    elif 'analyst' in position.lower() or 'analysis' in position.lower() or 'statistic' in position.lower():\n",
    "        return 'Data Analyst'\n",
    "    elif 'data engineer' in position.lower():\n",
    "        return 'Data Engineer'\n",
    "    elif 'software engineer' in position.lower():\n",
    "        return 'Software Engineer'\n",
    "    elif 'machine learning' in position.lower() or 'ml' in position.lower():\n",
    "        return \"Machine Learning Engineer\"\n",
    "    \n",
    "    elif 'engineer' in position.lower():\n",
    "        return 'Other Engineer'\n",
    "\n",
    "    elif 'director' in position.lower():\n",
    "        return 'Director'\n",
    "    elif 'manager' in position.lower():\n",
    "        return 'Manager'\n",
    "    else:\n",
    "        return 'Other'\n",
    "    \n",
    "df['Job Categories'] = df['Job Title'].apply(job_categories)"
   ]
  },
  {
   "cell_type": "code",
   "execution_count": 18,
<<<<<<< Updated upstream
   "id": "c076f8bc",
=======
>>>>>>> Stashed changes
   "metadata": {},
   "outputs": [
    {
     "data": {
      "text/plain": [
       "Data Scientist               455\n",
       "Data Analyst                  57\n",
       "Data Engineer                 47\n",
       "Other                         46\n",
       "Machine Learning Engineer     35\n",
       "Other Engineer                16\n",
       "Manager                        7\n",
       "Software Engineer              6\n",
       "Director                       3\n",
       "Name: Job Categories, dtype: int64"
      ]
     },
     "execution_count": 18,
     "metadata": {},
     "output_type": "execute_result"
    }
   ],
   "source": [
    "df['Job Categories'].value_counts()"
   ]
  },
  {
   "cell_type": "code",
   "execution_count": 19,
<<<<<<< Updated upstream
   "id": "5bf0d842",
=======
>>>>>>> Stashed changes
   "metadata": {},
   "outputs": [],
   "source": [
    "def seniority(position):\n",
    "    if 'senior' in position.lower() or 'sr' in position.lower() or 'lead' in position.lower() or 'principal' in position.lower():\n",
    "        return \"Senior\"\n",
    "    elif 'junior' in position.lower() or 'jr' in position.lower():\n",
    "        return \"Junior\"\n",
    "    else:\n",
    "        return 'NA'\n",
    "    \n",
    "df['Seniority'] = df['Job Title'].apply(seniority)"
   ]
  },
  {
   "cell_type": "code",
   "execution_count": 20,
<<<<<<< Updated upstream
   "id": "e4573311",
=======
>>>>>>> Stashed changes
   "metadata": {},
   "outputs": [
    {
     "data": {
      "text/plain": [
       "NA        576\n",
       "Senior     94\n",
       "Junior      2\n",
       "Name: Seniority, dtype: int64"
      ]
     },
     "execution_count": 20,
     "metadata": {},
     "output_type": "execute_result"
    }
   ],
   "source": [
    "df['Seniority'].value_counts()"
   ]
  },
  {
   "cell_type": "code",
   "execution_count": 21,
<<<<<<< Updated upstream
   "id": "4b34429b",
=======
>>>>>>> Stashed changes
   "metadata": {},
   "outputs": [
    {
     "data": {
      "text/plain": [
       " CA       165\n",
       " VA        89\n",
       " MA        62\n",
       " NY        52\n",
       " MD        40\n",
       " IL        30\n",
       " DC        26\n",
       "Remote     22\n",
       " TX        17\n",
       " WA        16\n",
       " OH        14\n",
       " MO        12\n",
<<<<<<< Updated upstream
       " PA        12\n",
       " NJ        10\n",
       " CO        10\n",
       " NC         9\n",
       " GA         9\n",
       " TN         8\n",
       " FL         8\n",
       " WI         6\n",
       " OK         6\n",
       " IN         5\n",
       " MI         5\n",
       " AZ         4\n",
       " UT         4\n",
       " MN         4\n",
       " CT         4\n",
       " AL         4\n",
       " NE         3\n",
       " IA         3\n",
       " SC         2\n",
       " NH         2\n",
       " RI         2\n",
       " OR         2\n",
=======
       " CO        10\n",
       " NJ        10\n",
       " GA         9\n",
       " NC         9\n",
       " TN         8\n",
       " FL         8\n",
       " OK         6\n",
       " WI         6\n",
       " IN         5\n",
       " MI         5\n",
       " MN         4\n",
       " AZ         4\n",
       " AL         4\n",
       " CT         4\n",
       " UT         4\n",
       " IA         3\n",
       " NE         3\n",
       " SC         2\n",
       " RI         2\n",
       " OR         2\n",
       " NH         2\n",
       " DE         1\n",
       " WV         1\n",
>>>>>>> Stashed changes
       " LA         1\n",
       " KS         1\n",
<<<<<<< Updated upstream
       " DE         1\n",
       " WV         1\n",
=======
       " MS         1\n",
>>>>>>> Stashed changes
       "Name: State, dtype: int64"
      ]
     },
     "execution_count": 21,
     "metadata": {},
     "output_type": "execute_result"
    }
   ],
   "source": [
    "df['State'].value_counts()"
   ]
  },
  {
   "cell_type": "code",
   "execution_count": 22,
<<<<<<< Updated upstream
   "id": "330e6864",
=======
>>>>>>> Stashed changes
   "metadata": {},
   "outputs": [
    {
     "data": {
      "text/plain": [
       "0       441\n",
       "1       515\n",
       "2      1202\n",
       "3       430\n",
       "4       358\n",
       "       ... \n",
       "667     526\n",
       "668     156\n",
       "669     361\n",
       "670     455\n",
       "671     394\n",
       "Name: Description_Length, Length: 672, dtype: int64"
      ]
     },
     "execution_count": 22,
     "metadata": {},
     "output_type": "execute_result"
    }
   ],
   "source": [
    "#df['Description Length Original']=df['Job Description'].apply(lambda x:len(x))\n",
    "\n",
    "# note: I made it length per word instead of how many characters used, which do you think is better?\n",
    "\n",
    "df['Description_Length']=df['Job Description'].apply(lambda x: len(x.split(' ')))\n",
    "\n",
    "df['Description_Length']"
   ]
  },
  {
   "cell_type": "code",
   "execution_count": 23,
<<<<<<< Updated upstream
   "id": "1a2a041e",
=======
>>>>>>> Stashed changes
   "metadata": {},
   "outputs": [
    {
     "data": {
      "text/plain": [
       "0      3\n",
       "1      0\n",
       "2      0\n",
       "3      3\n",
       "4      3\n",
       "      ..\n",
       "667    0\n",
       "668    0\n",
       "669    0\n",
       "670    0\n",
       "671    0\n",
       "Name: Competitor Count, Length: 672, dtype: int64"
      ]
     },
     "execution_count": 23,
     "metadata": {},
     "output_type": "execute_result"
    }
   ],
   "source": [
    "df['Competitor Count']=df['Competitors'].apply(lambda x:len(x.split(',')) if x!='-1' else 0)\n",
    "df['Competitor Count']"
   ]
  },
  {
   "cell_type": "code",
<<<<<<< Updated upstream
   "execution_count": 36,
   "id": "ef2c65af",
=======
   "execution_count": 24,
>>>>>>> Stashed changes
   "metadata": {},
   "outputs": [],
   "source": [
    "# we should probably save the file as a cleaned file at this point?"
   ]
  },
  {
   "cell_type": "code",
   "execution_count": 24,
   "id": "6d4a9349",
   "metadata": {},
   "outputs": [],
   "source": [
    "df.to_csv('Cleaned_ glassdoor_dataset.csv')"
   ]
  },
  {
   "cell_type": "code",
<<<<<<< Updated upstream
   "execution_count": 37,
   "id": "b3e662d0",
=======
   "execution_count": 25,
>>>>>>> Stashed changes
   "metadata": {},
   "outputs": [],
   "source": [
    "# some data analyzation"
   ]
  },
  {
   "cell_type": "code",
<<<<<<< Updated upstream
   "execution_count": 38,
   "id": "7519f7d7",
=======
   "execution_count": 26,
>>>>>>> Stashed changes
   "metadata": {},
   "outputs": [
    {
     "data": {
      "text/plain": [
       "Index(['index', 'Job Title', 'Salary Estimate', 'Job Description', 'Rating',\n",
       "       'Company Name', 'Location', 'Headquarters', 'Size', 'Founded',\n",
       "       'Type of ownership', 'Industry', 'Sector', 'Revenue', 'Competitors',\n",
       "       'Min_Salary', 'Max_Salary', 'Avg Salary', 'State', 'Is_Headquarters',\n",
       "       'Age of Company', 'Python', 'Spark', 'AWS', 'Excel', 'Job Categories',\n",
       "       'Seniority', 'Description_Length', 'Competitor Count'],\n",
       "      dtype='object')"
      ]
     },
     "execution_count": 26,
     "metadata": {},
     "output_type": "execute_result"
    }
   ],
   "source": [
    "df.columns"
   ]
  },
  {
   "cell_type": "code",
<<<<<<< Updated upstream
   "execution_count": 39,
   "id": "51fffacf",
=======
   "execution_count": 27,
>>>>>>> Stashed changes
   "metadata": {},
   "outputs": [
    {
     "data": {
      "text/html": [
       "<div>\n",
       "<style scoped>\n",
       "    .dataframe tbody tr th:only-of-type {\n",
       "        vertical-align: middle;\n",
       "    }\n",
       "\n",
       "    .dataframe tbody tr th {\n",
       "        vertical-align: top;\n",
       "    }\n",
       "\n",
       "    .dataframe thead th {\n",
       "        text-align: right;\n",
       "    }\n",
       "</style>\n",
       "<table border=\"1\" class=\"dataframe\">\n",
       "  <thead>\n",
       "    <tr style=\"text-align: right;\">\n",
       "      <th></th>\n",
       "      <th>index</th>\n",
       "      <th>Rating</th>\n",
       "      <th>Founded</th>\n",
       "      <th>Min_Salary</th>\n",
       "      <th>Max_Salary</th>\n",
       "      <th>Avg Salary</th>\n",
       "      <th>Age of Company</th>\n",
       "      <th>Python</th>\n",
       "      <th>Spark</th>\n",
       "      <th>AWS</th>\n",
       "      <th>Excel</th>\n",
       "      <th>Description_Length</th>\n",
       "      <th>Competitor Count</th>\n",
       "    </tr>\n",
       "  </thead>\n",
       "  <tbody>\n",
       "    <tr>\n",
       "      <th>count</th>\n",
       "      <td>672.000000</td>\n",
       "      <td>672.000000</td>\n",
       "      <td>672.000000</td>\n",
       "      <td>672.000000</td>\n",
       "      <td>672.000000</td>\n",
       "      <td>672.000000</td>\n",
       "      <td>672.000000</td>\n",
       "      <td>672.000000</td>\n",
       "      <td>672.000000</td>\n",
       "      <td>672.000000</td>\n",
       "      <td>672.000000</td>\n",
       "      <td>672.000000</td>\n",
       "      <td>672.000000</td>\n",
       "    </tr>\n",
       "    <tr>\n",
       "      <th>mean</th>\n",
       "      <td>335.500000</td>\n",
       "      <td>3.875744</td>\n",
       "      <td>1635.529762</td>\n",
       "      <td>99.196429</td>\n",
       "      <td>148.130952</td>\n",
       "      <td>123.663690</td>\n",
       "      <td>31.065476</td>\n",
       "      <td>0.730655</td>\n",
       "      <td>0.281250</td>\n",
       "      <td>0.258929</td>\n",
       "      <td>0.440476</td>\n",
       "      <td>465.071429</td>\n",
       "      <td>0.700893</td>\n",
       "    </tr>\n",
       "    <tr>\n",
       "      <th>std</th>\n",
       "      <td>194.133974</td>\n",
       "      <td>0.588001</td>\n",
       "      <td>756.746640</td>\n",
       "      <td>33.009958</td>\n",
       "      <td>48.035110</td>\n",
       "      <td>39.580268</td>\n",
       "      <td>39.766853</td>\n",
       "      <td>0.443950</td>\n",
       "      <td>0.449944</td>\n",
       "      <td>0.438373</td>\n",
       "      <td>0.496814</td>\n",
       "      <td>224.199947</td>\n",
       "      <td>1.227407</td>\n",
       "    </tr>\n",
       "    <tr>\n",
       "      <th>min</th>\n",
       "      <td>0.000000</td>\n",
       "      <td>2.000000</td>\n",
       "      <td>-1.000000</td>\n",
       "      <td>31.000000</td>\n",
       "      <td>56.000000</td>\n",
       "      <td>43.500000</td>\n",
       "      <td>-1.000000</td>\n",
       "      <td>0.000000</td>\n",
       "      <td>0.000000</td>\n",
       "      <td>0.000000</td>\n",
       "      <td>0.000000</td>\n",
       "      <td>8.000000</td>\n",
       "      <td>0.000000</td>\n",
       "    </tr>\n",
       "    <tr>\n",
       "      <th>25%</th>\n",
       "      <td>167.750000</td>\n",
       "      <td>3.500000</td>\n",
       "      <td>1917.750000</td>\n",
       "      <td>79.000000</td>\n",
       "      <td>119.000000</td>\n",
       "      <td>103.000000</td>\n",
       "      <td>7.000000</td>\n",
       "      <td>0.000000</td>\n",
       "      <td>0.000000</td>\n",
       "      <td>0.000000</td>\n",
       "      <td>0.000000</td>\n",
       "      <td>316.000000</td>\n",
       "      <td>0.000000</td>\n",
       "    </tr>\n",
       "    <tr>\n",
       "      <th>50%</th>\n",
       "      <td>335.500000</td>\n",
       "      <td>3.800000</td>\n",
       "      <td>1995.000000</td>\n",
       "      <td>91.000000</td>\n",
       "      <td>133.000000</td>\n",
       "      <td>114.000000</td>\n",
       "      <td>18.000000</td>\n",
       "      <td>1.000000</td>\n",
       "      <td>0.000000</td>\n",
       "      <td>0.000000</td>\n",
       "      <td>0.000000</td>\n",
       "      <td>448.000000</td>\n",
       "      <td>0.000000</td>\n",
       "    </tr>\n",
       "    <tr>\n",
       "      <th>75%</th>\n",
       "      <td>503.250000</td>\n",
       "      <td>4.300000</td>\n",
       "      <td>2009.000000</td>\n",
       "      <td>122.000000</td>\n",
       "      <td>165.000000</td>\n",
       "      <td>136.500000</td>\n",
       "      <td>39.000000</td>\n",
       "      <td>1.000000</td>\n",
       "      <td>1.000000</td>\n",
       "      <td>1.000000</td>\n",
       "      <td>1.000000</td>\n",
       "      <td>597.000000</td>\n",
       "      <td>1.000000</td>\n",
       "    </tr>\n",
       "    <tr>\n",
       "      <th>max</th>\n",
       "      <td>671.000000</td>\n",
       "      <td>5.000000</td>\n",
       "      <td>2019.000000</td>\n",
       "      <td>212.000000</td>\n",
       "      <td>331.000000</td>\n",
       "      <td>271.500000</td>\n",
       "      <td>241.000000</td>\n",
       "      <td>1.000000</td>\n",
       "      <td>1.000000</td>\n",
       "      <td>1.000000</td>\n",
       "      <td>1.000000</td>\n",
       "      <td>1543.000000</td>\n",
       "      <td>3.000000</td>\n",
       "    </tr>\n",
       "  </tbody>\n",
       "</table>\n",
       "</div>"
      ],
      "text/plain": [
       "            index      Rating      Founded  Min_Salary  Max_Salary  \\\n",
       "count  672.000000  672.000000   672.000000  672.000000  672.000000   \n",
       "mean   335.500000    3.875744  1635.529762   99.196429  148.130952   \n",
       "std    194.133974    0.588001   756.746640   33.009958   48.035110   \n",
       "min      0.000000    2.000000    -1.000000   31.000000   56.000000   \n",
       "25%    167.750000    3.500000  1917.750000   79.000000  119.000000   \n",
       "50%    335.500000    3.800000  1995.000000   91.000000  133.000000   \n",
       "75%    503.250000    4.300000  2009.000000  122.000000  165.000000   \n",
       "max    671.000000    5.000000  2019.000000  212.000000  331.000000   \n",
       "\n",
       "       Avg Salary  Age of Company      Python       Spark         AWS  \\\n",
       "count  672.000000      672.000000  672.000000  672.000000  672.000000   \n",
       "mean   123.663690       31.065476    0.730655    0.281250    0.258929   \n",
       "std     39.580268       39.766853    0.443950    0.449944    0.438373   \n",
       "min     43.500000       -1.000000    0.000000    0.000000    0.000000   \n",
       "25%    103.000000        7.000000    0.000000    0.000000    0.000000   \n",
       "50%    114.000000       18.000000    1.000000    0.000000    0.000000   \n",
       "75%    136.500000       39.000000    1.000000    1.000000    1.000000   \n",
       "max    271.500000      241.000000    1.000000    1.000000    1.000000   \n",
       "\n",
       "            Excel  Description_Length  Competitor Count  \n",
       "count  672.000000          672.000000        672.000000  \n",
       "mean     0.440476          465.071429          0.700893  \n",
       "std      0.496814          224.199947          1.227407  \n",
       "min      0.000000            8.000000          0.000000  \n",
       "25%      0.000000          316.000000          0.000000  \n",
       "50%      0.000000          448.000000          0.000000  \n",
       "75%      1.000000          597.000000          1.000000  \n",
       "max      1.000000         1543.000000          3.000000  "
      ]
     },
     "execution_count": 27,
     "metadata": {},
     "output_type": "execute_result"
    }
   ],
   "source": [
    "df.describe()"
   ]
  },
  {
   "cell_type": "code",
<<<<<<< Updated upstream
   "execution_count": 40,
   "id": "a9266971",
=======
   "execution_count": 28,
>>>>>>> Stashed changes
   "metadata": {},
   "outputs": [
    {
     "data": {
      "text/plain": [
       "<matplotlib.axes._subplots.AxesSubplot at 0x20b123acd30>"
      ]
     },
     "execution_count": 28,
     "metadata": {},
     "output_type": "execute_result"
    },
    {
     "data": {
      "image/png": "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\n",
      "text/plain": [
       "<Figure size 432x288 with 1 Axes>"
      ]
     },
     "metadata": {
      "needs_background": "light"
     },
     "output_type": "display_data"
    }
   ],
   "source": [
    "df.Rating.hist()"
   ]
  },
  {
   "cell_type": "code",
<<<<<<< Updated upstream
   "execution_count": 41,
   "id": "4ff05f70",
=======
   "execution_count": 29,
>>>>>>> Stashed changes
   "metadata": {},
   "outputs": [
    {
     "data": {
      "text/plain": [
       "<matplotlib.axes._subplots.AxesSubplot at 0x20b12b1ba00>"
      ]
     },
     "execution_count": 29,
     "metadata": {},
     "output_type": "execute_result"
    },
    {
     "data": {
      "image/png": "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\n",
      "text/plain": [
       "<Figure size 432x288 with 1 Axes>"
      ]
     },
     "metadata": {
      "needs_background": "light"
     },
     "output_type": "display_data"
    }
   ],
   "source": [
    "df['Avg Salary'].hist()"
   ]
  },
  {
   "cell_type": "code",
<<<<<<< Updated upstream
   "execution_count": 42,
   "id": "c95c3763",
=======
   "execution_count": 30,
>>>>>>> Stashed changes
   "metadata": {},
   "outputs": [
    {
     "data": {
      "text/plain": [
       "<matplotlib.axes._subplots.AxesSubplot at 0x20b12ba0610>"
      ]
     },
     "execution_count": 30,
     "metadata": {},
     "output_type": "execute_result"
    },
    {
     "data": {
      "image/png": "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\n",
      "text/plain": [
       "<Figure size 432x288 with 1 Axes>"
      ]
     },
     "metadata": {
      "needs_background": "light"
     },
     "output_type": "display_data"
    }
   ],
   "source": [
    "df['Age of Company'].hist()"
   ]
  },
  {
   "cell_type": "code",
<<<<<<< Updated upstream
   "execution_count": 45,
   "id": "7086d85a",
=======
   "execution_count": 31,
>>>>>>> Stashed changes
   "metadata": {},
   "outputs": [
    {
     "data": {
      "text/plain": [
       "<matplotlib.axes._subplots.AxesSubplot at 0x20b12c1f220>"
      ]
     },
     "execution_count": 31,
     "metadata": {},
     "output_type": "execute_result"
    },
    {
     "data": {
      "image/png": "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\n",
      "text/plain": [
       "<Figure size 432x288 with 1 Axes>"
      ]
     },
     "metadata": {
      "needs_background": "light"
     },
     "output_type": "display_data"
    }
   ],
   "source": [
    "df.Description_Length.hist()"
   ]
  },
  {
   "cell_type": "code",
<<<<<<< Updated upstream
   "execution_count": 46,
   "id": "c8e89a00",
=======
   "execution_count": 32,
>>>>>>> Stashed changes
   "metadata": {},
   "outputs": [
    {
     "data": {
      "text/plain": [
       "<matplotlib.axes._subplots.AxesSubplot at 0x20b12c77430>"
      ]
     },
     "execution_count": 32,
     "metadata": {},
     "output_type": "execute_result"
    },
    {
     "data": {
      "image/png": "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\n",
      "text/plain": [
       "<Figure size 432x288 with 1 Axes>"
      ]
     },
     "metadata": {
      "needs_background": "light"
     },
     "output_type": "display_data"
    }
   ],
   "source": [
    "df.boxplot(column=['Age of Company','Avg Salary'])"
   ]
  },
  {
   "cell_type": "code",
<<<<<<< Updated upstream
   "execution_count": 47,
   "id": "2aabd2f7",
=======
   "execution_count": 33,
>>>>>>> Stashed changes
   "metadata": {},
   "outputs": [
    {
     "data": {
      "text/plain": [
       "<matplotlib.axes._subplots.AxesSubplot at 0x20b12cf3e20>"
      ]
     },
     "execution_count": 33,
     "metadata": {},
     "output_type": "execute_result"
    },
    {
     "data": {
      "image/png": "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\n",
      "text/plain": [
       "<Figure size 432x288 with 1 Axes>"
      ]
     },
     "metadata": {
      "needs_background": "light"
     },
     "output_type": "display_data"
    }
   ],
   "source": [
    "df.boxplot(column=['Rating'])"
   ]
  },
  {
   "cell_type": "code",
   "execution_count": null,
   "id": "92996346",
   "metadata": {},
   "outputs": [],
   "source": []
  }
 ],
 "metadata": {
  "kernelspec": {
   "display_name": "Python 3",
   "language": "python",
   "name": "python3"
  },
  "language_info": {
   "codemirror_mode": {
    "name": "ipython",
    "version": 3
   },
   "file_extension": ".py",
   "mimetype": "text/x-python",
   "name": "python",
   "nbconvert_exporter": "python",
   "pygments_lexer": "ipython3",
   "version": "3.8.8"
  }
 },
 "nbformat": 4,
 "nbformat_minor": 5
}
